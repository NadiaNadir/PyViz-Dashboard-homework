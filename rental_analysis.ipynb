{
 "cells": [
  {
   "cell_type": "markdown",
   "metadata": {},
   "source": [
    "# San Francisco Housing Cost Analysis\n",
    "\n",
    "In this assignment, you will perform fundamental analysis for the San Francisco housing market to allow potential real estate investors to choose rental investment properties."
   ]
  },
  {
   "cell_type": "code",
   "execution_count": 80,
   "metadata": {},
   "outputs": [],
   "source": [
    "# imports\n",
    "import panel as pn\n",
    "pn.extension('plotly')\n",
    "import plotly.express as px\n",
    "import pandas as pd\n",
    "import hvplot.pandas\n",
    "import matplotlib.pyplot as plt\n",
    "import numpy as np\n",
    "import os\n",
    "from pathlib import Path\n",
    "from dotenv import load_dotenv\n",
    "\n",
    "import warnings\n",
    "warnings.filterwarnings('ignore')"
   ]
  },
  {
   "cell_type": "code",
   "execution_count": 103,
   "metadata": {},
   "outputs": [],
   "source": [
    "# Read the Mapbox API key\n",
    "\n",
    "map_box_api = 'pk.eyJ1IjoicmFoZWVsMTIzNDUiLCJhIjoiY2t1bGs1dmN0M2l5eTJ3cTY2MGF3eXlnMSJ9.0TL-7ot9LOLneEJKBG309w'\n",
    "\n"
   ]
  },
  {
   "cell_type": "markdown",
   "metadata": {},
   "source": [
    "## Load Data"
   ]
  },
  {
   "cell_type": "code",
   "execution_count": 82,
   "metadata": {},
   "outputs": [
    {
     "data": {
      "text/html": [
       "<div>\n",
       "<style scoped>\n",
       "    .dataframe tbody tr th:only-of-type {\n",
       "        vertical-align: middle;\n",
       "    }\n",
       "\n",
       "    .dataframe tbody tr th {\n",
       "        vertical-align: top;\n",
       "    }\n",
       "\n",
       "    .dataframe thead th {\n",
       "        text-align: right;\n",
       "    }\n",
       "</style>\n",
       "<table border=\"1\" class=\"dataframe\">\n",
       "  <thead>\n",
       "    <tr style=\"text-align: right;\">\n",
       "      <th></th>\n",
       "      <th>neighborhood</th>\n",
       "      <th>sale_price_sqr_foot</th>\n",
       "      <th>housing_units</th>\n",
       "      <th>gross_rent</th>\n",
       "    </tr>\n",
       "    <tr>\n",
       "      <th>year</th>\n",
       "      <th></th>\n",
       "      <th></th>\n",
       "      <th></th>\n",
       "      <th></th>\n",
       "    </tr>\n",
       "  </thead>\n",
       "  <tbody>\n",
       "    <tr>\n",
       "      <th>2010</th>\n",
       "      <td>Alamo Square</td>\n",
       "      <td>291.182945</td>\n",
       "      <td>372560</td>\n",
       "      <td>1239</td>\n",
       "    </tr>\n",
       "    <tr>\n",
       "      <th>2010</th>\n",
       "      <td>Anza Vista</td>\n",
       "      <td>267.932583</td>\n",
       "      <td>372560</td>\n",
       "      <td>1239</td>\n",
       "    </tr>\n",
       "    <tr>\n",
       "      <th>2010</th>\n",
       "      <td>Bayview</td>\n",
       "      <td>170.098665</td>\n",
       "      <td>372560</td>\n",
       "      <td>1239</td>\n",
       "    </tr>\n",
       "    <tr>\n",
       "      <th>2010</th>\n",
       "      <td>Buena Vista Park</td>\n",
       "      <td>347.394919</td>\n",
       "      <td>372560</td>\n",
       "      <td>1239</td>\n",
       "    </tr>\n",
       "    <tr>\n",
       "      <th>2010</th>\n",
       "      <td>Central Richmond</td>\n",
       "      <td>319.027623</td>\n",
       "      <td>372560</td>\n",
       "      <td>1239</td>\n",
       "    </tr>\n",
       "  </tbody>\n",
       "</table>\n",
       "</div>"
      ],
      "text/plain": [
       "          neighborhood  sale_price_sqr_foot  housing_units  gross_rent\n",
       "year                                                                  \n",
       "2010      Alamo Square           291.182945         372560        1239\n",
       "2010        Anza Vista           267.932583         372560        1239\n",
       "2010           Bayview           170.098665         372560        1239\n",
       "2010  Buena Vista Park           347.394919         372560        1239\n",
       "2010  Central Richmond           319.027623         372560        1239"
      ]
     },
     "execution_count": 82,
     "metadata": {},
     "output_type": "execute_result"
    }
   ],
   "source": [
    "# Read the census data into a Pandas DataFrame\n",
    "# Providing the path of the csv file and reading the file.\n",
    "file_path = Path(\"Data/sfo_neighborhoods_census_data.csv\")\n",
    "sfo_data = pd.read_csv(file_path, index_col=\"year\")\n",
    "sfo_data.head()"
   ]
  },
  {
   "cell_type": "markdown",
   "metadata": {},
   "source": [
    "- - - "
   ]
  },
  {
   "cell_type": "markdown",
   "metadata": {},
   "source": [
    "## Housing Units Per Year\n",
    "\n",
    "In this section, you will calculate the number of housing units per year and visualize the results as a bar chart using the Pandas plot function.\n",
    "\n",
    "**Hint:** Use the Pandas `groupby` function.\n",
    "\n",
    "**Optional challenge:** Use the min, max, and std to scale the y limits of the chart.\n",
    "\n"
   ]
  },
  {
   "cell_type": "code",
   "execution_count": 83,
   "metadata": {},
   "outputs": [],
   "source": [
    "# Calculate the mean number of housing units per year (hint: use groupby) \n",
    "# Finding the mean of housing units per year by grouping data.\n",
    "dataframe_house_unit = sfo_data[\"housing_units\"].groupby(sfo_data.index).mean()\n"
   ]
  },
  {
   "cell_type": "code",
   "execution_count": 84,
   "metadata": {},
   "outputs": [],
   "source": [
    "# Save the dataframe as a csv file\n",
    "# Saving the dataframe into the csv file.\n",
    "dataframe_house_unit.to_csv('Data/housing_per_year.csv', header=False)"
   ]
  },
  {
   "cell_type": "code",
   "execution_count": 85,
   "metadata": {},
   "outputs": [
    {
     "data": {
      "image/png": "[encoded data removed]",
      "text/plain": [
       "<Figure size 432x288 with 1 Axes>"
      ]
     },
     "metadata": {
      "needs_background": "light"
     },
     "output_type": "display_data"
    }
   ],
   "source": [
    "# Use the Pandas plot function to plot the average housing units per year.\n",
    "# Note: You will need to manually adjust the y limit of the chart using the min and max values from above.\n",
    "# Plotting the average housing unit per year using bar plot.\n",
    "figure_house_units = plt.figure()\n",
    "plot_house_units = dataframe_house_unit.plot.bar()\n",
    "plot_house_units.set_xlabel(\"Year\", fontsize=12)\n",
    "plot_house_units.set_ylabel(\"Housing Units\", fontsize=12)\n",
    "plot_house_units.set_title(\n",
    "    \"Housing Units in San Francisco from 2010 to 2016\", fontsize=14, fontweight=\"bold\"\n",
    ")\n",
    "\n",
    "# Optional Challenge: Use the min, max, and std to scale the y limits of the chart\n",
    "house_unit_std = dataframe_house_unit.std()\n",
    "minimum_house_unit = min(dataframe_house_unit)\n",
    "Maximum_house_unit= max(dataframe_house_unit)\n",
    "\n",
    "plot_house_units.set_ylim(\n",
    "    minimum_house_unit - house_unit_std, Maximum_house_unit+ house_unit_std\n",
    ")\n",
    "plt.show()\n",
    "plt.close(figure_house_units)"
   ]
  },
  {
   "cell_type": "markdown",
   "metadata": {},
   "source": [
    "- - - "
   ]
  },
  {
   "cell_type": "markdown",
   "metadata": {},
   "source": [
    "## Average Housing Costs in San Francisco Per Year\n",
    "\n",
    "In this section, you will calculate the average monthly rent and the average price per square foot for each year. An investor may wish to better understand the sales price of the rental property over time. For example, a customer will want to know if they should expect an increase or decrease in the property value over time so they can determine how long to hold the rental property.  Plot the results as two line charts.\n",
    "\n",
    "**Optional challenge:** Plot each line chart in a different color."
   ]
  },
  {
   "cell_type": "code",
   "execution_count": 86,
   "metadata": {},
   "outputs": [
    {
     "data": {
      "text/html": [
       "<div>\n",
       "<style scoped>\n",
       "    .dataframe tbody tr th:only-of-type {\n",
       "        vertical-align: middle;\n",
       "    }\n",
       "\n",
       "    .dataframe tbody tr th {\n",
       "        vertical-align: top;\n",
       "    }\n",
       "\n",
       "    .dataframe thead th {\n",
       "        text-align: right;\n",
       "    }\n",
       "</style>\n",
       "<table border=\"1\" class=\"dataframe\">\n",
       "  <thead>\n",
       "    <tr style=\"text-align: right;\">\n",
       "      <th></th>\n",
       "      <th>sale_price_sqr_foot</th>\n",
       "      <th>gross_rent</th>\n",
       "    </tr>\n",
       "    <tr>\n",
       "      <th>year</th>\n",
       "      <th></th>\n",
       "      <th></th>\n",
       "    </tr>\n",
       "  </thead>\n",
       "  <tbody>\n",
       "    <tr>\n",
       "      <th>2010</th>\n",
       "      <td>369.344353</td>\n",
       "      <td>1239.0</td>\n",
       "    </tr>\n",
       "    <tr>\n",
       "      <th>2011</th>\n",
       "      <td>341.903429</td>\n",
       "      <td>1530.0</td>\n",
       "    </tr>\n",
       "    <tr>\n",
       "      <th>2012</th>\n",
       "      <td>399.389968</td>\n",
       "      <td>2324.0</td>\n",
       "    </tr>\n",
       "    <tr>\n",
       "      <th>2013</th>\n",
       "      <td>483.600304</td>\n",
       "      <td>2971.0</td>\n",
       "    </tr>\n",
       "    <tr>\n",
       "      <th>2014</th>\n",
       "      <td>556.277273</td>\n",
       "      <td>3528.0</td>\n",
       "    </tr>\n",
       "    <tr>\n",
       "      <th>2015</th>\n",
       "      <td>632.540352</td>\n",
       "      <td>3739.0</td>\n",
       "    </tr>\n",
       "    <tr>\n",
       "      <th>2016</th>\n",
       "      <td>697.643709</td>\n",
       "      <td>4390.0</td>\n",
       "    </tr>\n",
       "  </tbody>\n",
       "</table>\n",
       "</div>"
      ],
      "text/plain": [
       "      sale_price_sqr_foot  gross_rent\n",
       "year                                 \n",
       "2010           369.344353      1239.0\n",
       "2011           341.903429      1530.0\n",
       "2012           399.389968      2324.0\n",
       "2013           483.600304      2971.0\n",
       "2014           556.277273      3528.0\n",
       "2015           632.540352      3739.0\n",
       "2016           697.643709      4390.0"
      ]
     },
     "execution_count": 86,
     "metadata": {},
     "output_type": "execute_result"
    }
   ],
   "source": [
    "# Calculate the average sale price per square foot and average gross rent\n",
    "# Calaculating the average sales price per year and the average gross rent per year and extracting sale_price_sqr_foot and gross_rent columns from census dataframe.\n",
    "dataframe_avg_costs = (\n",
    "    sfo_data[[\"sale_price_sqr_foot\", \"gross_rent\"]]\n",
    "    .groupby(sfo_data.index)\n",
    "    .mean()\n",
    ")\n",
    "dataframe_avg_costs"
   ]
  },
  {
   "cell_type": "code",
   "execution_count": 87,
   "metadata": {},
   "outputs": [
    {
     "data": {
      "image/png": "[encoded data removed]",
      "text/plain": [
       "<Figure size 432x288 with 1 Axes>"
      ]
     },
     "metadata": {
      "needs_background": "light"
     },
     "output_type": "display_data"
    },
    {
     "data": {
      "image/png": "[encoded data removed]",
      "text/plain": [
       "<Figure size 432x288 with 1 Axes>"
      ]
     },
     "metadata": {
      "needs_background": "light"
     },
     "output_type": "display_data"
    }
   ],
   "source": [
    "# Create two line charts, one to plot the average sale price per square foot and another for average montly rent\n",
    "# Line chart for average sale price per square foot\n",
    "# Plotting the line chart for average peice per square feet by year.\n",
    "fig_avg_sale_price = plt.figure()\n",
    "plot_average_sale = dataframe_avg_costs[\"sale_price_sqr_foot\"].plot()\n",
    "plot_average_sale.set_xlabel(\"Year\", fontsize=12)\n",
    "plot_average_sale.set_ylabel(\"Avg. Sale Price\", fontsize=12)\n",
    "plot_average_sale.set_title(\n",
    "    \"Average Price per SqFt by Year\",\n",
    "    fontsize=14,\n",
    "    fontweight=\"bold\",\n",
    ")\n",
    "plt.show()\n",
    "plt.close(fig_avg_sale_price)\n",
    "\n",
    "\n",
    "# Line chart for average montly rent\n",
    "# Plotting the line chart for average gross rent by year.\n",
    "fig_avg_gross_rent = plt.figure()\n",
    "plot_average_rent = dataframe_avg_costs[\"gross_rent\"].plot()\n",
    "plot_average_rent.set_xlabel(\"Year\", fontsize=12)\n",
    "plot_average_rent.set_ylabel(\"Gross Rent\", fontsize=12)\n",
    "plot_average_rent.set_title(\n",
    "    \"Average Gross Rent by year\", fontsize=14, fontweight=\"bold\"\n",
    ")\n",
    "plt.show()\n",
    "plt.close(fig_avg_gross_rent)"
   ]
  },
  {
   "cell_type": "markdown",
   "metadata": {},
   "source": [
    "- - - "
   ]
  },
  {
   "cell_type": "markdown",
   "metadata": {},
   "source": [
    "## Average Prices by Neighborhood\n",
    "\n",
    "In this section, you will use hvplot to create two interactive visulizations of average prices with a dropdown selector for the neighborhood. The first visualization will be a line plot showing the trend of average price per square foot over time for each neighborhood.  The second will be a line plot showing the trend of average montly rent over time for each neighborhood.\n",
    "\n",
    "**Hint:** It will be easier to create a new DataFrame from grouping the data and calculating the mean prices for each year and neighborhood"
   ]
  },
  {
   "cell_type": "code",
   "execution_count": 88,
   "metadata": {},
   "outputs": [
    {
     "data": {
      "text/html": [
       "<div>\n",
       "<style scoped>\n",
       "    .dataframe tbody tr th:only-of-type {\n",
       "        vertical-align: middle;\n",
       "    }\n",
       "\n",
       "    .dataframe tbody tr th {\n",
       "        vertical-align: top;\n",
       "    }\n",
       "\n",
       "    .dataframe thead th {\n",
       "        text-align: right;\n",
       "    }\n",
       "</style>\n",
       "<table border=\"1\" class=\"dataframe\">\n",
       "  <thead>\n",
       "    <tr style=\"text-align: right;\">\n",
       "      <th></th>\n",
       "      <th>year</th>\n",
       "      <th>neighborhood</th>\n",
       "      <th>sale_price_sqr_foot</th>\n",
       "      <th>housing_units</th>\n",
       "      <th>gross_rent</th>\n",
       "    </tr>\n",
       "  </thead>\n",
       "  <tbody>\n",
       "    <tr>\n",
       "      <th>0</th>\n",
       "      <td>2010</td>\n",
       "      <td>Alamo Square</td>\n",
       "      <td>291.182945</td>\n",
       "      <td>372560.0</td>\n",
       "      <td>1239.0</td>\n",
       "    </tr>\n",
       "    <tr>\n",
       "      <th>1</th>\n",
       "      <td>2010</td>\n",
       "      <td>Anza Vista</td>\n",
       "      <td>267.932583</td>\n",
       "      <td>372560.0</td>\n",
       "      <td>1239.0</td>\n",
       "    </tr>\n",
       "    <tr>\n",
       "      <th>2</th>\n",
       "      <td>2010</td>\n",
       "      <td>Bayview</td>\n",
       "      <td>170.098665</td>\n",
       "      <td>372560.0</td>\n",
       "      <td>1239.0</td>\n",
       "    </tr>\n",
       "    <tr>\n",
       "      <th>3</th>\n",
       "      <td>2010</td>\n",
       "      <td>Buena Vista Park</td>\n",
       "      <td>347.394919</td>\n",
       "      <td>372560.0</td>\n",
       "      <td>1239.0</td>\n",
       "    </tr>\n",
       "    <tr>\n",
       "      <th>4</th>\n",
       "      <td>2010</td>\n",
       "      <td>Central Richmond</td>\n",
       "      <td>319.027623</td>\n",
       "      <td>372560.0</td>\n",
       "      <td>1239.0</td>\n",
       "    </tr>\n",
       "    <tr>\n",
       "      <th>5</th>\n",
       "      <td>2010</td>\n",
       "      <td>Central Sunset</td>\n",
       "      <td>418.172493</td>\n",
       "      <td>372560.0</td>\n",
       "      <td>1239.0</td>\n",
       "    </tr>\n",
       "    <tr>\n",
       "      <th>6</th>\n",
       "      <td>2010</td>\n",
       "      <td>Corona Heights</td>\n",
       "      <td>369.359338</td>\n",
       "      <td>372560.0</td>\n",
       "      <td>1239.0</td>\n",
       "    </tr>\n",
       "    <tr>\n",
       "      <th>7</th>\n",
       "      <td>2010</td>\n",
       "      <td>Cow Hollow</td>\n",
       "      <td>569.379968</td>\n",
       "      <td>372560.0</td>\n",
       "      <td>1239.0</td>\n",
       "    </tr>\n",
       "    <tr>\n",
       "      <th>8</th>\n",
       "      <td>2010</td>\n",
       "      <td>Croker Amazon</td>\n",
       "      <td>165.645730</td>\n",
       "      <td>372560.0</td>\n",
       "      <td>1239.0</td>\n",
       "    </tr>\n",
       "    <tr>\n",
       "      <th>9</th>\n",
       "      <td>2010</td>\n",
       "      <td>Diamond Heights</td>\n",
       "      <td>456.930822</td>\n",
       "      <td>372560.0</td>\n",
       "      <td>1239.0</td>\n",
       "    </tr>\n",
       "  </tbody>\n",
       "</table>\n",
       "</div>"
      ],
      "text/plain": [
       "   year      neighborhood  sale_price_sqr_foot  housing_units  gross_rent\n",
       "0  2010      Alamo Square           291.182945       372560.0      1239.0\n",
       "1  2010        Anza Vista           267.932583       372560.0      1239.0\n",
       "2  2010           Bayview           170.098665       372560.0      1239.0\n",
       "3  2010  Buena Vista Park           347.394919       372560.0      1239.0\n",
       "4  2010  Central Richmond           319.027623       372560.0      1239.0\n",
       "5  2010    Central Sunset           418.172493       372560.0      1239.0\n",
       "6  2010    Corona Heights           369.359338       372560.0      1239.0\n",
       "7  2010        Cow Hollow           569.379968       372560.0      1239.0\n",
       "8  2010     Croker Amazon           165.645730       372560.0      1239.0\n",
       "9  2010   Diamond Heights           456.930822       372560.0      1239.0"
      ]
     },
     "execution_count": 88,
     "metadata": {},
     "output_type": "execute_result"
    }
   ],
   "source": [
    "# Group by year and neighborhood and then create a new dataframe of the mean values\n",
    "# Grouping data on the basis of year and neighborhood and then finding the mean values and creating it's dataframe.\n",
    "dataframe_cost = sfo_data.groupby([sfo_data.index, \"neighborhood\"]).mean()\n",
    "dataframe_cost.reset_index(inplace=True)\n",
    "dataframe_cost.rename(columns={\"level_0\": \"year\"}, inplace=True)\n",
    "dataframe_cost.head(10)"
   ]
  },
  {
   "cell_type": "code",
   "execution_count": 89,
   "metadata": {},
   "outputs": [
    {
     "data": {
      "application/vnd.jupyter.widget-view+json": {
       "model_id": "34ab83e1de3c4429a664b87f8d47939d",
       "version_major": 2,
       "version_minor": 0
      },
      "text/plain": [
       "BokehModel(combine_events=True, render_bundle={'docs_json': {'2fe95e4a-2a93-4a02-9eb1-6eb83feb1feb': {'defs': …"
      ]
     },
     "metadata": {},
     "output_type": "display_data"
    },
    {
     "data": {
      "text/html": [
       "<div style=\"display: none\"></div>"
      ],
      "text/plain": [
       ":DynamicMap   [neighborhood]\n",
       "   :Curve   [year]   (sale_price_sqr_foot)"
      ]
     },
     "execution_count": 89,
     "metadata": {},
     "output_type": "execute_result"
    }
   ],
   "source": [
    "# Use hvplot to create an interactive line chart of the average price per sq ft.\n",
    "# The plot should have a dropdown selector for the neighborhood\n",
    "# Creating the line chart of average price per sq ft with neighborhood selector dropdown.\n",
    "dataframe_cost.hvplot.line(\n",
    "    \"year\",\n",
    "    \"sale_price_sqr_foot\",\n",
    "    xlabel=\"Year\",\n",
    "    ylabel=\"Avg. Sale Price per Square Foot\",\n",
    "    groupby=\"neighborhood\",\n",
    ")"
   ]
  },
  {
   "cell_type": "code",
   "execution_count": 90,
   "metadata": {},
   "outputs": [
    {
     "data": {
      "application/vnd.jupyter.widget-view+json": {
       "model_id": "f79201cdc113419b996c86a0b23e3de9",
       "version_major": 2,
       "version_minor": 0
      },
      "text/plain": [
       "BokehModel(combine_events=True, render_bundle={'docs_json': {'6af29677-0a5b-46ce-9a2a-53430481e49f': {'defs': …"
      ]
     },
     "metadata": {},
     "output_type": "display_data"
    },
    {
     "data": {
      "text/html": [
       "<div style=\"display: none\"></div>"
      ],
      "text/plain": [
       ":DynamicMap   [neighborhood]\n",
       "   :Curve   [year]   (gross_rent)"
      ]
     },
     "execution_count": 90,
     "metadata": {},
     "output_type": "execute_result"
    }
   ],
   "source": [
    "# Use hvplot to create an interactive line chart of the average monthly rent.\n",
    "# The plot should have a dropdown selector for the neighborhood\n",
    "# Creating the line chart of average monthly rent with neighborhood selector dropdown.\n",
    "dataframe_cost.hvplot.line(\n",
    "    \"year\",\n",
    "    \"gross_rent\",\n",
    "    xlabel=\"Year\",\n",
    "    ylabel=\"Avg. monthly rent\",\n",
    "    groupby=\"neighborhood\",\n",
    ")\n"
   ]
  },
  {
   "cell_type": "markdown",
   "metadata": {},
   "source": [
    "## The Top 10 Most Expensive Neighborhoods\n",
    "\n",
    "In this section, you will need to calculate the mean sale price per square foot for each neighborhood and then sort the values to obtain the top 10 most expensive neighborhoods on average. Plot the results as a bar chart."
   ]
  },
  {
   "cell_type": "code",
   "execution_count": 91,
   "metadata": {},
   "outputs": [
    {
     "data": {
      "text/html": [
       "<div>\n",
       "<style scoped>\n",
       "    .dataframe tbody tr th:only-of-type {\n",
       "        vertical-align: middle;\n",
       "    }\n",
       "\n",
       "    .dataframe tbody tr th {\n",
       "        vertical-align: top;\n",
       "    }\n",
       "\n",
       "    .dataframe thead th {\n",
       "        text-align: right;\n",
       "    }\n",
       "</style>\n",
       "<table border=\"1\" class=\"dataframe\">\n",
       "  <thead>\n",
       "    <tr style=\"text-align: right;\">\n",
       "      <th></th>\n",
       "      <th>neighborhood</th>\n",
       "      <th>sale_price_sqr_foot</th>\n",
       "      <th>housing_units</th>\n",
       "      <th>gross_rent</th>\n",
       "    </tr>\n",
       "  </thead>\n",
       "  <tbody>\n",
       "    <tr>\n",
       "      <th>0</th>\n",
       "      <td>Union Square District</td>\n",
       "      <td>903.993258</td>\n",
       "      <td>377427.50</td>\n",
       "      <td>2555.166667</td>\n",
       "    </tr>\n",
       "    <tr>\n",
       "      <th>1</th>\n",
       "      <td>Merced Heights</td>\n",
       "      <td>788.844818</td>\n",
       "      <td>380348.00</td>\n",
       "      <td>3414.000000</td>\n",
       "    </tr>\n",
       "    <tr>\n",
       "      <th>2</th>\n",
       "      <td>Miraloma Park</td>\n",
       "      <td>779.810842</td>\n",
       "      <td>375967.25</td>\n",
       "      <td>2155.250000</td>\n",
       "    </tr>\n",
       "    <tr>\n",
       "      <th>3</th>\n",
       "      <td>Pacific Heights</td>\n",
       "      <td>689.555817</td>\n",
       "      <td>378401.00</td>\n",
       "      <td>2817.285714</td>\n",
       "    </tr>\n",
       "    <tr>\n",
       "      <th>4</th>\n",
       "      <td>Westwood Park</td>\n",
       "      <td>687.087575</td>\n",
       "      <td>382295.00</td>\n",
       "      <td>3959.000000</td>\n",
       "    </tr>\n",
       "    <tr>\n",
       "      <th>5</th>\n",
       "      <td>Telegraph Hill</td>\n",
       "      <td>676.506578</td>\n",
       "      <td>378401.00</td>\n",
       "      <td>2817.285714</td>\n",
       "    </tr>\n",
       "    <tr>\n",
       "      <th>6</th>\n",
       "      <td>Presidio Heights</td>\n",
       "      <td>675.350212</td>\n",
       "      <td>378401.00</td>\n",
       "      <td>2817.285714</td>\n",
       "    </tr>\n",
       "    <tr>\n",
       "      <th>7</th>\n",
       "      <td>Cow Hollow</td>\n",
       "      <td>665.964042</td>\n",
       "      <td>378401.00</td>\n",
       "      <td>2817.285714</td>\n",
       "    </tr>\n",
       "    <tr>\n",
       "      <th>8</th>\n",
       "      <td>Potrero Hill</td>\n",
       "      <td>662.013613</td>\n",
       "      <td>378401.00</td>\n",
       "      <td>2817.285714</td>\n",
       "    </tr>\n",
       "    <tr>\n",
       "      <th>9</th>\n",
       "      <td>South Beach</td>\n",
       "      <td>650.124479</td>\n",
       "      <td>375805.00</td>\n",
       "      <td>2099.000000</td>\n",
       "    </tr>\n",
       "  </tbody>\n",
       "</table>\n",
       "</div>"
      ],
      "text/plain": [
       "            neighborhood  sale_price_sqr_foot  housing_units   gross_rent\n",
       "0  Union Square District           903.993258      377427.50  2555.166667\n",
       "1         Merced Heights           788.844818      380348.00  3414.000000\n",
       "2          Miraloma Park           779.810842      375967.25  2155.250000\n",
       "3        Pacific Heights           689.555817      378401.00  2817.285714\n",
       "4          Westwood Park           687.087575      382295.00  3959.000000\n",
       "5         Telegraph Hill           676.506578      378401.00  2817.285714\n",
       "6       Presidio Heights           675.350212      378401.00  2817.285714\n",
       "7             Cow Hollow           665.964042      378401.00  2817.285714\n",
       "8           Potrero Hill           662.013613      378401.00  2817.285714\n",
       "9            South Beach           650.124479      375805.00  2099.000000"
      ]
     },
     "execution_count": 91,
     "metadata": {},
     "output_type": "execute_result"
    }
   ],
   "source": [
    "# Getting the data from the top 10 expensive neighborhoods to own\n",
    "# Grouping the data on the basis of neighborhood and finding it;s mean and sort the values.\n",
    "dataframe_exp_neighbor = sfo_data.groupby(by=\"neighborhood\").mean()\n",
    "dataframe_exp_neighbor = dataframe_exp_neighbor.sort_values(\n",
    "    by=\"sale_price_sqr_foot\", ascending=False\n",
    ").head(10)\n",
    "dataframe_exp_neighbor = dataframe_exp_neighbor.reset_index()\n",
    "dataframe_exp_neighbor"
   ]
  },
  {
   "cell_type": "code",
   "execution_count": 92,
   "metadata": {},
   "outputs": [
    {
     "data": {},
     "metadata": {},
     "output_type": "display_data"
    },
    {
     "data": {
      "application/vnd.holoviews_exec.v0+json": "",
      "text/html": [
       "<div id='20950'>\n",
       "\n",
       "\n",
       "\n",
       "\n",
       "\n",
       "  <div class=\"bk-root\" id=\"27ff4b83-24c6-448d-bea2-e0a49818a581\" data-root-id=\"20950\"></div>\n",
       "</div>\n",
       "<script type=\"application/javascript\">(function(root) {\n",
       "  function embed_document(root) {\n",
       "    var docs_json = {\"7a06c4dd-4f28-406d-969e-8c4455cdf447\":{\"defs\":[{\"extends\":null,\"module\":null,\"name\":\"ReactiveHTML1\",\"overrides\":[],\"properties\":[]},{\"extends\":null,\"module\":null,\"name\":\"FlexBox1\",\"overrides\":[],\"properties\":[{\"default\":\"flex-start\",\"kind\":null,\"name\":\"align_content\"},{\"default\":\"flex-start\",\"kind\":null,\"name\":\"align_items\"},{\"default\":\"row\",\"kind\":null,\"name\":\"flex_direction\"},{\"default\":\"wrap\",\"kind\":null,\"name\":\"flex_wrap\"},{\"default\":\"flex-start\",\"kind\":null,\"name\":\"justify_content\"}]},{\"extends\":null,\"module\":null,\"name\":\"TemplateActions1\",\"overrides\":[],\"properties\":[{\"default\":0,\"kind\":null,\"name\":\"open_modal\"},{\"default\":0,\"kind\":null,\"name\":\"close_modal\"}]},{\"extends\":null,\"module\":null,\"name\":\"MaterialTemplateActions1\",\"overrides\":[],\"properties\":[{\"default\":0,\"kind\":null,\"name\":\"open_modal\"},{\"default\":0,\"kind\":null,\"name\":\"close_modal\"}]}],\"roots\":{\"references\":[{\"attributes\":{\"source\":{\"id\":\"20984\"}},\"id\":\"20991\",\"type\":\"CDSView\"},{\"attributes\":{\"overlay\":{\"id\":\"20976\"}},\"id\":\"20974\",\"type\":\"BoxZoomTool\"},{\"attributes\":{},\"id\":\"20975\",\"type\":\"ResetTool\"},{\"attributes\":{\"bottom_units\":\"screen\",\"coordinates\":null,\"fill_alpha\":0.5,\"fill_color\":\"lightgrey\",\"group\":null,\"left_units\":\"screen\",\"level\":\"overlay\",\"line_alpha\":1.0,\"line_color\":\"black\",\"line_dash\":[4,4],\"line_width\":2,\"right_units\":\"screen\",\"syncable\":false,\"top_units\":\"screen\"},\"id\":\"20976\",\"type\":\"BoxAnnotation\"},{\"attributes\":{\"bottom\":{\"value\":0},\"fill_alpha\":{\"value\":1.0},\"fill_color\":{\"value\":\"#30a2da\"},\"hatch_alpha\":{\"value\":1.0},\"hatch_color\":{\"value\":\"#30a2da\"},\"hatch_scale\":{\"value\":12.0},\"hatch_weight\":{\"value\":1.0},\"line_alpha\":{\"value\":1.0},\"line_cap\":{\"value\":\"butt\"},\"line_color\":{\"value\":\"black\"},\"line_dash\":{\"value\":[]},\"line_dash_offset\":{\"value\":0},\"line_join\":{\"value\":\"bevel\"},\"line_width\":{\"value\":1},\"top\":{\"field\":\"sale_price_sqr_foot\"},\"width\":{\"value\":0.8},\"x\":{\"field\":\"neighborhood\"}},\"id\":\"20992\",\"type\":\"VBar\"},{\"attributes\":{},\"id\":\"20960\",\"type\":\"CategoricalScale\"},{\"attributes\":{},\"id\":\"20995\",\"type\":\"AllLabels\"},{\"attributes\":{\"children\":[{\"id\":\"20951\"},{\"id\":\"20955\"},{\"id\":\"21019\"}],\"margin\":[0,0,0,0],\"name\":\"Row14844\",\"tags\":[\"embedded\"]},\"id\":\"20950\",\"type\":\"Row\"},{\"attributes\":{\"tools\":[{\"id\":\"20954\"},{\"id\":\"20971\"},{\"id\":\"20972\"},{\"id\":\"20973\"},{\"id\":\"20974\"},{\"id\":\"20975\"}]},\"id\":\"20977\",\"type\":\"Toolbar\"},{\"attributes\":{\"margin\":[5,5,5,5],\"name\":\"HSpacer14848\",\"sizing_mode\":\"stretch_width\"},\"id\":\"20951\",\"type\":\"Spacer\"},{\"attributes\":{\"margin\":[5,5,5,5],\"name\":\"HSpacer14849\",\"sizing_mode\":\"stretch_width\"},\"id\":\"21019\",\"type\":\"Spacer\"},{\"attributes\":{\"end\":929.3801355198136,\"reset_end\":929.3801355198136,\"reset_start\":0.0,\"tags\":[[[\"sale_price_sqr_foot\",\"sale_price_sqr_foot\",null]]]},\"id\":\"20953\",\"type\":\"Range1d\"},{\"attributes\":{},\"id\":\"20985\",\"type\":\"Selection\"},{\"attributes\":{\"below\":[{\"id\":\"20964\"}],\"center\":[{\"id\":\"20966\"},{\"id\":\"20970\"}],\"height\":400,\"left\":[{\"id\":\"20967\"}],\"margin\":[5,5,5,5],\"min_border_bottom\":10,\"min_border_left\":10,\"min_border_right\":10,\"min_border_top\":10,\"renderers\":[{\"id\":\"20990\"}],\"sizing_mode\":\"fixed\",\"title\":{\"id\":\"20956\"},\"toolbar\":{\"id\":\"20977\"},\"width\":700,\"x_range\":{\"id\":\"20952\"},\"x_scale\":{\"id\":\"20960\"},\"y_range\":{\"id\":\"20953\"},\"y_scale\":{\"id\":\"20962\"}},\"id\":\"20955\",\"subtype\":\"Figure\",\"type\":\"Plot\"},{\"attributes\":{\"coordinates\":null,\"group\":null,\"text\":\"Top 10 Expensive Neighborhoods in SFO\",\"text_color\":\"black\",\"text_font_size\":\"12pt\"},\"id\":\"20956\",\"type\":\"Title\"},{\"attributes\":{\"coordinates\":null,\"data_source\":{\"id\":\"20984\"},\"glyph\":{\"id\":\"20987\"},\"group\":null,\"hover_glyph\":null,\"muted_glyph\":{\"id\":\"20989\"},\"nonselection_glyph\":{\"id\":\"20988\"},\"selection_glyph\":{\"id\":\"20992\"},\"view\":{\"id\":\"20991\"}},\"id\":\"20990\",\"type\":\"GlyphRenderer\"},{\"attributes\":{\"fill_color\":{\"value\":\"#30a2da\"},\"hatch_color\":{\"value\":\"#30a2da\"},\"top\":{\"field\":\"sale_price_sqr_foot\"},\"width\":{\"value\":0.8},\"x\":{\"field\":\"neighborhood\"}},\"id\":\"20987\",\"type\":\"VBar\"},{\"attributes\":{\"callback\":null,\"renderers\":[{\"id\":\"20990\"}],\"tags\":[\"hv_created\"],\"tooltips\":[[\"neighborhood\",\"@{neighborhood}\"],[\"sale_price_sqr_foot\",\"@{sale_price_sqr_foot}\"]]},\"id\":\"20954\",\"type\":\"HoverTool\"},{\"attributes\":{\"data\":{\"neighborhood\":[\"Union Square District\",\"Merced Heights\",\"Miraloma Park\",\"Pacific Heights\",\"Westwood Park\",\"Telegraph Hill\",\"Presidio Heights\",\"Cow Hollow\",\"Potrero Hill\",\"South Beach\"],\"sale_price_sqr_foot\":{\"__ndarray__\":\"JRAUMfI/jEB9IrkvwqaIQFx/3pp8XohAFpsVUHKMhUBr0ERas3iFQL0KhXgNJIVAy835O80ahUALV25bts+EQJrMCuEbsIRAya3y7v5QhEA=\",\"dtype\":\"float64\",\"order\":\"little\",\"shape\":[10]}},\"selected\":{\"id\":\"20985\"},\"selection_policy\":{\"id\":\"21006\"}},\"id\":\"20984\",\"type\":\"ColumnDataSource\"},{\"attributes\":{\"axis_label\":\"Neighborhood\",\"coordinates\":null,\"formatter\":{\"id\":\"20994\"},\"group\":null,\"major_label_orientation\":1.5707963267948966,\"major_label_policy\":{\"id\":\"20995\"},\"ticker\":{\"id\":\"20965\"}},\"id\":\"20964\",\"type\":\"CategoricalAxis\"},{\"attributes\":{\"factors\":[\"Union Square District\",\"Merced Heights\",\"Miraloma Park\",\"Pacific Heights\",\"Westwood Park\",\"Telegraph Hill\",\"Presidio Heights\",\"Cow Hollow\",\"Potrero Hill\",\"South Beach\"],\"tags\":[[[\"neighborhood\",\"neighborhood\",null]]]},\"id\":\"20952\",\"type\":\"FactorRange\"},{\"attributes\":{\"fill_alpha\":{\"value\":0.2},\"fill_color\":{\"value\":\"#30a2da\"},\"hatch_alpha\":{\"value\":0.2},\"hatch_color\":{\"value\":\"#30a2da\"},\"line_alpha\":{\"value\":0.2},\"top\":{\"field\":\"sale_price_sqr_foot\"},\"width\":{\"value\":0.8},\"x\":{\"field\":\"neighborhood\"}},\"id\":\"20989\",\"type\":\"VBar\"},{\"attributes\":{},\"id\":\"20965\",\"type\":\"CategoricalTicker\"},{\"attributes\":{\"fill_alpha\":{\"value\":0.1},\"fill_color\":{\"value\":\"#30a2da\"},\"hatch_alpha\":{\"value\":0.1},\"hatch_color\":{\"value\":\"#30a2da\"},\"line_alpha\":{\"value\":0.1},\"top\":{\"field\":\"sale_price_sqr_foot\"},\"width\":{\"value\":0.8},\"x\":{\"field\":\"neighborhood\"}},\"id\":\"20988\",\"type\":\"VBar\"},{\"attributes\":{},\"id\":\"20962\",\"type\":\"LinearScale\"},{\"attributes\":{\"axis\":{\"id\":\"20964\"},\"coordinates\":null,\"grid_line_color\":null,\"group\":null,\"ticker\":null},\"id\":\"20966\",\"type\":\"Grid\"},{\"attributes\":{},\"id\":\"20968\",\"type\":\"BasicTicker\"},{\"attributes\":{\"axis_label\":\"Avg. Sale Price per Square Foot\",\"coordinates\":null,\"formatter\":{\"id\":\"20997\"},\"group\":null,\"major_label_policy\":{\"id\":\"20998\"},\"ticker\":{\"id\":\"20968\"}},\"id\":\"20967\",\"type\":\"LinearAxis\"},{\"attributes\":{},\"id\":\"20994\",\"type\":\"CategoricalTickFormatter\"},{\"attributes\":{},\"id\":\"21006\",\"type\":\"UnionRenderers\"},{\"attributes\":{},\"id\":\"20972\",\"type\":\"PanTool\"},{\"attributes\":{},\"id\":\"20998\",\"type\":\"AllLabels\"},{\"attributes\":{\"axis\":{\"id\":\"20967\"},\"coordinates\":null,\"dimension\":1,\"grid_line_color\":null,\"group\":null,\"ticker\":null},\"id\":\"20970\",\"type\":\"Grid\"},{\"attributes\":{},\"id\":\"20997\",\"type\":\"BasicTickFormatter\"},{\"attributes\":{},\"id\":\"20973\",\"type\":\"WheelZoomTool\"},{\"attributes\":{},\"id\":\"20971\",\"type\":\"SaveTool\"}],\"root_ids\":[\"20950\"]},\"title\":\"Bokeh Application\",\"version\":\"2.4.0\"}};\n",
       "    var render_items = [{\"docid\":\"7a06c4dd-4f28-406d-969e-8c4455cdf447\",\"root_ids\":[\"20950\"],\"roots\":{\"20950\":\"27ff4b83-24c6-448d-bea2-e0a49818a581\"}}];\n",
       "    root.Bokeh.embed.embed_items_notebook(docs_json, render_items);\n",
       "  }\n",
       "  if (root.Bokeh !== undefined && root.Bokeh.Panel !== undefined && ( root['Plotly'] !== undefined)) {\n",
       "    embed_document(root);\n",
       "  } else {\n",
       "    var attempts = 0;\n",
       "    var timer = setInterval(function(root) {\n",
       "      if (root.Bokeh !== undefined && root.Bokeh.Panel !== undefined && (root['Plotly'] !== undefined)) {\n",
       "        clearInterval(timer);\n",
       "        embed_document(root);\n",
       "      } else if (document.readyState == \"complete\") {\n",
       "        attempts++;\n",
       "        if (attempts > 200) {\n",
       "          clearInterval(timer);\n",
       "          console.log(\"Bokeh: ERROR: Unable to run BokehJS code because BokehJS library is missing\");\n",
       "        }\n",
       "      }\n",
       "    }, 25, root)\n",
       "  }\n",
       "})(window);</script>"
      ],
      "text/plain": [
       ":Bars   [neighborhood]   (sale_price_sqr_foot)"
      ]
     },
     "execution_count": 92,
     "metadata": {
      "application/vnd.holoviews_exec.v0+json": {
       "id": "20950"
      }
     },
     "output_type": "execute_result"
    }
   ],
   "source": [
    "# Plotting the data from the top 10 expensive neighborhoods\n",
    "# Making the bar plot of top 10 expensive neighborhoods.\n",
    "dataframe_exp_neighbor.hvplot.bar(\n",
    "    \"neighborhood\",\n",
    "    \"sale_price_sqr_foot\",\n",
    "    title=\"Top 10 Expensive Neighborhoods in SFO\",\n",
    "    xlabel=\"Neighborhood\",\n",
    "    ylabel=\"Avg. Sale Price per Square Foot\",\n",
    "    height=400,\n",
    "    rot=90\n",
    ")"
   ]
  },
  {
   "cell_type": "markdown",
   "metadata": {},
   "source": [
    "## Comparing cost to purchase versus rental income\n",
    "\n",
    "In this section, you will use `hvplot` to create an interactive visualization with a dropdown selector for the neighborhood. This visualization will feature a side-by-side comparison of average price per square foot versus average montly rent by year.  \n",
    "\n",
    "**Hint:** Use the `hvplot` parameter, `groupby`, to create a dropdown selector for the neighborhood."
   ]
  },
  {
   "cell_type": "markdown",
   "metadata": {},
   "source": [
    "- - - "
   ]
  },
  {
   "cell_type": "code",
   "execution_count": 93,
   "metadata": {},
   "outputs": [
    {
     "data": {
      "text/html": [
       "<div>\n",
       "<style scoped>\n",
       "    .dataframe tbody tr th:only-of-type {\n",
       "        vertical-align: middle;\n",
       "    }\n",
       "\n",
       "    .dataframe tbody tr th {\n",
       "        vertical-align: top;\n",
       "    }\n",
       "\n",
       "    .dataframe thead th {\n",
       "        text-align: right;\n",
       "    }\n",
       "</style>\n",
       "<table border=\"1\" class=\"dataframe\">\n",
       "  <thead>\n",
       "    <tr style=\"text-align: right;\">\n",
       "      <th></th>\n",
       "      <th>year</th>\n",
       "      <th>neighborhood</th>\n",
       "      <th>sale_price_sqr_foot</th>\n",
       "      <th>housing_units</th>\n",
       "      <th>gross_rent</th>\n",
       "    </tr>\n",
       "  </thead>\n",
       "  <tbody>\n",
       "    <tr>\n",
       "      <th>0</th>\n",
       "      <td>2010</td>\n",
       "      <td>Alamo Square</td>\n",
       "      <td>291.182945</td>\n",
       "      <td>372560.0</td>\n",
       "      <td>1239.0</td>\n",
       "    </tr>\n",
       "    <tr>\n",
       "      <th>1</th>\n",
       "      <td>2010</td>\n",
       "      <td>Anza Vista</td>\n",
       "      <td>267.932583</td>\n",
       "      <td>372560.0</td>\n",
       "      <td>1239.0</td>\n",
       "    </tr>\n",
       "    <tr>\n",
       "      <th>2</th>\n",
       "      <td>2010</td>\n",
       "      <td>Bayview</td>\n",
       "      <td>170.098665</td>\n",
       "      <td>372560.0</td>\n",
       "      <td>1239.0</td>\n",
       "    </tr>\n",
       "    <tr>\n",
       "      <th>3</th>\n",
       "      <td>2010</td>\n",
       "      <td>Buena Vista Park</td>\n",
       "      <td>347.394919</td>\n",
       "      <td>372560.0</td>\n",
       "      <td>1239.0</td>\n",
       "    </tr>\n",
       "    <tr>\n",
       "      <th>4</th>\n",
       "      <td>2010</td>\n",
       "      <td>Central Richmond</td>\n",
       "      <td>319.027623</td>\n",
       "      <td>372560.0</td>\n",
       "      <td>1239.0</td>\n",
       "    </tr>\n",
       "    <tr>\n",
       "      <th>5</th>\n",
       "      <td>2010</td>\n",
       "      <td>Central Sunset</td>\n",
       "      <td>418.172493</td>\n",
       "      <td>372560.0</td>\n",
       "      <td>1239.0</td>\n",
       "    </tr>\n",
       "    <tr>\n",
       "      <th>6</th>\n",
       "      <td>2010</td>\n",
       "      <td>Corona Heights</td>\n",
       "      <td>369.359338</td>\n",
       "      <td>372560.0</td>\n",
       "      <td>1239.0</td>\n",
       "    </tr>\n",
       "    <tr>\n",
       "      <th>7</th>\n",
       "      <td>2010</td>\n",
       "      <td>Cow Hollow</td>\n",
       "      <td>569.379968</td>\n",
       "      <td>372560.0</td>\n",
       "      <td>1239.0</td>\n",
       "    </tr>\n",
       "    <tr>\n",
       "      <th>8</th>\n",
       "      <td>2010</td>\n",
       "      <td>Croker Amazon</td>\n",
       "      <td>165.645730</td>\n",
       "      <td>372560.0</td>\n",
       "      <td>1239.0</td>\n",
       "    </tr>\n",
       "    <tr>\n",
       "      <th>9</th>\n",
       "      <td>2010</td>\n",
       "      <td>Diamond Heights</td>\n",
       "      <td>456.930822</td>\n",
       "      <td>372560.0</td>\n",
       "      <td>1239.0</td>\n",
       "    </tr>\n",
       "  </tbody>\n",
       "</table>\n",
       "</div>"
      ],
      "text/plain": [
       "   year      neighborhood  sale_price_sqr_foot  housing_units  gross_rent\n",
       "0  2010      Alamo Square           291.182945       372560.0      1239.0\n",
       "1  2010        Anza Vista           267.932583       372560.0      1239.0\n",
       "2  2010           Bayview           170.098665       372560.0      1239.0\n",
       "3  2010  Buena Vista Park           347.394919       372560.0      1239.0\n",
       "4  2010  Central Richmond           319.027623       372560.0      1239.0\n",
       "5  2010    Central Sunset           418.172493       372560.0      1239.0\n",
       "6  2010    Corona Heights           369.359338       372560.0      1239.0\n",
       "7  2010        Cow Hollow           569.379968       372560.0      1239.0\n",
       "8  2010     Croker Amazon           165.645730       372560.0      1239.0\n",
       "9  2010   Diamond Heights           456.930822       372560.0      1239.0"
      ]
     },
     "execution_count": 93,
     "metadata": {},
     "output_type": "execute_result"
    }
   ],
   "source": [
    "# Fetch the previously generated DataFrame that was grouped by year and neighborhood\n",
    "# YOUR CODE HERE!\n",
    "dataframe_cost = sfo_data.groupby([sfo_data.index, \"neighborhood\"]).mean()\n",
    "dataframe_cost.reset_index(inplace=True)\n",
    "dataframe_cost.rename(columns={\"level_0\": \"year\"}, inplace=True)\n",
    "dataframe_cost.head(10)"
   ]
  },
  {
   "cell_type": "code",
   "execution_count": 94,
   "metadata": {},
   "outputs": [
    {
     "data": {},
     "metadata": {},
     "output_type": "display_data"
    },
    {
     "data": {
      "application/vnd.holoviews_exec.v0+json": "",
      "text/html": [
       "<div id='21471'>\n",
       "\n",
       "\n",
       "\n",
       "\n",
       "\n",
       "  <div class=\"bk-root\" id=\"9087ff13-307d-4bbf-91bc-71145b993167\" data-root-id=\"21471\"></div>\n",
       "</div>\n",
       "<script type=\"application/javascript\">(function(root) {\n",
       "  function embed_document(root) {\n",
       "    var docs_json = {\"c11196cd-8561-420e-927a-60c291c4db1b\":{\"defs\":[{\"extends\":null,\"module\":null,\"name\":\"ReactiveHTML1\",\"overrides\":[],\"properties\":[]},{\"extends\":null,\"module\":null,\"name\":\"FlexBox1\",\"overrides\":[],\"properties\":[{\"default\":\"flex-start\",\"kind\":null,\"name\":\"align_content\"},{\"default\":\"flex-start\",\"kind\":null,\"name\":\"align_items\"},{\"default\":\"row\",\"kind\":null,\"name\":\"flex_direction\"},{\"default\":\"wrap\",\"kind\":null,\"name\":\"flex_wrap\"},{\"default\":\"flex-start\",\"kind\":null,\"name\":\"justify_content\"}]},{\"extends\":null,\"module\":null,\"name\":\"TemplateActions1\",\"overrides\":[],\"properties\":[{\"default\":0,\"kind\":null,\"name\":\"open_modal\"},{\"default\":0,\"kind\":null,\"name\":\"close_modal\"}]},{\"extends\":null,\"module\":null,\"name\":\"MaterialTemplateActions1\",\"overrides\":[],\"properties\":[{\"default\":0,\"kind\":null,\"name\":\"open_modal\"},{\"default\":0,\"kind\":null,\"name\":\"close_modal\"}]}],\"roots\":{\"references\":[{\"attributes\":{},\"id\":\"21483\",\"type\":\"LinearScale\"},{\"attributes\":{},\"id\":\"21481\",\"type\":\"CategoricalScale\"},{\"attributes\":{\"bottom_units\":\"screen\",\"coordinates\":null,\"fill_alpha\":0.5,\"fill_color\":\"lightgrey\",\"group\":null,\"left_units\":\"screen\",\"level\":\"overlay\",\"line_alpha\":1.0,\"line_color\":\"black\",\"line_dash\":[4,4],\"line_width\":2,\"right_units\":\"screen\",\"syncable\":false,\"top_units\":\"screen\"},\"id\":\"21497\",\"type\":\"BoxAnnotation\"},{\"attributes\":{\"below\":[{\"id\":\"21485\"}],\"center\":[{\"id\":\"21487\"},{\"id\":\"21491\"}],\"height\":400,\"left\":[{\"id\":\"21488\"}],\"margin\":[5,5,5,5],\"min_border_bottom\":10,\"min_border_left\":10,\"min_border_right\":10,\"min_border_top\":10,\"renderers\":[{\"id\":\"21512\"}],\"sizing_mode\":\"fixed\",\"title\":{\"id\":\"21477\"},\"toolbar\":{\"id\":\"21498\"},\"width\":800,\"x_range\":{\"id\":\"21473\"},\"x_scale\":{\"id\":\"21481\"},\"y_range\":{\"id\":\"21474\"},\"y_scale\":{\"id\":\"21483\"}},\"id\":\"21476\",\"subtype\":\"Figure\",\"type\":\"Plot\"},{\"attributes\":{},\"id\":\"21486\",\"type\":\"CategoricalTicker\"},{\"attributes\":{\"coordinates\":null,\"group\":null,\"text\":\"top 10 expensive neighborhoods\",\"text_color\":\"black\",\"text_font_size\":\"12pt\"},\"id\":\"21477\",\"type\":\"Title\"},{\"attributes\":{},\"id\":\"21519\",\"type\":\"BasicTickFormatter\"},{\"attributes\":{\"fill_alpha\":{\"value\":0.1},\"fill_color\":{\"field\":\"Variable\",\"transform\":{\"id\":\"21505\"}},\"hatch_alpha\":{\"value\":0.1},\"hatch_color\":{\"field\":\"Variable\",\"transform\":{\"id\":\"21505\"}},\"line_alpha\":{\"value\":0.1},\"top\":{\"field\":\"value\"},\"width\":{\"value\":0.8},\"x\":{\"field\":\"xoffsets\"}},\"id\":\"21510\",\"type\":\"VBar\"},{\"attributes\":{\"axis\":{\"id\":\"21485\"},\"coordinates\":null,\"grid_line_color\":null,\"group\":null,\"ticker\":null},\"id\":\"21487\",\"type\":\"Grid\"},{\"attributes\":{\"callback\":null,\"renderers\":[{\"id\":\"21512\"}],\"tags\":[\"hv_created\"],\"tooltips\":[[\"index\",\"@{index}\"],[\"Variable\",\"@{Variable}\"],[\"value\",\"@{value}\"]]},\"id\":\"21475\",\"type\":\"HoverTool\"},{\"attributes\":{\"factors\":[\"gross_rent\",\"sale_price_sqr_foot\"],\"palette\":[\"#30a2da\",\"#fc4f30\"]},\"id\":\"21505\",\"type\":\"CategoricalColorMapper\"},{\"attributes\":{\"end\":4824.922737464815,\"reset_end\":4824.922737464815,\"reset_start\":0.0,\"tags\":[[[\"value\",\"value\",null]]]},\"id\":\"21474\",\"type\":\"Range1d\"},{\"attributes\":{},\"id\":\"21493\",\"type\":\"PanTool\"},{\"attributes\":{\"axis_label\":\"\",\"coordinates\":null,\"formatter\":{\"id\":\"21516\"},\"group\":null,\"major_label_policy\":{\"id\":\"21517\"},\"ticker\":{\"id\":\"21486\"}},\"id\":\"21485\",\"type\":\"CategoricalAxis\"},{\"attributes\":{\"tools\":[{\"id\":\"21475\"},{\"id\":\"21492\"},{\"id\":\"21493\"},{\"id\":\"21494\"},{\"id\":\"21495\"},{\"id\":\"21496\"}]},\"id\":\"21498\",\"type\":\"Toolbar\"},{\"attributes\":{\"axis\":{\"id\":\"21488\"},\"coordinates\":null,\"dimension\":1,\"grid_line_color\":null,\"group\":null,\"ticker\":null},\"id\":\"21491\",\"type\":\"Grid\"},{\"attributes\":{\"fill_color\":{\"field\":\"Variable\",\"transform\":{\"id\":\"21505\"}},\"hatch_color\":{\"field\":\"Variable\",\"transform\":{\"id\":\"21505\"}},\"top\":{\"field\":\"value\"},\"width\":{\"value\":0.8},\"x\":{\"field\":\"xoffsets\"}},\"id\":\"21509\",\"type\":\"VBar\"},{\"attributes\":{\"data\":{\"Variable\":[\"gross_rent\",\"gross_rent\",\"gross_rent\",\"gross_rent\",\"gross_rent\",\"gross_rent\",\"gross_rent\",\"gross_rent\",\"gross_rent\",\"gross_rent\",\"gross_rent\",\"gross_rent\",\"gross_rent\",\"gross_rent\",\"gross_rent\",\"gross_rent\",\"gross_rent\",\"gross_rent\",\"gross_rent\",\"gross_rent\",\"gross_rent\",\"gross_rent\",\"gross_rent\",\"gross_rent\",\"gross_rent\",\"gross_rent\",\"gross_rent\",\"gross_rent\",\"gross_rent\",\"gross_rent\",\"gross_rent\",\"gross_rent\",\"gross_rent\",\"gross_rent\",\"gross_rent\",\"gross_rent\",\"gross_rent\",\"gross_rent\",\"gross_rent\",\"gross_rent\",\"gross_rent\",\"gross_rent\",\"gross_rent\",\"gross_rent\",\"gross_rent\",\"gross_rent\",\"gross_rent\",\"gross_rent\",\"gross_rent\",\"gross_rent\",\"gross_rent\",\"gross_rent\",\"gross_rent\",\"gross_rent\",\"gross_rent\",\"gross_rent\",\"gross_rent\",\"gross_rent\",\"gross_rent\",\"gross_rent\",\"gross_rent\",\"gross_rent\",\"gross_rent\",\"gross_rent\",\"gross_rent\",\"gross_rent\",\"gross_rent\",\"gross_rent\",\"gross_rent\",\"gross_rent\",\"gross_rent\",\"gross_rent\",\"gross_rent\",\"gross_rent\",\"gross_rent\",\"gross_rent\",\"gross_rent\",\"gross_rent\",\"gross_rent\",\"gross_rent\",\"gross_rent\",\"gross_rent\",\"gross_rent\",\"gross_rent\",\"gross_rent\",\"gross_rent\",\"gross_rent\",\"gross_rent\",\"gross_rent\",\"gross_rent\",\"gross_rent\",\"gross_rent\",\"gross_rent\",\"gross_rent\",\"gross_rent\",\"gross_rent\",\"gross_rent\",\"gross_rent\",\"gross_rent\",\"gross_rent\",\"gross_rent\",\"gross_rent\",\"gross_rent\",\"gross_rent\",\"gross_rent\",\"gross_rent\",\"gross_rent\",\"gross_rent\",\"gross_rent\",\"gross_rent\",\"gross_rent\",\"gross_rent\",\"gross_rent\",\"gross_rent\",\"gross_rent\",\"gross_rent\",\"gross_rent\",\"gross_rent\",\"gross_rent\",\"gross_rent\",\"gross_rent\",\"gross_rent\",\"gross_rent\",\"gross_rent\",\"gross_rent\",\"gross_rent\",\"gross_rent\",\"gross_rent\",\"gross_rent\",\"gross_rent\",\"gross_rent\",\"gross_rent\",\"gross_rent\",\"gross_rent\",\"gross_rent\",\"gross_rent\",\"gross_rent\",\"gross_rent\",\"gross_rent\",\"gross_rent\",\"gross_rent\",\"gross_rent\",\"gross_rent\",\"gross_rent\",\"gross_rent\",\"gross_rent\",\"gross_rent\",\"gross_rent\",\"gross_rent\",\"gross_rent\",\"gross_rent\",\"gross_rent\",\"gross_rent\",\"gross_rent\",\"gross_rent\",\"gross_rent\",\"gross_rent\",\"gross_rent\",\"gross_rent\",\"gross_rent\",\"gross_rent\",\"gross_rent\",\"gross_rent\",\"gross_rent\",\"gross_rent\",\"gross_rent\",\"gross_rent\",\"gross_rent\",\"gross_rent\",\"gross_rent\",\"gross_rent\",\"gross_rent\",\"gross_rent\",\"gross_rent\",\"gross_rent\",\"gross_rent\",\"gross_rent\",\"gross_rent\",\"gross_rent\",\"gross_rent\",\"gross_rent\",\"gross_rent\",\"gross_rent\",\"gross_rent\",\"gross_rent\",\"gross_rent\",\"gross_rent\",\"gross_rent\",\"gross_rent\",\"gross_rent\",\"gross_rent\",\"gross_rent\",\"gross_rent\",\"gross_rent\",\"gross_rent\",\"gross_rent\",\"gross_rent\",\"gross_rent\",\"gross_rent\",\"gross_rent\",\"gross_rent\",\"gross_rent\",\"gross_rent\",\"gross_rent\",\"gross_rent\",\"gross_rent\",\"gross_rent\",\"gross_rent\",\"gross_rent\",\"gross_rent\",\"gross_rent\",\"gross_rent\",\"gross_rent\",\"gross_rent\",\"gross_rent\",\"gross_rent\",\"gross_rent\",\"gross_rent\",\"gross_rent\",\"gross_rent\",\"gross_rent\",\"gross_rent\",\"gross_rent\",\"gross_rent\",\"gross_rent\",\"gross_rent\",\"gross_rent\",\"gross_rent\",\"gross_rent\",\"gross_rent\",\"gross_rent\",\"gross_rent\",\"gross_rent\",\"gross_rent\",\"gross_rent\",\"gross_rent\",\"gross_rent\",\"gross_rent\",\"gross_rent\",\"gross_rent\",\"gross_rent\",\"gross_rent\",\"gross_rent\",\"gross_rent\",\"gross_rent\",\"gross_rent\",\"gross_rent\",\"gross_rent\",\"gross_rent\",\"gross_rent\",\"gross_rent\",\"gross_rent\",\"gross_rent\",\"gross_rent\",\"gross_rent\",\"gross_rent\",\"gross_rent\",\"gross_rent\",\"gross_rent\",\"gross_rent\",\"gross_rent\",\"gross_rent\",\"gross_rent\",\"gross_rent\",\"gross_rent\",\"gross_rent\",\"gross_rent\",\"gross_rent\",\"gross_rent\",\"gross_rent\",\"gross_rent\",\"gross_rent\",\"gross_rent\",\"gross_rent\",\"gross_rent\",\"gross_rent\",\"gross_rent\",\"gross_rent\",\"gross_rent\",\"gross_rent\",\"gross_rent\",\"gross_rent\",\"gross_rent\",\"gross_rent\",\"gross_rent\",\"gross_rent\",\"gross_rent\",\"gross_rent\",\"gross_rent\",\"gross_rent\",\"gross_rent\",\"gross_rent\",\"gross_rent\",\"gross_rent\",\"gross_rent\",\"gross_rent\",\"gross_rent\",\"gross_rent\",\"gross_rent\",\"gross_rent\",\"gross_rent\",\"gross_rent\",\"gross_rent\",\"gross_rent\",\"gross_rent\",\"gross_rent\",\"gross_rent\",\"gross_rent\",\"gross_rent\",\"gross_rent\",\"gross_rent\",\"gross_rent\",\"gross_rent\",\"gross_rent\",\"gross_rent\",\"gross_rent\",\"gross_rent\",\"gross_rent\",\"gross_rent\",\"gross_rent\",\"gross_rent\",\"gross_rent\",\"gross_rent\",\"gross_rent\",\"gross_rent\",\"gross_rent\",\"gross_rent\",\"gross_rent\",\"gross_rent\",\"gross_rent\",\"gross_rent\",\"gross_rent\",\"gross_rent\",\"gross_rent\",\"gross_rent\",\"gross_rent\",\"gross_rent\",\"gross_rent\",\"gross_rent\",\"gross_rent\",\"gross_rent\",\"gross_rent\",\"gross_rent\",\"gross_rent\",\"gross_rent\",\"gross_rent\",\"gross_rent\",\"gross_rent\",\"gross_rent\",\"gross_rent\",\"gross_rent\",\"gross_rent\",\"gross_rent\",\"gross_rent\",\"gross_rent\",\"gross_rent\",\"gross_rent\",\"gross_rent\",\"gross_rent\",\"gross_rent\",\"gross_rent\",\"gross_rent\",\"gross_rent\",\"gross_rent\",\"gross_rent\",\"gross_rent\",\"gross_rent\",\"gross_rent\",\"gross_rent\",\"gross_rent\",\"gross_rent\",\"gross_rent\",\"gross_rent\",\"gross_rent\",\"gross_rent\",\"gross_rent\",\"gross_rent\",\"gross_rent\",\"gross_rent\",\"gross_rent\",\"gross_rent\",\"gross_rent\",\"gross_rent\",\"gross_rent\",\"gross_rent\",\"gross_rent\",\"gross_rent\",\"gross_rent\",\"gross_rent\",\"gross_rent\",\"gross_rent\",\"gross_rent\",\"gross_rent\",\"gross_rent\",\"gross_rent\",\"gross_rent\",\"gross_rent\",\"sale_price_sqr_foot\",\"sale_price_sqr_foot\",\"sale_price_sqr_foot\",\"sale_price_sqr_foot\",\"sale_price_sqr_foot\",\"sale_price_sqr_foot\",\"sale_price_sqr_foot\",\"sale_price_sqr_foot\",\"sale_price_sqr_foot\",\"sale_price_sqr_foot\",\"sale_price_sqr_foot\",\"sale_price_sqr_foot\",\"sale_price_sqr_foot\",\"sale_price_sqr_foot\",\"sale_price_sqr_foot\",\"sale_price_sqr_foot\",\"sale_price_sqr_foot\",\"sale_price_sqr_foot\",\"sale_price_sqr_foot\",\"sale_price_sqr_foot\",\"sale_price_sqr_foot\",\"sale_price_sqr_foot\",\"sale_price_sqr_foot\",\"sale_price_sqr_foot\",\"sale_price_sqr_foot\",\"sale_price_sqr_foot\",\"sale_price_sqr_foot\",\"sale_price_sqr_foot\",\"sale_price_sqr_foot\",\"sale_price_sqr_foot\",\"sale_price_sqr_foot\",\"sale_price_sqr_foot\",\"sale_price_sqr_foot\",\"sale_price_sqr_foot\",\"sale_price_sqr_foot\",\"sale_price_sqr_foot\",\"sale_price_sqr_foot\",\"sale_price_sqr_foot\",\"sale_price_sqr_foot\",\"sale_price_sqr_foot\",\"sale_price_sqr_foot\",\"sale_price_sqr_foot\",\"sale_price_sqr_foot\",\"sale_price_sqr_foot\",\"sale_price_sqr_foot\",\"sale_price_sqr_foot\",\"sale_price_sqr_foot\",\"sale_price_sqr_foot\",\"sale_price_sqr_foot\",\"sale_price_sqr_foot\",\"sale_price_sqr_foot\",\"sale_price_sqr_foot\",\"sale_price_sqr_foot\",\"sale_price_sqr_foot\",\"sale_price_sqr_foot\",\"sale_price_sqr_foot\",\"sale_price_sqr_foot\",\"sale_price_sqr_foot\",\"sale_price_sqr_foot\",\"sale_price_sqr_foot\",\"sale_price_sqr_foot\",\"sale_price_sqr_foot\",\"sale_price_sqr_foot\",\"sale_price_sqr_foot\",\"sale_price_sqr_foot\",\"sale_price_sqr_foot\",\"sale_price_sqr_foot\",\"sale_price_sqr_foot\",\"sale_price_sqr_foot\",\"sale_price_sqr_foot\",\"sale_price_sqr_foot\",\"sale_price_sqr_foot\",\"sale_price_sqr_foot\",\"sale_price_sqr_foot\",\"sale_price_sqr_foot\",\"sale_price_sqr_foot\",\"sale_price_sqr_foot\",\"sale_price_sqr_foot\",\"sale_price_sqr_foot\",\"sale_price_sqr_foot\",\"sale_price_sqr_foot\",\"sale_price_sqr_foot\",\"sale_price_sqr_foot\",\"sale_price_sqr_foot\",\"sale_price_sqr_foot\",\"sale_price_sqr_foot\",\"sale_price_sqr_foot\",\"sale_price_sqr_foot\",\"sale_price_sqr_foot\",\"sale_price_sqr_foot\",\"sale_price_sqr_foot\",\"sale_price_sqr_foot\",\"sale_price_sqr_foot\",\"sale_price_sqr_foot\",\"sale_price_sqr_foot\",\"sale_price_sqr_foot\",\"sale_price_sqr_foot\",\"sale_price_sqr_foot\",\"sale_price_sqr_foot\",\"sale_price_sqr_foot\",\"sale_price_sqr_foot\",\"sale_price_sqr_foot\",\"sale_price_sqr_foot\",\"sale_price_sqr_foot\",\"sale_price_sqr_foot\",\"sale_price_sqr_foot\",\"sale_price_sqr_foot\",\"sale_price_sqr_foot\",\"sale_price_sqr_foot\",\"sale_price_sqr_foot\",\"sale_price_sqr_foot\",\"sale_price_sqr_foot\",\"sale_price_sqr_foot\",\"sale_price_sqr_foot\",\"sale_price_sqr_foot\",\"sale_price_sqr_foot\",\"sale_price_sqr_foot\",\"sale_price_sqr_foot\",\"sale_price_sqr_foot\",\"sale_price_sqr_foot\",\"sale_price_sqr_foot\",\"sale_price_sqr_foot\",\"sale_price_sqr_foot\",\"sale_price_sqr_foot\",\"sale_price_sqr_foot\",\"sale_price_sqr_foot\",\"sale_price_sqr_foot\",\"sale_price_sqr_foot\",\"sale_price_sqr_foot\",\"sale_price_sqr_foot\",\"sale_price_sqr_foot\",\"sale_price_sqr_foot\",\"sale_price_sqr_foot\",\"sale_price_sqr_foot\",\"sale_price_sqr_foot\",\"sale_price_sqr_foot\",\"sale_price_sqr_foot\",\"sale_price_sqr_foot\",\"sale_price_sqr_foot\",\"sale_price_sqr_foot\",\"sale_price_sqr_foot\",\"sale_price_sqr_foot\",\"sale_price_sqr_foot\",\"sale_price_sqr_foot\",\"sale_price_sqr_foot\",\"sale_price_sqr_foot\",\"sale_price_sqr_foot\",\"sale_price_sqr_foot\",\"sale_price_sqr_foot\",\"sale_price_sqr_foot\",\"sale_price_sqr_foot\",\"sale_price_sqr_foot\",\"sale_price_sqr_foot\",\"sale_price_sqr_foot\",\"sale_price_sqr_foot\",\"sale_price_sqr_foot\",\"sale_price_sqr_foot\",\"sale_price_sqr_foot\",\"sale_price_sqr_foot\",\"sale_price_sqr_foot\",\"sale_price_sqr_foot\",\"sale_price_sqr_foot\",\"sale_price_sqr_foot\",\"sale_price_sqr_foot\",\"sale_price_sqr_foot\",\"sale_price_sqr_foot\",\"sale_price_sqr_foot\",\"sale_price_sqr_foot\",\"sale_price_sqr_foot\",\"sale_price_sqr_foot\",\"sale_price_sqr_foot\",\"sale_price_sqr_foot\",\"sale_price_sqr_foot\",\"sale_price_sqr_foot\",\"sale_price_sqr_foot\",\"sale_price_sqr_foot\",\"sale_price_sqr_foot\",\"sale_price_sqr_foot\",\"sale_price_sqr_foot\",\"sale_price_sqr_foot\",\"sale_price_sqr_foot\",\"sale_price_sqr_foot\",\"sale_price_sqr_foot\",\"sale_price_sqr_foot\",\"sale_price_sqr_foot\",\"sale_price_sqr_foot\",\"sale_price_sqr_foot\",\"sale_price_sqr_foot\",\"sale_price_sqr_foot\",\"sale_price_sqr_foot\",\"sale_price_sqr_foot\",\"sale_price_sqr_foot\",\"sale_price_sqr_foot\",\"sale_price_sqr_foot\",\"sale_price_sqr_foot\",\"sale_price_sqr_foot\",\"sale_price_sqr_foot\",\"sale_price_sqr_foot\",\"sale_price_sqr_foot\",\"sale_price_sqr_foot\",\"sale_price_sqr_foot\",\"sale_price_sqr_foot\",\"sale_price_sqr_foot\",\"sale_price_sqr_foot\",\"sale_price_sqr_foot\",\"sale_price_sqr_foot\",\"sale_price_sqr_foot\",\"sale_price_sqr_foot\",\"sale_price_sqr_foot\",\"sale_price_sqr_foot\",\"sale_price_sqr_foot\",\"sale_price_sqr_foot\",\"sale_price_sqr_foot\",\"sale_price_sqr_foot\",\"sale_price_sqr_foot\",\"sale_price_sqr_foot\",\"sale_price_sqr_foot\",\"sale_price_sqr_foot\",\"sale_price_sqr_foot\",\"sale_price_sqr_foot\",\"sale_price_sqr_foot\",\"sale_price_sqr_foot\",\"sale_price_sqr_foot\",\"sale_price_sqr_foot\",\"sale_price_sqr_foot\",\"sale_price_sqr_foot\",\"sale_price_sqr_foot\",\"sale_price_sqr_foot\",\"sale_price_sqr_foot\",\"sale_price_sqr_foot\",\"sale_price_sqr_foot\",\"sale_price_sqr_foot\",\"sale_price_sqr_foot\",\"sale_price_sqr_foot\",\"sale_price_sqr_foot\",\"sale_price_sqr_foot\",\"sale_price_sqr_foot\",\"sale_price_sqr_foot\",\"sale_price_sqr_foot\",\"sale_price_sqr_foot\",\"sale_price_sqr_foot\",\"sale_price_sqr_foot\",\"sale_price_sqr_foot\",\"sale_price_sqr_foot\",\"sale_price_sqr_foot\",\"sale_price_sqr_foot\",\"sale_price_sqr_foot\",\"sale_price_sqr_foot\",\"sale_price_sqr_foot\",\"sale_price_sqr_foot\",\"sale_price_sqr_foot\",\"sale_price_sqr_foot\",\"sale_price_sqr_foot\",\"sale_price_sqr_foot\",\"sale_price_sqr_foot\",\"sale_price_sqr_foot\",\"sale_price_sqr_foot\",\"sale_price_sqr_foot\",\"sale_price_sqr_foot\",\"sale_price_sqr_foot\",\"sale_price_sqr_foot\",\"sale_price_sqr_foot\",\"sale_price_sqr_foot\",\"sale_price_sqr_foot\",\"sale_price_sqr_foot\",\"sale_price_sqr_foot\",\"sale_price_sqr_foot\",\"sale_price_sqr_foot\",\"sale_price_sqr_foot\",\"sale_price_sqr_foot\",\"sale_price_sqr_foot\",\"sale_price_sqr_foot\",\"sale_price_sqr_foot\",\"sale_price_sqr_foot\",\"sale_price_sqr_foot\",\"sale_price_sqr_foot\",\"sale_price_sqr_foot\",\"sale_price_sqr_foot\",\"sale_price_sqr_foot\",\"sale_price_sqr_foot\",\"sale_price_sqr_foot\",\"sale_price_sqr_foot\",\"sale_price_sqr_foot\",\"sale_price_sqr_foot\",\"sale_price_sqr_foot\",\"sale_price_sqr_foot\",\"sale_price_sqr_foot\",\"sale_price_sqr_foot\",\"sale_price_sqr_foot\",\"sale_price_sqr_foot\",\"sale_price_sqr_foot\",\"sale_price_sqr_foot\",\"sale_price_sqr_foot\",\"sale_price_sqr_foot\",\"sale_price_sqr_foot\",\"sale_price_sqr_foot\",\"sale_price_sqr_foot\",\"sale_price_sqr_foot\",\"sale_price_sqr_foot\",\"sale_price_sqr_foot\",\"sale_price_sqr_foot\",\"sale_price_sqr_foot\",\"sale_price_sqr_foot\",\"sale_price_sqr_foot\",\"sale_price_sqr_foot\",\"sale_price_sqr_foot\",\"sale_price_sqr_foot\",\"sale_price_sqr_foot\",\"sale_price_sqr_foot\",\"sale_price_sqr_foot\",\"sale_price_sqr_foot\",\"sale_price_sqr_foot\",\"sale_price_sqr_foot\",\"sale_price_sqr_foot\",\"sale_price_sqr_foot\",\"sale_price_sqr_foot\",\"sale_price_sqr_foot\",\"sale_price_sqr_foot\",\"sale_price_sqr_foot\",\"sale_price_sqr_foot\",\"sale_price_sqr_foot\",\"sale_price_sqr_foot\",\"sale_price_sqr_foot\",\"sale_price_sqr_foot\",\"sale_price_sqr_foot\",\"sale_price_sqr_foot\",\"sale_price_sqr_foot\",\"sale_price_sqr_foot\",\"sale_price_sqr_foot\",\"sale_price_sqr_foot\",\"sale_price_sqr_foot\",\"sale_price_sqr_foot\",\"sale_price_sqr_foot\",\"sale_price_sqr_foot\",\"sale_price_sqr_foot\",\"sale_price_sqr_foot\",\"sale_price_sqr_foot\",\"sale_price_sqr_foot\",\"sale_price_sqr_foot\",\"sale_price_sqr_foot\",\"sale_price_sqr_foot\",\"sale_price_sqr_foot\",\"sale_price_sqr_foot\",\"sale_price_sqr_foot\",\"sale_price_sqr_foot\",\"sale_price_sqr_foot\",\"sale_price_sqr_foot\",\"sale_price_sqr_foot\",\"sale_price_sqr_foot\",\"sale_price_sqr_foot\",\"sale_price_sqr_foot\",\"sale_price_sqr_foot\",\"sale_price_sqr_foot\",\"sale_price_sqr_foot\",\"sale_price_sqr_foot\",\"sale_price_sqr_foot\",\"sale_price_sqr_foot\",\"sale_price_sqr_foot\",\"sale_price_sqr_foot\",\"sale_price_sqr_foot\",\"sale_price_sqr_foot\",\"sale_price_sqr_foot\",\"sale_price_sqr_foot\",\"sale_price_sqr_foot\",\"sale_price_sqr_foot\",\"sale_price_sqr_foot\",\"sale_price_sqr_foot\",\"sale_price_sqr_foot\",\"sale_price_sqr_foot\",\"sale_price_sqr_foot\",\"sale_price_sqr_foot\",\"sale_price_sqr_foot\",\"sale_price_sqr_foot\",\"sale_price_sqr_foot\",\"sale_price_sqr_foot\",\"sale_price_sqr_foot\",\"sale_price_sqr_foot\",\"sale_price_sqr_foot\",\"sale_price_sqr_foot\",\"sale_price_sqr_foot\",\"sale_price_sqr_foot\",\"sale_price_sqr_foot\",\"sale_price_sqr_foot\",\"sale_price_sqr_foot\",\"sale_price_sqr_foot\",\"sale_price_sqr_foot\",\"sale_price_sqr_foot\",\"sale_price_sqr_foot\",\"sale_price_sqr_foot\",\"sale_price_sqr_foot\",\"sale_price_sqr_foot\",\"sale_price_sqr_foot\",\"sale_price_sqr_foot\",\"sale_price_sqr_foot\",\"sale_price_sqr_foot\",\"sale_price_sqr_foot\",\"sale_price_sqr_foot\"],\"index\":[\"0\",\"1\",\"2\",\"3\",\"4\",\"5\",\"6\",\"7\",\"8\",\"9\",\"10\",\"11\",\"12\",\"13\",\"14\",\"15\",\"16\",\"17\",\"18\",\"19\",\"20\",\"21\",\"22\",\"23\",\"24\",\"25\",\"26\",\"27\",\"28\",\"29\",\"30\",\"31\",\"32\",\"33\",\"34\",\"35\",\"36\",\"37\",\"38\",\"39\",\"40\",\"41\",\"42\",\"43\",\"44\",\"45\",\"46\",\"47\",\"48\",\"49\",\"50\",\"51\",\"52\",\"53\",\"54\",\"55\",\"56\",\"57\",\"58\",\"59\",\"60\",\"61\",\"62\",\"63\",\"64\",\"65\",\"66\",\"67\",\"68\",\"69\",\"70\",\"71\",\"72\",\"73\",\"74\",\"75\",\"76\",\"77\",\"78\",\"79\",\"80\",\"81\",\"82\",\"83\",\"84\",\"85\",\"86\",\"87\",\"88\",\"89\",\"90\",\"91\",\"92\",\"93\",\"94\",\"95\",\"96\",\"97\",\"98\",\"99\",\"100\",\"101\",\"102\",\"103\",\"104\",\"105\",\"106\",\"107\",\"108\",\"109\",\"110\",\"111\",\"112\",\"113\",\"114\",\"115\",\"116\",\"117\",\"118\",\"119\",\"120\",\"121\",\"122\",\"123\",\"124\",\"125\",\"126\",\"127\",\"128\",\"129\",\"130\",\"131\",\"132\",\"133\",\"134\",\"135\",\"136\",\"137\",\"138\",\"139\",\"140\",\"141\",\"142\",\"143\",\"144\",\"145\",\"146\",\"147\",\"148\",\"149\",\"150\",\"151\",\"152\",\"153\",\"154\",\"155\",\"156\",\"157\",\"158\",\"159\",\"160\",\"161\",\"162\",\"163\",\"164\",\"165\",\"166\",\"167\",\"168\",\"169\",\"170\",\"171\",\"172\",\"173\",\"174\",\"175\",\"176\",\"177\",\"178\",\"179\",\"180\",\"181\",\"182\",\"183\",\"184\",\"185\",\"186\",\"187\",\"188\",\"189\",\"190\",\"191\",\"192\",\"193\",\"194\",\"195\",\"196\",\"197\",\"198\",\"199\",\"200\",\"201\",\"202\",\"203\",\"204\",\"205\",\"206\",\"207\",\"208\",\"209\",\"210\",\"211\",\"212\",\"213\",\"214\",\"215\",\"216\",\"217\",\"218\",\"219\",\"220\",\"221\",\"222\",\"223\",\"224\",\"225\",\"226\",\"227\",\"228\",\"229\",\"230\",\"231\",\"232\",\"233\",\"234\",\"235\",\"236\",\"237\",\"238\",\"239\",\"240\",\"241\",\"242\",\"243\",\"244\",\"245\",\"246\",\"247\",\"248\",\"249\",\"250\",\"251\",\"252\",\"253\",\"254\",\"255\",\"256\",\"257\",\"258\",\"259\",\"260\",\"261\",\"262\",\"263\",\"264\",\"265\",\"266\",\"267\",\"268\",\"269\",\"270\",\"271\",\"272\",\"273\",\"274\",\"275\",\"276\",\"277\",\"278\",\"279\",\"280\",\"281\",\"282\",\"283\",\"284\",\"285\",\"286\",\"287\",\"288\",\"289\",\"290\",\"291\",\"292\",\"293\",\"294\",\"295\",\"296\",\"297\",\"298\",\"299\",\"300\",\"301\",\"302\",\"303\",\"304\",\"305\",\"306\",\"307\",\"308\",\"309\",\"310\",\"311\",\"312\",\"313\",\"314\",\"315\",\"316\",\"317\",\"318\",\"319\",\"320\",\"321\",\"322\",\"323\",\"324\",\"325\",\"326\",\"327\",\"328\",\"329\",\"330\",\"331\",\"332\",\"333\",\"334\",\"335\",\"336\",\"337\",\"338\",\"339\",\"340\",\"341\",\"342\",\"343\",\"344\",\"345\",\"346\",\"347\",\"348\",\"349\",\"350\",\"351\",\"352\",\"353\",\"354\",\"355\",\"356\",\"357\",\"358\",\"359\",\"360\",\"361\",\"362\",\"363\",\"364\",\"365\",\"366\",\"367\",\"368\",\"369\",\"370\",\"371\",\"372\",\"373\",\"374\",\"375\",\"376\",\"377\",\"378\",\"379\",\"380\",\"381\",\"382\",\"383\",\"384\",\"385\",\"386\",\"387\",\"388\",\"389\",\"390\",\"391\",\"392\",\"393\",\"394\",\"395\",\"396\",\"0\",\"1\",\"2\",\"3\",\"4\",\"5\",\"6\",\"7\",\"8\",\"9\",\"10\",\"11\",\"12\",\"13\",\"14\",\"15\",\"16\",\"17\",\"18\",\"19\",\"20\",\"21\",\"22\",\"23\",\"24\",\"25\",\"26\",\"27\",\"28\",\"29\",\"30\",\"31\",\"32\",\"33\",\"34\",\"35\",\"36\",\"37\",\"38\",\"39\",\"40\",\"41\",\"42\",\"43\",\"44\",\"45\",\"46\",\"47\",\"48\",\"49\",\"50\",\"51\",\"52\",\"53\",\"54\",\"55\",\"56\",\"57\",\"58\",\"59\",\"60\",\"61\",\"62\",\"63\",\"64\",\"65\",\"66\",\"67\",\"68\",\"69\",\"70\",\"71\",\"72\",\"73\",\"74\",\"75\",\"76\",\"77\",\"78\",\"79\",\"80\",\"81\",\"82\",\"83\",\"84\",\"85\",\"86\",\"87\",\"88\",\"89\",\"90\",\"91\",\"92\",\"93\",\"94\",\"95\",\"96\",\"97\",\"98\",\"99\",\"100\",\"101\",\"102\",\"103\",\"104\",\"105\",\"106\",\"107\",\"108\",\"109\",\"110\",\"111\",\"112\",\"113\",\"114\",\"115\",\"116\",\"117\",\"118\",\"119\",\"120\",\"121\",\"122\",\"123\",\"124\",\"125\",\"126\",\"127\",\"128\",\"129\",\"130\",\"131\",\"132\",\"133\",\"134\",\"135\",\"136\",\"137\",\"138\",\"139\",\"140\",\"141\",\"142\",\"143\",\"144\",\"145\",\"146\",\"147\",\"148\",\"149\",\"150\",\"151\",\"152\",\"153\",\"154\",\"155\",\"156\",\"157\",\"158\",\"159\",\"160\",\"161\",\"162\",\"163\",\"164\",\"165\",\"166\",\"167\",\"168\",\"169\",\"170\",\"171\",\"172\",\"173\",\"174\",\"175\",\"176\",\"177\",\"178\",\"179\",\"180\",\"181\",\"182\",\"183\",\"184\",\"185\",\"186\",\"187\",\"188\",\"189\",\"190\",\"191\",\"192\",\"193\",\"194\",\"195\",\"196\",\"197\",\"198\",\"199\",\"200\",\"201\",\"202\",\"203\",\"204\",\"205\",\"206\",\"207\",\"208\",\"209\",\"210\",\"211\",\"212\",\"213\",\"214\",\"215\",\"216\",\"217\",\"218\",\"219\",\"220\",\"221\",\"222\",\"223\",\"224\",\"225\",\"226\",\"227\",\"228\",\"229\",\"230\",\"231\",\"232\",\"233\",\"234\",\"235\",\"236\",\"237\",\"238\",\"239\",\"240\",\"241\",\"242\",\"243\",\"244\",\"245\",\"246\",\"247\",\"248\",\"249\",\"250\",\"251\",\"252\",\"253\",\"254\",\"255\",\"256\",\"257\",\"258\",\"259\",\"260\",\"261\",\"262\",\"263\",\"264\",\"265\",\"266\",\"267\",\"268\",\"269\",\"270\",\"271\",\"272\",\"273\",\"274\",\"275\",\"276\",\"277\",\"278\",\"279\",\"280\",\"281\",\"282\",\"283\",\"284\",\"285\",\"286\",\"287\",\"288\",\"289\",\"290\",\"291\",\"292\",\"293\",\"294\",\"295\",\"296\",\"297\",\"298\",\"299\",\"300\",\"301\",\"302\",\"303\",\"304\",\"305\",\"306\",\"307\",\"308\",\"309\",\"310\",\"311\",\"312\",\"313\",\"314\",\"315\",\"316\",\"317\",\"318\",\"319\",\"320\",\"321\",\"322\",\"323\",\"324\",\"325\",\"326\",\"327\",\"328\",\"329\",\"330\",\"331\",\"332\",\"333\",\"334\",\"335\",\"336\",\"337\",\"338\",\"339\",\"340\",\"341\",\"342\",\"343\",\"344\",\"345\",\"346\",\"347\",\"348\",\"349\",\"350\",\"351\",\"352\",\"353\",\"354\",\"355\",\"356\",\"357\",\"358\",\"359\",\"360\",\"361\",\"362\",\"363\",\"364\",\"365\",\"366\",\"367\",\"368\",\"369\",\"370\",\"371\",\"372\",\"373\",\"374\",\"375\",\"376\",\"377\",\"378\",\"379\",\"380\",\"381\",\"382\",\"383\",\"384\",\"385\",\"386\",\"387\",\"388\",\"389\",\"390\",\"391\",\"392\",\"393\",\"394\",\"395\",\"396\"],\"value\":{\"__ndarray__\":\"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\",\"dtype\":\"float64\",\"order\":\"little\",\"shape\":[794]},\"xoffsets\":[[\"0\",\"gross_rent\"],[\"1\",\"gross_rent\"],[\"2\",\"gross_rent\"],[\"3\",\"gross_rent\"],[\"4\",\"gross_rent\"],[\"5\",\"gross_rent\"],[\"6\",\"gross_rent\"],[\"7\",\"gross_rent\"],[\"8\",\"gross_rent\"],[\"9\",\"gross_rent\"],[\"10\",\"gross_rent\"],[\"11\",\"gross_rent\"],[\"12\",\"gross_rent\"],[\"13\",\"gross_rent\"],[\"14\",\"gross_rent\"],[\"15\",\"gross_rent\"],[\"16\",\"gross_rent\"],[\"17\",\"gross_rent\"],[\"18\",\"gross_rent\"],[\"19\",\"gross_rent\"],[\"20\",\"gross_rent\"],[\"21\",\"gross_rent\"],[\"22\",\"gross_rent\"],[\"23\",\"gross_rent\"],[\"24\",\"gross_rent\"],[\"25\",\"gross_rent\"],[\"26\",\"gross_rent\"],[\"27\",\"gross_rent\"],[\"28\",\"gross_rent\"],[\"29\",\"gross_rent\"],[\"30\",\"gross_rent\"],[\"31\",\"gross_rent\"],[\"32\",\"gross_rent\"],[\"33\",\"gross_rent\"],[\"34\",\"gross_rent\"],[\"35\",\"gross_rent\"],[\"36\",\"gross_rent\"],[\"37\",\"gross_rent\"],[\"38\",\"gross_rent\"],[\"39\",\"gross_rent\"],[\"40\",\"gross_rent\"],[\"41\",\"gross_rent\"],[\"42\",\"gross_rent\"],[\"43\",\"gross_rent\"],[\"44\",\"gross_rent\"],[\"45\",\"gross_rent\"],[\"46\",\"gross_rent\"],[\"47\",\"gross_rent\"],[\"48\",\"gross_rent\"],[\"49\",\"gross_rent\"],[\"50\",\"gross_rent\"],[\"51\",\"gross_rent\"],[\"52\",\"gross_rent\"],[\"53\",\"gross_rent\"],[\"54\",\"gross_rent\"],[\"55\",\"gross_rent\"],[\"56\",\"gross_rent\"],[\"57\",\"gross_rent\"],[\"58\",\"gross_rent\"],[\"59\",\"gross_rent\"],[\"60\",\"gross_rent\"],[\"61\",\"gross_rent\"],[\"62\",\"gross_rent\"],[\"63\",\"gross_rent\"],[\"64\",\"gross_rent\"],[\"65\",\"gross_rent\"],[\"66\",\"gross_rent\"],[\"67\",\"gross_rent\"],[\"68\",\"gross_rent\"],[\"69\",\"gross_rent\"],[\"70\",\"gross_rent\"],[\"71\",\"gross_rent\"],[\"72\",\"gross_rent\"],[\"73\",\"gross_rent\"],[\"74\",\"gross_rent\"],[\"75\",\"gross_rent\"],[\"76\",\"gross_rent\"],[\"77\",\"gross_rent\"],[\"78\",\"gross_rent\"],[\"79\",\"gross_rent\"],[\"80\",\"gross_rent\"],[\"81\",\"gross_rent\"],[\"82\",\"gross_rent\"],[\"83\",\"gross_rent\"],[\"84\",\"gross_rent\"],[\"85\",\"gross_rent\"],[\"86\",\"gross_rent\"],[\"87\",\"gross_rent\"],[\"88\",\"gross_rent\"],[\"89\",\"gross_rent\"],[\"90\",\"gross_rent\"],[\"91\",\"gross_rent\"],[\"92\",\"gross_rent\"],[\"93\",\"gross_rent\"],[\"94\",\"gross_rent\"],[\"95\",\"gross_rent\"],[\"96\",\"gross_rent\"],[\"97\",\"gross_rent\"],[\"98\",\"gross_rent\"],[\"99\",\"gross_rent\"],[\"100\",\"gross_rent\"],[\"101\",\"gross_rent\"],[\"102\",\"gross_rent\"],[\"103\",\"gross_rent\"],[\"104\",\"gross_rent\"],[\"105\",\"gross_rent\"],[\"106\",\"gross_rent\"],[\"107\",\"gross_rent\"],[\"108\",\"gross_rent\"],[\"109\",\"gross_rent\"],[\"110\",\"gross_rent\"],[\"111\",\"gross_rent\"],[\"112\",\"gross_rent\"],[\"113\",\"gross_rent\"],[\"114\",\"gross_rent\"],[\"115\",\"gross_rent\"],[\"116\",\"gross_rent\"],[\"117\",\"gross_rent\"],[\"118\",\"gross_rent\"],[\"119\",\"gross_rent\"],[\"120\",\"gross_rent\"],[\"121\",\"gross_rent\"],[\"122\",\"gross_rent\"],[\"123\",\"gross_rent\"],[\"124\",\"gross_rent\"],[\"125\",\"gross_rent\"],[\"126\",\"gross_rent\"],[\"127\",\"gross_rent\"],[\"128\",\"gross_rent\"],[\"129\",\"gross_rent\"],[\"130\",\"gross_rent\"],[\"131\",\"gross_rent\"],[\"132\",\"gross_rent\"],[\"133\",\"gross_rent\"],[\"134\",\"gross_rent\"],[\"135\",\"gross_rent\"],[\"136\",\"gross_rent\"],[\"137\",\"gross_rent\"],[\"138\",\"gross_rent\"],[\"139\",\"gross_rent\"],[\"140\",\"gross_rent\"],[\"141\",\"gross_rent\"],[\"142\",\"gross_rent\"],[\"143\",\"gross_rent\"],[\"144\",\"gross_rent\"],[\"145\",\"gross_rent\"],[\"146\",\"gross_rent\"],[\"147\",\"gross_rent\"],[\"148\",\"gross_rent\"],[\"149\",\"gross_rent\"],[\"150\",\"gross_rent\"],[\"151\",\"gross_rent\"],[\"152\",\"gross_rent\"],[\"153\",\"gross_rent\"],[\"154\",\"gross_rent\"],[\"155\",\"gross_rent\"],[\"156\",\"gross_rent\"],[\"157\",\"gross_rent\"],[\"158\",\"gross_rent\"],[\"159\",\"gross_rent\"],[\"160\",\"gross_rent\"],[\"161\",\"gross_rent\"],[\"162\",\"gross_rent\"],[\"163\",\"gross_rent\"],[\"164\",\"gross_rent\"],[\"165\",\"gross_rent\"],[\"166\",\"gross_rent\"],[\"167\",\"gross_rent\"],[\"168\",\"gross_rent\"],[\"169\",\"gross_rent\"],[\"170\",\"gross_rent\"],[\"171\",\"gross_rent\"],[\"172\",\"gross_rent\"],[\"173\",\"gross_rent\"],[\"174\",\"gross_rent\"],[\"175\",\"gross_rent\"],[\"176\",\"gross_rent\"],[\"177\",\"gross_rent\"],[\"178\",\"gross_rent\"],[\"179\",\"gross_rent\"],[\"180\",\"gross_rent\"],[\"181\",\"gross_rent\"],[\"182\",\"gross_rent\"],[\"183\",\"gross_rent\"],[\"184\",\"gross_rent\"],[\"185\",\"gross_rent\"],[\"186\",\"gross_rent\"],[\"187\",\"gross_rent\"],[\"188\",\"gross_rent\"],[\"189\",\"gross_rent\"],[\"190\",\"gross_rent\"],[\"191\",\"gross_rent\"],[\"192\",\"gross_rent\"],[\"193\",\"gross_rent\"],[\"194\",\"gross_rent\"],[\"195\",\"gross_rent\"],[\"196\",\"gross_rent\"],[\"197\",\"gross_rent\"],[\"198\",\"gross_rent\"],[\"199\",\"gross_rent\"],[\"200\",\"gross_rent\"],[\"201\",\"gross_rent\"],[\"202\",\"gross_rent\"],[\"203\",\"gross_rent\"],[\"204\",\"gross_rent\"],[\"205\",\"gross_rent\"],[\"206\",\"gross_rent\"],[\"207\",\"gross_rent\"],[\"208\",\"gross_rent\"],[\"209\",\"gross_rent\"],[\"210\",\"gross_rent\"],[\"211\",\"gross_rent\"],[\"212\",\"gross_rent\"],[\"213\",\"gross_rent\"],[\"214\",\"gross_rent\"],[\"215\",\"gross_rent\"],[\"216\",\"gross_rent\"],[\"217\",\"gross_rent\"],[\"218\",\"gross_rent\"],[\"219\",\"gross_rent\"],[\"220\",\"gross_rent\"],[\"221\",\"gross_rent\"],[\"222\",\"gross_rent\"],[\"223\",\"gross_rent\"],[\"224\",\"gross_rent\"],[\"225\",\"gross_rent\"],[\"226\",\"gross_rent\"],[\"227\",\"gross_rent\"],[\"228\",\"gross_rent\"],[\"229\",\"gross_rent\"],[\"230\",\"gross_rent\"],[\"231\",\"gross_rent\"],[\"232\",\"gross_rent\"],[\"233\",\"gross_rent\"],[\"234\",\"gross_rent\"],[\"235\",\"gross_rent\"],[\"236\",\"gross_rent\"],[\"237\",\"gross_rent\"],[\"238\",\"gross_rent\"],[\"239\",\"gross_rent\"],[\"240\",\"gross_rent\"],[\"241\",\"gross_rent\"],[\"242\",\"gross_rent\"],[\"243\",\"gross_rent\"],[\"244\",\"gross_rent\"],[\"245\",\"gross_rent\"],[\"246\",\"gross_rent\"],[\"247\",\"gross_rent\"],[\"248\",\"gross_rent\"],[\"249\",\"gross_rent\"],[\"250\",\"gross_rent\"],[\"251\",\"gross_rent\"],[\"252\",\"gross_rent\"],[\"253\",\"gross_rent\"],[\"254\",\"gross_rent\"],[\"255\",\"gross_rent\"],[\"256\",\"gross_rent\"],[\"257\",\"gross_rent\"],[\"258\",\"gross_rent\"],[\"259\",\"gross_rent\"],[\"260\",\"gross_rent\"],[\"261\",\"gross_rent\"],[\"262\",\"gross_rent\"],[\"263\",\"gross_rent\"],[\"264\",\"gross_rent\"],[\"265\",\"gross_rent\"],[\"266\",\"gross_rent\"],[\"267\",\"gross_rent\"],[\"268\",\"gross_rent\"],[\"269\",\"gross_rent\"],[\"270\",\"gross_rent\"],[\"271\",\"gross_rent\"],[\"272\",\"gross_rent\"],[\"273\",\"gross_rent\"],[\"274\",\"gross_rent\"],[\"275\",\"gross_rent\"],[\"276\",\"gross_rent\"],[\"277\",\"gross_rent\"],[\"278\",\"gross_rent\"],[\"279\",\"gross_rent\"],[\"280\",\"gross_rent\"],[\"281\",\"gross_rent\"],[\"282\",\"gross_rent\"],[\"283\",\"gross_rent\"],[\"284\",\"gross_rent\"],[\"285\",\"gross_rent\"],[\"286\",\"gross_rent\"],[\"287\",\"gross_rent\"],[\"288\",\"gross_rent\"],[\"289\",\"gross_rent\"],[\"290\",\"gross_rent\"],[\"291\",\"gross_rent\"],[\"292\",\"gross_rent\"],[\"293\",\"gross_rent\"],[\"294\",\"gross_rent\"],[\"295\",\"gross_rent\"],[\"296\",\"gross_rent\"],[\"297\",\"gross_rent\"],[\"298\",\"gross_rent\"],[\"299\",\"gross_rent\"],[\"300\",\"gross_rent\"],[\"301\",\"gross_rent\"],[\"302\",\"gross_rent\"],[\"303\",\"gross_rent\"],[\"304\",\"gross_rent\"],[\"305\",\"gross_rent\"],[\"306\",\"gross_rent\"],[\"307\",\"gross_rent\"],[\"308\",\"gross_rent\"],[\"309\",\"gross_rent\"],[\"310\",\"gross_rent\"],[\"311\",\"gross_rent\"],[\"312\",\"gross_rent\"],[\"313\",\"gross_rent\"],[\"314\",\"gross_rent\"],[\"315\",\"gross_rent\"],[\"316\",\"gross_rent\"],[\"317\",\"gross_rent\"],[\"318\",\"gross_rent\"],[\"319\",\"gross_rent\"],[\"320\",\"gross_rent\"],[\"321\",\"gross_rent\"],[\"322\",\"gross_rent\"],[\"323\",\"gross_rent\"],[\"324\",\"gross_rent\"],[\"325\",\"gross_rent\"],[\"326\",\"gross_rent\"],[\"327\",\"gross_rent\"],[\"328\",\"gross_rent\"],[\"329\",\"gross_rent\"],[\"330\",\"gross_rent\"],[\"331\",\"gross_rent\"],[\"332\",\"gross_rent\"],[\"333\",\"gross_rent\"],[\"334\",\"gross_rent\"],[\"335\",\"gross_rent\"],[\"336\",\"gross_rent\"],[\"337\",\"gross_rent\"],[\"338\",\"gross_rent\"],[\"339\",\"gross_rent\"],[\"340\",\"gross_rent\"],[\"341\",\"gross_rent\"],[\"342\",\"gross_rent\"],[\"343\",\"gross_rent\"],[\"344\",\"gross_rent\"],[\"345\",\"gross_rent\"],[\"346\",\"gross_rent\"],[\"347\",\"gross_rent\"],[\"348\",\"gross_rent\"],[\"349\",\"gross_rent\"],[\"350\",\"gross_rent\"],[\"351\",\"gross_rent\"],[\"352\",\"gross_rent\"],[\"353\",\"gross_rent\"],[\"354\",\"gross_rent\"],[\"355\",\"gross_rent\"],[\"356\",\"gross_rent\"],[\"357\",\"gross_rent\"],[\"358\",\"gross_rent\"],[\"359\",\"gross_rent\"],[\"360\",\"gross_rent\"],[\"361\",\"gross_rent\"],[\"362\",\"gross_rent\"],[\"363\",\"gross_rent\"],[\"364\",\"gross_rent\"],[\"365\",\"gross_rent\"],[\"366\",\"gross_rent\"],[\"367\",\"gross_rent\"],[\"368\",\"gross_rent\"],[\"369\",\"gross_rent\"],[\"370\",\"gross_rent\"],[\"371\",\"gross_rent\"],[\"372\",\"gross_rent\"],[\"373\",\"gross_rent\"],[\"374\",\"gross_rent\"],[\"375\",\"gross_rent\"],[\"376\",\"gross_rent\"],[\"377\",\"gross_rent\"],[\"378\",\"gross_rent\"],[\"379\",\"gross_rent\"],[\"380\",\"gross_rent\"],[\"381\",\"gross_rent\"],[\"382\",\"gross_rent\"],[\"383\",\"gross_rent\"],[\"384\",\"gross_rent\"],[\"385\",\"gross_rent\"],[\"386\",\"gross_rent\"],[\"387\",\"gross_rent\"],[\"388\",\"gross_rent\"],[\"389\",\"gross_rent\"],[\"390\",\"gross_rent\"],[\"391\",\"gross_rent\"],[\"392\",\"gross_rent\"],[\"393\",\"gross_rent\"],[\"394\",\"gross_rent\"],[\"395\",\"gross_rent\"],[\"396\",\"gross_rent\"],[\"0\",\"sale_price_sqr_foot\"],[\"1\",\"sale_price_sqr_foot\"],[\"2\",\"sale_price_sqr_foot\"],[\"3\",\"sale_price_sqr_foot\"],[\"4\",\"sale_price_sqr_foot\"],[\"5\",\"sale_price_sqr_foot\"],[\"6\",\"sale_price_sqr_foot\"],[\"7\",\"sale_price_sqr_foot\"],[\"8\",\"sale_price_sqr_foot\"],[\"9\",\"sale_price_sqr_foot\"],[\"10\",\"sale_price_sqr_foot\"],[\"11\",\"sale_price_sqr_foot\"],[\"12\",\"sale_price_sqr_foot\"],[\"13\",\"sale_price_sqr_foot\"],[\"14\",\"sale_price_sqr_foot\"],[\"15\",\"sale_price_sqr_foot\"],[\"16\",\"sale_price_sqr_foot\"],[\"17\",\"sale_price_sqr_foot\"],[\"18\",\"sale_price_sqr_foot\"],[\"19\",\"sale_price_sqr_foot\"],[\"20\",\"sale_price_sqr_foot\"],[\"21\",\"sale_price_sqr_foot\"],[\"22\",\"sale_price_sqr_foot\"],[\"23\",\"sale_price_sqr_foot\"],[\"24\",\"sale_price_sqr_foot\"],[\"25\",\"sale_price_sqr_foot\"],[\"26\",\"sale_price_sqr_foot\"],[\"27\",\"sale_price_sqr_foot\"],[\"28\",\"sale_price_sqr_foot\"],[\"29\",\"sale_price_sqr_foot\"],[\"30\",\"sale_price_sqr_foot\"],[\"31\",\"sale_price_sqr_foot\"],[\"32\",\"sale_price_sqr_foot\"],[\"33\",\"sale_price_sqr_foot\"],[\"34\",\"sale_price_sqr_foot\"],[\"35\",\"sale_price_sqr_foot\"],[\"36\",\"sale_price_sqr_foot\"],[\"37\",\"sale_price_sqr_foot\"],[\"38\",\"sale_price_sqr_foot\"],[\"39\",\"sale_price_sqr_foot\"],[\"40\",\"sale_price_sqr_foot\"],[\"41\",\"sale_price_sqr_foot\"],[\"42\",\"sale_price_sqr_foot\"],[\"43\",\"sale_price_sqr_foot\"],[\"44\",\"sale_price_sqr_foot\"],[\"45\",\"sale_price_sqr_foot\"],[\"46\",\"sale_price_sqr_foot\"],[\"47\",\"sale_price_sqr_foot\"],[\"48\",\"sale_price_sqr_foot\"],[\"49\",\"sale_price_sqr_foot\"],[\"50\",\"sale_price_sqr_foot\"],[\"51\",\"sale_price_sqr_foot\"],[\"52\",\"sale_price_sqr_foot\"],[\"53\",\"sale_price_sqr_foot\"],[\"54\",\"sale_price_sqr_foot\"],[\"55\",\"sale_price_sqr_foot\"],[\"56\",\"sale_price_sqr_foot\"],[\"57\",\"sale_price_sqr_foot\"],[\"58\",\"sale_price_sqr_foot\"],[\"59\",\"sale_price_sqr_foot\"],[\"60\",\"sale_price_sqr_foot\"],[\"61\",\"sale_price_sqr_foot\"],[\"62\",\"sale_price_sqr_foot\"],[\"63\",\"sale_price_sqr_foot\"],[\"64\",\"sale_price_sqr_foot\"],[\"65\",\"sale_price_sqr_foot\"],[\"66\",\"sale_price_sqr_foot\"],[\"67\",\"sale_price_sqr_foot\"],[\"68\",\"sale_price_sqr_foot\"],[\"69\",\"sale_price_sqr_foot\"],[\"70\",\"sale_price_sqr_foot\"],[\"71\",\"sale_price_sqr_foot\"],[\"72\",\"sale_price_sqr_foot\"],[\"73\",\"sale_price_sqr_foot\"],[\"74\",\"sale_price_sqr_foot\"],[\"75\",\"sale_price_sqr_foot\"],[\"76\",\"sale_price_sqr_foot\"],[\"77\",\"sale_price_sqr_foot\"],[\"78\",\"sale_price_sqr_foot\"],[\"79\",\"sale_price_sqr_foot\"],[\"80\",\"sale_price_sqr_foot\"],[\"81\",\"sale_price_sqr_foot\"],[\"82\",\"sale_price_sqr_foot\"],[\"83\",\"sale_price_sqr_foot\"],[\"84\",\"sale_price_sqr_foot\"],[\"85\",\"sale_price_sqr_foot\"],[\"86\",\"sale_price_sqr_foot\"],[\"87\",\"sale_price_sqr_foot\"],[\"88\",\"sale_price_sqr_foot\"],[\"89\",\"sale_price_sqr_foot\"],[\"90\",\"sale_price_sqr_foot\"],[\"91\",\"sale_price_sqr_foot\"],[\"92\",\"sale_price_sqr_foot\"],[\"93\",\"sale_price_sqr_foot\"],[\"94\",\"sale_price_sqr_foot\"],[\"95\",\"sale_price_sqr_foot\"],[\"96\",\"sale_price_sqr_foot\"],[\"97\",\"sale_price_sqr_foot\"],[\"98\",\"sale_price_sqr_foot\"],[\"99\",\"sale_price_sqr_foot\"],[\"100\",\"sale_price_sqr_foot\"],[\"101\",\"sale_price_sqr_foot\"],[\"102\",\"sale_price_sqr_foot\"],[\"103\",\"sale_price_sqr_foot\"],[\"104\",\"sale_price_sqr_foot\"],[\"105\",\"sale_price_sqr_foot\"],[\"106\",\"sale_price_sqr_foot\"],[\"107\",\"sale_price_sqr_foot\"],[\"108\",\"sale_price_sqr_foot\"],[\"109\",\"sale_price_sqr_foot\"],[\"110\",\"sale_price_sqr_foot\"],[\"111\",\"sale_price_sqr_foot\"],[\"112\",\"sale_price_sqr_foot\"],[\"113\",\"sale_price_sqr_foot\"],[\"114\",\"sale_price_sqr_foot\"],[\"115\",\"sale_price_sqr_foot\"],[\"116\",\"sale_price_sqr_foot\"],[\"117\",\"sale_price_sqr_foot\"],[\"118\",\"sale_price_sqr_foot\"],[\"119\",\"sale_price_sqr_foot\"],[\"120\",\"sale_price_sqr_foot\"],[\"121\",\"sale_price_sqr_foot\"],[\"122\",\"sale_price_sqr_foot\"],[\"123\",\"sale_price_sqr_foot\"],[\"124\",\"sale_price_sqr_foot\"],[\"125\",\"sale_price_sqr_foot\"],[\"126\",\"sale_price_sqr_foot\"],[\"127\",\"sale_price_sqr_foot\"],[\"128\",\"sale_price_sqr_foot\"],[\"129\",\"sale_price_sqr_foot\"],[\"130\",\"sale_price_sqr_foot\"],[\"131\",\"sale_price_sqr_foot\"],[\"132\",\"sale_price_sqr_foot\"],[\"133\",\"sale_price_sqr_foot\"],[\"134\",\"sale_price_sqr_foot\"],[\"135\",\"sale_price_sqr_foot\"],[\"136\",\"sale_price_sqr_foot\"],[\"137\",\"sale_price_sqr_foot\"],[\"138\",\"sale_price_sqr_foot\"],[\"139\",\"sale_price_sqr_foot\"],[\"140\",\"sale_price_sqr_foot\"],[\"141\",\"sale_price_sqr_foot\"],[\"142\",\"sale_price_sqr_foot\"],[\"143\",\"sale_price_sqr_foot\"],[\"144\",\"sale_price_sqr_foot\"],[\"145\",\"sale_price_sqr_foot\"],[\"146\",\"sale_price_sqr_foot\"],[\"147\",\"sale_price_sqr_foot\"],[\"148\",\"sale_price_sqr_foot\"],[\"149\",\"sale_price_sqr_foot\"],[\"150\",\"sale_price_sqr_foot\"],[\"151\",\"sale_price_sqr_foot\"],[\"152\",\"sale_price_sqr_foot\"],[\"153\",\"sale_price_sqr_foot\"],[\"154\",\"sale_price_sqr_foot\"],[\"155\",\"sale_price_sqr_foot\"],[\"156\",\"sale_price_sqr_foot\"],[\"157\",\"sale_price_sqr_foot\"],[\"158\",\"sale_price_sqr_foot\"],[\"159\",\"sale_price_sqr_foot\"],[\"160\",\"sale_price_sqr_foot\"],[\"161\",\"sale_price_sqr_foot\"],[\"162\",\"sale_price_sqr_foot\"],[\"163\",\"sale_price_sqr_foot\"],[\"164\",\"sale_price_sqr_foot\"],[\"165\",\"sale_price_sqr_foot\"],[\"166\",\"sale_price_sqr_foot\"],[\"167\",\"sale_price_sqr_foot\"],[\"168\",\"sale_price_sqr_foot\"],[\"169\",\"sale_price_sqr_foot\"],[\"170\",\"sale_price_sqr_foot\"],[\"171\",\"sale_price_sqr_foot\"],[\"172\",\"sale_price_sqr_foot\"],[\"173\",\"sale_price_sqr_foot\"],[\"174\",\"sale_price_sqr_foot\"],[\"175\",\"sale_price_sqr_foot\"],[\"176\",\"sale_price_sqr_foot\"],[\"177\",\"sale_price_sqr_foot\"],[\"178\",\"sale_price_sqr_foot\"],[\"179\",\"sale_price_sqr_foot\"],[\"180\",\"sale_price_sqr_foot\"],[\"181\",\"sale_price_sqr_foot\"],[\"182\",\"sale_price_sqr_foot\"],[\"183\",\"sale_price_sqr_foot\"],[\"184\",\"sale_price_sqr_foot\"],[\"185\",\"sale_price_sqr_foot\"],[\"186\",\"sale_price_sqr_foot\"],[\"187\",\"sale_price_sqr_foot\"],[\"188\",\"sale_price_sqr_foot\"],[\"189\",\"sale_price_sqr_foot\"],[\"190\",\"sale_price_sqr_foot\"],[\"191\",\"sale_price_sqr_foot\"],[\"192\",\"sale_price_sqr_foot\"],[\"193\",\"sale_price_sqr_foot\"],[\"194\",\"sale_price_sqr_foot\"],[\"195\",\"sale_price_sqr_foot\"],[\"196\",\"sale_price_sqr_foot\"],[\"197\",\"sale_price_sqr_foot\"],[\"198\",\"sale_price_sqr_foot\"],[\"199\",\"sale_price_sqr_foot\"],[\"200\",\"sale_price_sqr_foot\"],[\"201\",\"sale_price_sqr_foot\"],[\"202\",\"sale_price_sqr_foot\"],[\"203\",\"sale_price_sqr_foot\"],[\"204\",\"sale_price_sqr_foot\"],[\"205\",\"sale_price_sqr_foot\"],[\"206\",\"sale_price_sqr_foot\"],[\"207\",\"sale_price_sqr_foot\"],[\"208\",\"sale_price_sqr_foot\"],[\"209\",\"sale_price_sqr_foot\"],[\"210\",\"sale_price_sqr_foot\"],[\"211\",\"sale_price_sqr_foot\"],[\"212\",\"sale_price_sqr_foot\"],[\"213\",\"sale_price_sqr_foot\"],[\"214\",\"sale_price_sqr_foot\"],[\"215\",\"sale_price_sqr_foot\"],[\"216\",\"sale_price_sqr_foot\"],[\"217\",\"sale_price_sqr_foot\"],[\"218\",\"sale_price_sqr_foot\"],[\"219\",\"sale_price_sqr_foot\"],[\"220\",\"sale_price_sqr_foot\"],[\"221\",\"sale_price_sqr_foot\"],[\"222\",\"sale_price_sqr_foot\"],[\"223\",\"sale_price_sqr_foot\"],[\"224\",\"sale_price_sqr_foot\"],[\"225\",\"sale_price_sqr_foot\"],[\"226\",\"sale_price_sqr_foot\"],[\"227\",\"sale_price_sqr_foot\"],[\"228\",\"sale_price_sqr_foot\"],[\"229\",\"sale_price_sqr_foot\"],[\"230\",\"sale_price_sqr_foot\"],[\"231\",\"sale_price_sqr_foot\"],[\"232\",\"sale_price_sqr_foot\"],[\"233\",\"sale_price_sqr_foot\"],[\"234\",\"sale_price_sqr_foot\"],[\"235\",\"sale_price_sqr_foot\"],[\"236\",\"sale_price_sqr_foot\"],[\"237\",\"sale_price_sqr_foot\"],[\"238\",\"sale_price_sqr_foot\"],[\"239\",\"sale_price_sqr_foot\"],[\"240\",\"sale_price_sqr_foot\"],[\"241\",\"sale_price_sqr_foot\"],[\"242\",\"sale_price_sqr_foot\"],[\"243\",\"sale_price_sqr_foot\"],[\"244\",\"sale_price_sqr_foot\"],[\"245\",\"sale_price_sqr_foot\"],[\"246\",\"sale_price_sqr_foot\"],[\"247\",\"sale_price_sqr_foot\"],[\"248\",\"sale_price_sqr_foot\"],[\"249\",\"sale_price_sqr_foot\"],[\"250\",\"sale_price_sqr_foot\"],[\"251\",\"sale_price_sqr_foot\"],[\"252\",\"sale_price_sqr_foot\"],[\"253\",\"sale_price_sqr_foot\"],[\"254\",\"sale_price_sqr_foot\"],[\"255\",\"sale_price_sqr_foot\"],[\"256\",\"sale_price_sqr_foot\"],[\"257\",\"sale_price_sqr_foot\"],[\"258\",\"sale_price_sqr_foot\"],[\"259\",\"sale_price_sqr_foot\"],[\"260\",\"sale_price_sqr_foot\"],[\"261\",\"sale_price_sqr_foot\"],[\"262\",\"sale_price_sqr_foot\"],[\"263\",\"sale_price_sqr_foot\"],[\"264\",\"sale_price_sqr_foot\"],[\"265\",\"sale_price_sqr_foot\"],[\"266\",\"sale_price_sqr_foot\"],[\"267\",\"sale_price_sqr_foot\"],[\"268\",\"sale_price_sqr_foot\"],[\"269\",\"sale_price_sqr_foot\"],[\"270\",\"sale_price_sqr_foot\"],[\"271\",\"sale_price_sqr_foot\"],[\"272\",\"sale_price_sqr_foot\"],[\"273\",\"sale_price_sqr_foot\"],[\"274\",\"sale_price_sqr_foot\"],[\"275\",\"sale_price_sqr_foot\"],[\"276\",\"sale_price_sqr_foot\"],[\"277\",\"sale_price_sqr_foot\"],[\"278\",\"sale_price_sqr_foot\"],[\"279\",\"sale_price_sqr_foot\"],[\"280\",\"sale_price_sqr_foot\"],[\"281\",\"sale_price_sqr_foot\"],[\"282\",\"sale_price_sqr_foot\"],[\"283\",\"sale_price_sqr_foot\"],[\"284\",\"sale_price_sqr_foot\"],[\"285\",\"sale_price_sqr_foot\"],[\"286\",\"sale_price_sqr_foot\"],[\"287\",\"sale_price_sqr_foot\"],[\"288\",\"sale_price_sqr_foot\"],[\"289\",\"sale_price_sqr_foot\"],[\"290\",\"sale_price_sqr_foot\"],[\"291\",\"sale_price_sqr_foot\"],[\"292\",\"sale_price_sqr_foot\"],[\"293\",\"sale_price_sqr_foot\"],[\"294\",\"sale_price_sqr_foot\"],[\"295\",\"sale_price_sqr_foot\"],[\"296\",\"sale_price_sqr_foot\"],[\"297\",\"sale_price_sqr_foot\"],[\"298\",\"sale_price_sqr_foot\"],[\"299\",\"sale_price_sqr_foot\"],[\"300\",\"sale_price_sqr_foot\"],[\"301\",\"sale_price_sqr_foot\"],[\"302\",\"sale_price_sqr_foot\"],[\"303\",\"sale_price_sqr_foot\"],[\"304\",\"sale_price_sqr_foot\"],[\"305\",\"sale_price_sqr_foot\"],[\"306\",\"sale_price_sqr_foot\"],[\"307\",\"sale_price_sqr_foot\"],[\"308\",\"sale_price_sqr_foot\"],[\"309\",\"sale_price_sqr_foot\"],[\"310\",\"sale_price_sqr_foot\"],[\"311\",\"sale_price_sqr_foot\"],[\"312\",\"sale_price_sqr_foot\"],[\"313\",\"sale_price_sqr_foot\"],[\"314\",\"sale_price_sqr_foot\"],[\"315\",\"sale_price_sqr_foot\"],[\"316\",\"sale_price_sqr_foot\"],[\"317\",\"sale_price_sqr_foot\"],[\"318\",\"sale_price_sqr_foot\"],[\"319\",\"sale_price_sqr_foot\"],[\"320\",\"sale_price_sqr_foot\"],[\"321\",\"sale_price_sqr_foot\"],[\"322\",\"sale_price_sqr_foot\"],[\"323\",\"sale_price_sqr_foot\"],[\"324\",\"sale_price_sqr_foot\"],[\"325\",\"sale_price_sqr_foot\"],[\"326\",\"sale_price_sqr_foot\"],[\"327\",\"sale_price_sqr_foot\"],[\"328\",\"sale_price_sqr_foot\"],[\"329\",\"sale_price_sqr_foot\"],[\"330\",\"sale_price_sqr_foot\"],[\"331\",\"sale_price_sqr_foot\"],[\"332\",\"sale_price_sqr_foot\"],[\"333\",\"sale_price_sqr_foot\"],[\"334\",\"sale_price_sqr_foot\"],[\"335\",\"sale_price_sqr_foot\"],[\"336\",\"sale_price_sqr_foot\"],[\"337\",\"sale_price_sqr_foot\"],[\"338\",\"sale_price_sqr_foot\"],[\"339\",\"sale_price_sqr_foot\"],[\"340\",\"sale_price_sqr_foot\"],[\"341\",\"sale_price_sqr_foot\"],[\"342\",\"sale_price_sqr_foot\"],[\"343\",\"sale_price_sqr_foot\"],[\"344\",\"sale_price_sqr_foot\"],[\"345\",\"sale_price_sqr_foot\"],[\"346\",\"sale_price_sqr_foot\"],[\"347\",\"sale_price_sqr_foot\"],[\"348\",\"sale_price_sqr_foot\"],[\"349\",\"sale_price_sqr_foot\"],[\"350\",\"sale_price_sqr_foot\"],[\"351\",\"sale_price_sqr_foot\"],[\"352\",\"sale_price_sqr_foot\"],[\"353\",\"sale_price_sqr_foot\"],[\"354\",\"sale_price_sqr_foot\"],[\"355\",\"sale_price_sqr_foot\"],[\"356\",\"sale_price_sqr_foot\"],[\"357\",\"sale_price_sqr_foot\"],[\"358\",\"sale_price_sqr_foot\"],[\"359\",\"sale_price_sqr_foot\"],[\"360\",\"sale_price_sqr_foot\"],[\"361\",\"sale_price_sqr_foot\"],[\"362\",\"sale_price_sqr_foot\"],[\"363\",\"sale_price_sqr_foot\"],[\"364\",\"sale_price_sqr_foot\"],[\"365\",\"sale_price_sqr_foot\"],[\"366\",\"sale_price_sqr_foot\"],[\"367\",\"sale_price_sqr_foot\"],[\"368\",\"sale_price_sqr_foot\"],[\"369\",\"sale_price_sqr_foot\"],[\"370\",\"sale_price_sqr_foot\"],[\"371\",\"sale_price_sqr_foot\"],[\"372\",\"sale_price_sqr_foot\"],[\"373\",\"sale_price_sqr_foot\"],[\"374\",\"sale_price_sqr_foot\"],[\"375\",\"sale_price_sqr_foot\"],[\"376\",\"sale_price_sqr_foot\"],[\"377\",\"sale_price_sqr_foot\"],[\"378\",\"sale_price_sqr_foot\"],[\"379\",\"sale_price_sqr_foot\"],[\"380\",\"sale_price_sqr_foot\"],[\"381\",\"sale_price_sqr_foot\"],[\"382\",\"sale_price_sqr_foot\"],[\"383\",\"sale_price_sqr_foot\"],[\"384\",\"sale_price_sqr_foot\"],[\"385\",\"sale_price_sqr_foot\"],[\"386\",\"sale_price_sqr_foot\"],[\"387\",\"sale_price_sqr_foot\"],[\"388\",\"sale_price_sqr_foot\"],[\"389\",\"sale_price_sqr_foot\"],[\"390\",\"sale_price_sqr_foot\"],[\"391\",\"sale_price_sqr_foot\"],[\"392\",\"sale_price_sqr_foot\"],[\"393\",\"sale_price_sqr_foot\"],[\"394\",\"sale_price_sqr_foot\"],[\"395\",\"sale_price_sqr_foot\"],[\"396\",\"sale_price_sqr_foot\"]]},\"selected\":{\"id\":\"21507\"},\"selection_policy\":{\"id\":\"21528\"}},\"id\":\"21506\",\"type\":\"ColumnDataSource\"},{\"attributes\":{\"margin\":[5,5,5,5],\"name\":\"HSpacer14989\",\"sizing_mode\":\"stretch_width\"},\"id\":\"21541\",\"type\":\"Spacer\"},{\"attributes\":{},\"id\":\"21517\",\"type\":\"AllLabels\"},{\"attributes\":{\"axis_label\":\"gross_rent sale_price_sqr_foot\",\"coordinates\":null,\"formatter\":{\"id\":\"21519\"},\"group\":null,\"major_label_policy\":{\"id\":\"21520\"},\"ticker\":{\"id\":\"21489\"}},\"id\":\"21488\",\"type\":\"LinearAxis\"},{\"attributes\":{},\"id\":\"21489\",\"type\":\"BasicTicker\"},{\"attributes\":{},\"id\":\"21516\",\"type\":\"CategoricalTickFormatter\"},{\"attributes\":{},\"id\":\"21494\",\"type\":\"WheelZoomTool\"},{\"attributes\":{\"coordinates\":null,\"data_source\":{\"id\":\"21506\"},\"glyph\":{\"id\":\"21509\"},\"group\":null,\"hover_glyph\":null,\"muted_glyph\":{\"id\":\"21511\"},\"nonselection_glyph\":{\"id\":\"21510\"},\"selection_glyph\":{\"id\":\"21514\"},\"view\":{\"id\":\"21513\"}},\"id\":\"21512\",\"type\":\"GlyphRenderer\"},{\"attributes\":{},\"id\":\"21492\",\"type\":\"SaveTool\"},{\"attributes\":{\"overlay\":{\"id\":\"21497\"}},\"id\":\"21495\",\"type\":\"BoxZoomTool\"},{\"attributes\":{\"bottom\":{\"value\":0},\"fill_alpha\":{\"value\":1.0},\"fill_color\":{\"field\":\"Variable\",\"transform\":{\"id\":\"21505\"}},\"hatch_alpha\":{\"value\":1.0},\"hatch_color\":{\"field\":\"Variable\",\"transform\":{\"id\":\"21505\"}},\"hatch_scale\":{\"value\":12.0},\"hatch_weight\":{\"value\":1.0},\"line_alpha\":{\"value\":1.0},\"line_cap\":{\"value\":\"butt\"},\"line_color\":{\"value\":\"black\"},\"line_dash\":{\"value\":[]},\"line_dash_offset\":{\"value\":0},\"line_join\":{\"value\":\"bevel\"},\"line_width\":{\"value\":1},\"top\":{\"field\":\"value\"},\"width\":{\"value\":0.8},\"x\":{\"field\":\"xoffsets\"}},\"id\":\"21514\",\"type\":\"VBar\"},{\"attributes\":{},\"id\":\"21496\",\"type\":\"ResetTool\"},{\"attributes\":{},\"id\":\"21507\",\"type\":\"Selection\"},{\"attributes\":{},\"id\":\"21528\",\"type\":\"UnionRenderers\"},{\"attributes\":{\"children\":[{\"id\":\"21472\"},{\"id\":\"21476\"},{\"id\":\"21541\"}],\"margin\":[0,0,0,0],\"name\":\"Row14984\",\"tags\":[\"embedded\"]},\"id\":\"21471\",\"type\":\"Row\"},{\"attributes\":{\"fill_alpha\":{\"value\":0.2},\"fill_color\":{\"field\":\"Variable\",\"transform\":{\"id\":\"21505\"}},\"hatch_alpha\":{\"value\":0.2},\"hatch_color\":{\"field\":\"Variable\",\"transform\":{\"id\":\"21505\"}},\"line_alpha\":{\"value\":0.2},\"top\":{\"field\":\"value\"},\"width\":{\"value\":0.8},\"x\":{\"field\":\"xoffsets\"}},\"id\":\"21511\",\"type\":\"VBar\"},{\"attributes\":{\"source\":{\"id\":\"21506\"}},\"id\":\"21513\",\"type\":\"CDSView\"},{\"attributes\":{},\"id\":\"21520\",\"type\":\"AllLabels\"},{\"attributes\":{\"factors\":[[\"0\",\"gross_rent\"],[\"0\",\"sale_price_sqr_foot\"],[\"1\",\"gross_rent\"],[\"1\",\"sale_price_sqr_foot\"],[\"2\",\"gross_rent\"],[\"2\",\"sale_price_sqr_foot\"],[\"3\",\"gross_rent\"],[\"3\",\"sale_price_sqr_foot\"],[\"4\",\"gross_rent\"],[\"4\",\"sale_price_sqr_foot\"],[\"5\",\"gross_rent\"],[\"5\",\"sale_price_sqr_foot\"],[\"6\",\"gross_rent\"],[\"6\",\"sale_price_sqr_foot\"],[\"7\",\"gross_rent\"],[\"7\",\"sale_price_sqr_foot\"],[\"8\",\"gross_rent\"],[\"8\",\"sale_price_sqr_foot\"],[\"9\",\"gross_rent\"],[\"9\",\"sale_price_sqr_foot\"],[\"10\",\"gross_rent\"],[\"10\",\"sale_price_sqr_foot\"],[\"11\",\"gross_rent\"],[\"11\",\"sale_price_sqr_foot\"],[\"12\",\"gross_rent\"],[\"12\",\"sale_price_sqr_foot\"],[\"13\",\"gross_rent\"],[\"13\",\"sale_price_sqr_foot\"],[\"14\",\"gross_rent\"],[\"14\",\"sale_price_sqr_foot\"],[\"15\",\"gross_rent\"],[\"15\",\"sale_price_sqr_foot\"],[\"16\",\"gross_rent\"],[\"16\",\"sale_price_sqr_foot\"],[\"17\",\"gross_rent\"],[\"17\",\"sale_price_sqr_foot\"],[\"18\",\"gross_rent\"],[\"18\",\"sale_price_sqr_foot\"],[\"19\",\"gross_rent\"],[\"19\",\"sale_price_sqr_foot\"],[\"20\",\"gross_rent\"],[\"20\",\"sale_price_sqr_foot\"],[\"21\",\"gross_rent\"],[\"21\",\"sale_price_sqr_foot\"],[\"22\",\"gross_rent\"],[\"22\",\"sale_price_sqr_foot\"],[\"23\",\"gross_rent\"],[\"23\",\"sale_price_sqr_foot\"],[\"24\",\"gross_rent\"],[\"24\",\"sale_price_sqr_foot\"],[\"25\",\"gross_rent\"],[\"25\",\"sale_price_sqr_foot\"],[\"26\",\"gross_rent\"],[\"26\",\"sale_price_sqr_foot\"],[\"27\",\"gross_rent\"],[\"27\",\"sale_price_sqr_foot\"],[\"28\",\"gross_rent\"],[\"28\",\"sale_price_sqr_foot\"],[\"29\",\"gross_rent\"],[\"29\",\"sale_price_sqr_foot\"],[\"30\",\"gross_rent\"],[\"30\",\"sale_price_sqr_foot\"],[\"31\",\"gross_rent\"],[\"31\",\"sale_price_sqr_foot\"],[\"32\",\"gross_rent\"],[\"32\",\"sale_price_sqr_foot\"],[\"33\",\"gross_rent\"],[\"33\",\"sale_price_sqr_foot\"],[\"34\",\"gross_rent\"],[\"34\",\"sale_price_sqr_foot\"],[\"35\",\"gross_rent\"],[\"35\",\"sale_price_sqr_foot\"],[\"36\",\"gross_rent\"],[\"36\",\"sale_price_sqr_foot\"],[\"37\",\"gross_rent\"],[\"37\",\"sale_price_sqr_foot\"],[\"38\",\"gross_rent\"],[\"38\",\"sale_price_sqr_foot\"],[\"39\",\"gross_rent\"],[\"39\",\"sale_price_sqr_foot\"],[\"40\",\"gross_rent\"],[\"40\",\"sale_price_sqr_foot\"],[\"41\",\"gross_rent\"],[\"41\",\"sale_price_sqr_foot\"],[\"42\",\"gross_rent\"],[\"42\",\"sale_price_sqr_foot\"],[\"43\",\"gross_rent\"],[\"43\",\"sale_price_sqr_foot\"],[\"44\",\"gross_rent\"],[\"44\",\"sale_price_sqr_foot\"],[\"45\",\"gross_rent\"],[\"45\",\"sale_price_sqr_foot\"],[\"46\",\"gross_rent\"],[\"46\",\"sale_price_sqr_foot\"],[\"47\",\"gross_rent\"],[\"47\",\"sale_price_sqr_foot\"],[\"48\",\"gross_rent\"],[\"48\",\"sale_price_sqr_foot\"],[\"49\",\"gross_rent\"],[\"49\",\"sale_price_sqr_foot\"],[\"50\",\"gross_rent\"],[\"50\",\"sale_price_sqr_foot\"],[\"51\",\"gross_rent\"],[\"51\",\"sale_price_sqr_foot\"],[\"52\",\"gross_rent\"],[\"52\",\"sale_price_sqr_foot\"],[\"53\",\"gross_rent\"],[\"53\",\"sale_price_sqr_foot\"],[\"54\",\"gross_rent\"],[\"54\",\"sale_price_sqr_foot\"],[\"55\",\"gross_rent\"],[\"55\",\"sale_price_sqr_foot\"],[\"56\",\"gross_rent\"],[\"56\",\"sale_price_sqr_foot\"],[\"57\",\"gross_rent\"],[\"57\",\"sale_price_sqr_foot\"],[\"58\",\"gross_rent\"],[\"58\",\"sale_price_sqr_foot\"],[\"59\",\"gross_rent\"],[\"59\",\"sale_price_sqr_foot\"],[\"60\",\"gross_rent\"],[\"60\",\"sale_price_sqr_foot\"],[\"61\",\"gross_rent\"],[\"61\",\"sale_price_sqr_foot\"],[\"62\",\"gross_rent\"],[\"62\",\"sale_price_sqr_foot\"],[\"63\",\"gross_rent\"],[\"63\",\"sale_price_sqr_foot\"],[\"64\",\"gross_rent\"],[\"64\",\"sale_price_sqr_foot\"],[\"65\",\"gross_rent\"],[\"65\",\"sale_price_sqr_foot\"],[\"66\",\"gross_rent\"],[\"66\",\"sale_price_sqr_foot\"],[\"67\",\"gross_rent\"],[\"67\",\"sale_price_sqr_foot\"],[\"68\",\"gross_rent\"],[\"68\",\"sale_price_sqr_foot\"],[\"69\",\"gross_rent\"],[\"69\",\"sale_price_sqr_foot\"],[\"70\",\"gross_rent\"],[\"70\",\"sale_price_sqr_foot\"],[\"71\",\"gross_rent\"],[\"71\",\"sale_price_sqr_foot\"],[\"72\",\"gross_rent\"],[\"72\",\"sale_price_sqr_foot\"],[\"73\",\"gross_rent\"],[\"73\",\"sale_price_sqr_foot\"],[\"74\",\"gross_rent\"],[\"74\",\"sale_price_sqr_foot\"],[\"75\",\"gross_rent\"],[\"75\",\"sale_price_sqr_foot\"],[\"76\",\"gross_rent\"],[\"76\",\"sale_price_sqr_foot\"],[\"77\",\"gross_rent\"],[\"77\",\"sale_price_sqr_foot\"],[\"78\",\"gross_rent\"],[\"78\",\"sale_price_sqr_foot\"],[\"79\",\"gross_rent\"],[\"79\",\"sale_price_sqr_foot\"],[\"80\",\"gross_rent\"],[\"80\",\"sale_price_sqr_foot\"],[\"81\",\"gross_rent\"],[\"81\",\"sale_price_sqr_foot\"],[\"82\",\"gross_rent\"],[\"82\",\"sale_price_sqr_foot\"],[\"83\",\"gross_rent\"],[\"83\",\"sale_price_sqr_foot\"],[\"84\",\"gross_rent\"],[\"84\",\"sale_price_sqr_foot\"],[\"85\",\"gross_rent\"],[\"85\",\"sale_price_sqr_foot\"],[\"86\",\"gross_rent\"],[\"86\",\"sale_price_sqr_foot\"],[\"87\",\"gross_rent\"],[\"87\",\"sale_price_sqr_foot\"],[\"88\",\"gross_rent\"],[\"88\",\"sale_price_sqr_foot\"],[\"89\",\"gross_rent\"],[\"89\",\"sale_price_sqr_foot\"],[\"90\",\"gross_rent\"],[\"90\",\"sale_price_sqr_foot\"],[\"91\",\"gross_rent\"],[\"91\",\"sale_price_sqr_foot\"],[\"92\",\"gross_rent\"],[\"92\",\"sale_price_sqr_foot\"],[\"93\",\"gross_rent\"],[\"93\",\"sale_price_sqr_foot\"],[\"94\",\"gross_rent\"],[\"94\",\"sale_price_sqr_foot\"],[\"95\",\"gross_rent\"],[\"95\",\"sale_price_sqr_foot\"],[\"96\",\"gross_rent\"],[\"96\",\"sale_price_sqr_foot\"],[\"97\",\"gross_rent\"],[\"97\",\"sale_price_sqr_foot\"],[\"98\",\"gross_rent\"],[\"98\",\"sale_price_sqr_foot\"],[\"99\",\"gross_rent\"],[\"99\",\"sale_price_sqr_foot\"],[\"100\",\"gross_rent\"],[\"100\",\"sale_price_sqr_foot\"],[\"101\",\"gross_rent\"],[\"101\",\"sale_price_sqr_foot\"],[\"102\",\"gross_rent\"],[\"102\",\"sale_price_sqr_foot\"],[\"103\",\"gross_rent\"],[\"103\",\"sale_price_sqr_foot\"],[\"104\",\"gross_rent\"],[\"104\",\"sale_price_sqr_foot\"],[\"105\",\"gross_rent\"],[\"105\",\"sale_price_sqr_foot\"],[\"106\",\"gross_rent\"],[\"106\",\"sale_price_sqr_foot\"],[\"107\",\"gross_rent\"],[\"107\",\"sale_price_sqr_foot\"],[\"108\",\"gross_rent\"],[\"108\",\"sale_price_sqr_foot\"],[\"109\",\"gross_rent\"],[\"109\",\"sale_price_sqr_foot\"],[\"110\",\"gross_rent\"],[\"110\",\"sale_price_sqr_foot\"],[\"111\",\"gross_rent\"],[\"111\",\"sale_price_sqr_foot\"],[\"112\",\"gross_rent\"],[\"112\",\"sale_price_sqr_foot\"],[\"113\",\"gross_rent\"],[\"113\",\"sale_price_sqr_foot\"],[\"114\",\"gross_rent\"],[\"114\",\"sale_price_sqr_foot\"],[\"115\",\"gross_rent\"],[\"115\",\"sale_price_sqr_foot\"],[\"116\",\"gross_rent\"],[\"116\",\"sale_price_sqr_foot\"],[\"117\",\"gross_rent\"],[\"117\",\"sale_price_sqr_foot\"],[\"118\",\"gross_rent\"],[\"118\",\"sale_price_sqr_foot\"],[\"119\",\"gross_rent\"],[\"119\",\"sale_price_sqr_foot\"],[\"120\",\"gross_rent\"],[\"120\",\"sale_price_sqr_foot\"],[\"121\",\"gross_rent\"],[\"121\",\"sale_price_sqr_foot\"],[\"122\",\"gross_rent\"],[\"122\",\"sale_price_sqr_foot\"],[\"123\",\"gross_rent\"],[\"123\",\"sale_price_sqr_foot\"],[\"124\",\"gross_rent\"],[\"124\",\"sale_price_sqr_foot\"],[\"125\",\"gross_rent\"],[\"125\",\"sale_price_sqr_foot\"],[\"126\",\"gross_rent\"],[\"126\",\"sale_price_sqr_foot\"],[\"127\",\"gross_rent\"],[\"127\",\"sale_price_sqr_foot\"],[\"128\",\"gross_rent\"],[\"128\",\"sale_price_sqr_foot\"],[\"129\",\"gross_rent\"],[\"129\",\"sale_price_sqr_foot\"],[\"130\",\"gross_rent\"],[\"130\",\"sale_price_sqr_foot\"],[\"131\",\"gross_rent\"],[\"131\",\"sale_price_sqr_foot\"],[\"132\",\"gross_rent\"],[\"132\",\"sale_price_sqr_foot\"],[\"133\",\"gross_rent\"],[\"133\",\"sale_price_sqr_foot\"],[\"134\",\"gross_rent\"],[\"134\",\"sale_price_sqr_foot\"],[\"135\",\"gross_rent\"],[\"135\",\"sale_price_sqr_foot\"],[\"136\",\"gross_rent\"],[\"136\",\"sale_price_sqr_foot\"],[\"137\",\"gross_rent\"],[\"137\",\"sale_price_sqr_foot\"],[\"138\",\"gross_rent\"],[\"138\",\"sale_price_sqr_foot\"],[\"139\",\"gross_rent\"],[\"139\",\"sale_price_sqr_foot\"],[\"140\",\"gross_rent\"],[\"140\",\"sale_price_sqr_foot\"],[\"141\",\"gross_rent\"],[\"141\",\"sale_price_sqr_foot\"],[\"142\",\"gross_rent\"],[\"142\",\"sale_price_sqr_foot\"],[\"143\",\"gross_rent\"],[\"143\",\"sale_price_sqr_foot\"],[\"144\",\"gross_rent\"],[\"144\",\"sale_price_sqr_foot\"],[\"145\",\"gross_rent\"],[\"145\",\"sale_price_sqr_foot\"],[\"146\",\"gross_rent\"],[\"146\",\"sale_price_sqr_foot\"],[\"147\",\"gross_rent\"],[\"147\",\"sale_price_sqr_foot\"],[\"148\",\"gross_rent\"],[\"148\",\"sale_price_sqr_foot\"],[\"149\",\"gross_rent\"],[\"149\",\"sale_price_sqr_foot\"],[\"150\",\"gross_rent\"],[\"150\",\"sale_price_sqr_foot\"],[\"151\",\"gross_rent\"],[\"151\",\"sale_price_sqr_foot\"],[\"152\",\"gross_rent\"],[\"152\",\"sale_price_sqr_foot\"],[\"153\",\"gross_rent\"],[\"153\",\"sale_price_sqr_foot\"],[\"154\",\"gross_rent\"],[\"154\",\"sale_price_sqr_foot\"],[\"155\",\"gross_rent\"],[\"155\",\"sale_price_sqr_foot\"],[\"156\",\"gross_rent\"],[\"156\",\"sale_price_sqr_foot\"],[\"157\",\"gross_rent\"],[\"157\",\"sale_price_sqr_foot\"],[\"158\",\"gross_rent\"],[\"158\",\"sale_price_sqr_foot\"],[\"159\",\"gross_rent\"],[\"159\",\"sale_price_sqr_foot\"],[\"160\",\"gross_rent\"],[\"160\",\"sale_price_sqr_foot\"],[\"161\",\"gross_rent\"],[\"161\",\"sale_price_sqr_foot\"],[\"162\",\"gross_rent\"],[\"162\",\"sale_price_sqr_foot\"],[\"163\",\"gross_rent\"],[\"163\",\"sale_price_sqr_foot\"],[\"164\",\"gross_rent\"],[\"164\",\"sale_price_sqr_foot\"],[\"165\",\"gross_rent\"],[\"165\",\"sale_price_sqr_foot\"],[\"166\",\"gross_rent\"],[\"166\",\"sale_price_sqr_foot\"],[\"167\",\"gross_rent\"],[\"167\",\"sale_price_sqr_foot\"],[\"168\",\"gross_rent\"],[\"168\",\"sale_price_sqr_foot\"],[\"169\",\"gross_rent\"],[\"169\",\"sale_price_sqr_foot\"],[\"170\",\"gross_rent\"],[\"170\",\"sale_price_sqr_foot\"],[\"171\",\"gross_rent\"],[\"171\",\"sale_price_sqr_foot\"],[\"172\",\"gross_rent\"],[\"172\",\"sale_price_sqr_foot\"],[\"173\",\"gross_rent\"],[\"173\",\"sale_price_sqr_foot\"],[\"174\",\"gross_rent\"],[\"174\",\"sale_price_sqr_foot\"],[\"175\",\"gross_rent\"],[\"175\",\"sale_price_sqr_foot\"],[\"176\",\"gross_rent\"],[\"176\",\"sale_price_sqr_foot\"],[\"177\",\"gross_rent\"],[\"177\",\"sale_price_sqr_foot\"],[\"178\",\"gross_rent\"],[\"178\",\"sale_price_sqr_foot\"],[\"179\",\"gross_rent\"],[\"179\",\"sale_price_sqr_foot\"],[\"180\",\"gross_rent\"],[\"180\",\"sale_price_sqr_foot\"],[\"181\",\"gross_rent\"],[\"181\",\"sale_price_sqr_foot\"],[\"182\",\"gross_rent\"],[\"182\",\"sale_price_sqr_foot\"],[\"183\",\"gross_rent\"],[\"183\",\"sale_price_sqr_foot\"],[\"184\",\"gross_rent\"],[\"184\",\"sale_price_sqr_foot\"],[\"185\",\"gross_rent\"],[\"185\",\"sale_price_sqr_foot\"],[\"186\",\"gross_rent\"],[\"186\",\"sale_price_sqr_foot\"],[\"187\",\"gross_rent\"],[\"187\",\"sale_price_sqr_foot\"],[\"188\",\"gross_rent\"],[\"188\",\"sale_price_sqr_foot\"],[\"189\",\"gross_rent\"],[\"189\",\"sale_price_sqr_foot\"],[\"190\",\"gross_rent\"],[\"190\",\"sale_price_sqr_foot\"],[\"191\",\"gross_rent\"],[\"191\",\"sale_price_sqr_foot\"],[\"192\",\"gross_rent\"],[\"192\",\"sale_price_sqr_foot\"],[\"193\",\"gross_rent\"],[\"193\",\"sale_price_sqr_foot\"],[\"194\",\"gross_rent\"],[\"194\",\"sale_price_sqr_foot\"],[\"195\",\"gross_rent\"],[\"195\",\"sale_price_sqr_foot\"],[\"196\",\"gross_rent\"],[\"196\",\"sale_price_sqr_foot\"],[\"197\",\"gross_rent\"],[\"197\",\"sale_price_sqr_foot\"],[\"198\",\"gross_rent\"],[\"198\",\"sale_price_sqr_foot\"],[\"199\",\"gross_rent\"],[\"199\",\"sale_price_sqr_foot\"],[\"200\",\"gross_rent\"],[\"200\",\"sale_price_sqr_foot\"],[\"201\",\"gross_rent\"],[\"201\",\"sale_price_sqr_foot\"],[\"202\",\"gross_rent\"],[\"202\",\"sale_price_sqr_foot\"],[\"203\",\"gross_rent\"],[\"203\",\"sale_price_sqr_foot\"],[\"204\",\"gross_rent\"],[\"204\",\"sale_price_sqr_foot\"],[\"205\",\"gross_rent\"],[\"205\",\"sale_price_sqr_foot\"],[\"206\",\"gross_rent\"],[\"206\",\"sale_price_sqr_foot\"],[\"207\",\"gross_rent\"],[\"207\",\"sale_price_sqr_foot\"],[\"208\",\"gross_rent\"],[\"208\",\"sale_price_sqr_foot\"],[\"209\",\"gross_rent\"],[\"209\",\"sale_price_sqr_foot\"],[\"210\",\"gross_rent\"],[\"210\",\"sale_price_sqr_foot\"],[\"211\",\"gross_rent\"],[\"211\",\"sale_price_sqr_foot\"],[\"212\",\"gross_rent\"],[\"212\",\"sale_price_sqr_foot\"],[\"213\",\"gross_rent\"],[\"213\",\"sale_price_sqr_foot\"],[\"214\",\"gross_rent\"],[\"214\",\"sale_price_sqr_foot\"],[\"215\",\"gross_rent\"],[\"215\",\"sale_price_sqr_foot\"],[\"216\",\"gross_rent\"],[\"216\",\"sale_price_sqr_foot\"],[\"217\",\"gross_rent\"],[\"217\",\"sale_price_sqr_foot\"],[\"218\",\"gross_rent\"],[\"218\",\"sale_price_sqr_foot\"],[\"219\",\"gross_rent\"],[\"219\",\"sale_price_sqr_foot\"],[\"220\",\"gross_rent\"],[\"220\",\"sale_price_sqr_foot\"],[\"221\",\"gross_rent\"],[\"221\",\"sale_price_sqr_foot\"],[\"222\",\"gross_rent\"],[\"222\",\"sale_price_sqr_foot\"],[\"223\",\"gross_rent\"],[\"223\",\"sale_price_sqr_foot\"],[\"224\",\"gross_rent\"],[\"224\",\"sale_price_sqr_foot\"],[\"225\",\"gross_rent\"],[\"225\",\"sale_price_sqr_foot\"],[\"226\",\"gross_rent\"],[\"226\",\"sale_price_sqr_foot\"],[\"227\",\"gross_rent\"],[\"227\",\"sale_price_sqr_foot\"],[\"228\",\"gross_rent\"],[\"228\",\"sale_price_sqr_foot\"],[\"229\",\"gross_rent\"],[\"229\",\"sale_price_sqr_foot\"],[\"230\",\"gross_rent\"],[\"230\",\"sale_price_sqr_foot\"],[\"231\",\"gross_rent\"],[\"231\",\"sale_price_sqr_foot\"],[\"232\",\"gross_rent\"],[\"232\",\"sale_price_sqr_foot\"],[\"233\",\"gross_rent\"],[\"233\",\"sale_price_sqr_foot\"],[\"234\",\"gross_rent\"],[\"234\",\"sale_price_sqr_foot\"],[\"235\",\"gross_rent\"],[\"235\",\"sale_price_sqr_foot\"],[\"236\",\"gross_rent\"],[\"236\",\"sale_price_sqr_foot\"],[\"237\",\"gross_rent\"],[\"237\",\"sale_price_sqr_foot\"],[\"238\",\"gross_rent\"],[\"238\",\"sale_price_sqr_foot\"],[\"239\",\"gross_rent\"],[\"239\",\"sale_price_sqr_foot\"],[\"240\",\"gross_rent\"],[\"240\",\"sale_price_sqr_foot\"],[\"241\",\"gross_rent\"],[\"241\",\"sale_price_sqr_foot\"],[\"242\",\"gross_rent\"],[\"242\",\"sale_price_sqr_foot\"],[\"243\",\"gross_rent\"],[\"243\",\"sale_price_sqr_foot\"],[\"244\",\"gross_rent\"],[\"244\",\"sale_price_sqr_foot\"],[\"245\",\"gross_rent\"],[\"245\",\"sale_price_sqr_foot\"],[\"246\",\"gross_rent\"],[\"246\",\"sale_price_sqr_foot\"],[\"247\",\"gross_rent\"],[\"247\",\"sale_price_sqr_foot\"],[\"248\",\"gross_rent\"],[\"248\",\"sale_price_sqr_foot\"],[\"249\",\"gross_rent\"],[\"249\",\"sale_price_sqr_foot\"],[\"250\",\"gross_rent\"],[\"250\",\"sale_price_sqr_foot\"],[\"251\",\"gross_rent\"],[\"251\",\"sale_price_sqr_foot\"],[\"252\",\"gross_rent\"],[\"252\",\"sale_price_sqr_foot\"],[\"253\",\"gross_rent\"],[\"253\",\"sale_price_sqr_foot\"],[\"254\",\"gross_rent\"],[\"254\",\"sale_price_sqr_foot\"],[\"255\",\"gross_rent\"],[\"255\",\"sale_price_sqr_foot\"],[\"256\",\"gross_rent\"],[\"256\",\"sale_price_sqr_foot\"],[\"257\",\"gross_rent\"],[\"257\",\"sale_price_sqr_foot\"],[\"258\",\"gross_rent\"],[\"258\",\"sale_price_sqr_foot\"],[\"259\",\"gross_rent\"],[\"259\",\"sale_price_sqr_foot\"],[\"260\",\"gross_rent\"],[\"260\",\"sale_price_sqr_foot\"],[\"261\",\"gross_rent\"],[\"261\",\"sale_price_sqr_foot\"],[\"262\",\"gross_rent\"],[\"262\",\"sale_price_sqr_foot\"],[\"263\",\"gross_rent\"],[\"263\",\"sale_price_sqr_foot\"],[\"264\",\"gross_rent\"],[\"264\",\"sale_price_sqr_foot\"],[\"265\",\"gross_rent\"],[\"265\",\"sale_price_sqr_foot\"],[\"266\",\"gross_rent\"],[\"266\",\"sale_price_sqr_foot\"],[\"267\",\"gross_rent\"],[\"267\",\"sale_price_sqr_foot\"],[\"268\",\"gross_rent\"],[\"268\",\"sale_price_sqr_foot\"],[\"269\",\"gross_rent\"],[\"269\",\"sale_price_sqr_foot\"],[\"270\",\"gross_rent\"],[\"270\",\"sale_price_sqr_foot\"],[\"271\",\"gross_rent\"],[\"271\",\"sale_price_sqr_foot\"],[\"272\",\"gross_rent\"],[\"272\",\"sale_price_sqr_foot\"],[\"273\",\"gross_rent\"],[\"273\",\"sale_price_sqr_foot\"],[\"274\",\"gross_rent\"],[\"274\",\"sale_price_sqr_foot\"],[\"275\",\"gross_rent\"],[\"275\",\"sale_price_sqr_foot\"],[\"276\",\"gross_rent\"],[\"276\",\"sale_price_sqr_foot\"],[\"277\",\"gross_rent\"],[\"277\",\"sale_price_sqr_foot\"],[\"278\",\"gross_rent\"],[\"278\",\"sale_price_sqr_foot\"],[\"279\",\"gross_rent\"],[\"279\",\"sale_price_sqr_foot\"],[\"280\",\"gross_rent\"],[\"280\",\"sale_price_sqr_foot\"],[\"281\",\"gross_rent\"],[\"281\",\"sale_price_sqr_foot\"],[\"282\",\"gross_rent\"],[\"282\",\"sale_price_sqr_foot\"],[\"283\",\"gross_rent\"],[\"283\",\"sale_price_sqr_foot\"],[\"284\",\"gross_rent\"],[\"284\",\"sale_price_sqr_foot\"],[\"285\",\"gross_rent\"],[\"285\",\"sale_price_sqr_foot\"],[\"286\",\"gross_rent\"],[\"286\",\"sale_price_sqr_foot\"],[\"287\",\"gross_rent\"],[\"287\",\"sale_price_sqr_foot\"],[\"288\",\"gross_rent\"],[\"288\",\"sale_price_sqr_foot\"],[\"289\",\"gross_rent\"],[\"289\",\"sale_price_sqr_foot\"],[\"290\",\"gross_rent\"],[\"290\",\"sale_price_sqr_foot\"],[\"291\",\"gross_rent\"],[\"291\",\"sale_price_sqr_foot\"],[\"292\",\"gross_rent\"],[\"292\",\"sale_price_sqr_foot\"],[\"293\",\"gross_rent\"],[\"293\",\"sale_price_sqr_foot\"],[\"294\",\"gross_rent\"],[\"294\",\"sale_price_sqr_foot\"],[\"295\",\"gross_rent\"],[\"295\",\"sale_price_sqr_foot\"],[\"296\",\"gross_rent\"],[\"296\",\"sale_price_sqr_foot\"],[\"297\",\"gross_rent\"],[\"297\",\"sale_price_sqr_foot\"],[\"298\",\"gross_rent\"],[\"298\",\"sale_price_sqr_foot\"],[\"299\",\"gross_rent\"],[\"299\",\"sale_price_sqr_foot\"],[\"300\",\"gross_rent\"],[\"300\",\"sale_price_sqr_foot\"],[\"301\",\"gross_rent\"],[\"301\",\"sale_price_sqr_foot\"],[\"302\",\"gross_rent\"],[\"302\",\"sale_price_sqr_foot\"],[\"303\",\"gross_rent\"],[\"303\",\"sale_price_sqr_foot\"],[\"304\",\"gross_rent\"],[\"304\",\"sale_price_sqr_foot\"],[\"305\",\"gross_rent\"],[\"305\",\"sale_price_sqr_foot\"],[\"306\",\"gross_rent\"],[\"306\",\"sale_price_sqr_foot\"],[\"307\",\"gross_rent\"],[\"307\",\"sale_price_sqr_foot\"],[\"308\",\"gross_rent\"],[\"308\",\"sale_price_sqr_foot\"],[\"309\",\"gross_rent\"],[\"309\",\"sale_price_sqr_foot\"],[\"310\",\"gross_rent\"],[\"310\",\"sale_price_sqr_foot\"],[\"311\",\"gross_rent\"],[\"311\",\"sale_price_sqr_foot\"],[\"312\",\"gross_rent\"],[\"312\",\"sale_price_sqr_foot\"],[\"313\",\"gross_rent\"],[\"313\",\"sale_price_sqr_foot\"],[\"314\",\"gross_rent\"],[\"314\",\"sale_price_sqr_foot\"],[\"315\",\"gross_rent\"],[\"315\",\"sale_price_sqr_foot\"],[\"316\",\"gross_rent\"],[\"316\",\"sale_price_sqr_foot\"],[\"317\",\"gross_rent\"],[\"317\",\"sale_price_sqr_foot\"],[\"318\",\"gross_rent\"],[\"318\",\"sale_price_sqr_foot\"],[\"319\",\"gross_rent\"],[\"319\",\"sale_price_sqr_foot\"],[\"320\",\"gross_rent\"],[\"320\",\"sale_price_sqr_foot\"],[\"321\",\"gross_rent\"],[\"321\",\"sale_price_sqr_foot\"],[\"322\",\"gross_rent\"],[\"322\",\"sale_price_sqr_foot\"],[\"323\",\"gross_rent\"],[\"323\",\"sale_price_sqr_foot\"],[\"324\",\"gross_rent\"],[\"324\",\"sale_price_sqr_foot\"],[\"325\",\"gross_rent\"],[\"325\",\"sale_price_sqr_foot\"],[\"326\",\"gross_rent\"],[\"326\",\"sale_price_sqr_foot\"],[\"327\",\"gross_rent\"],[\"327\",\"sale_price_sqr_foot\"],[\"328\",\"gross_rent\"],[\"328\",\"sale_price_sqr_foot\"],[\"329\",\"gross_rent\"],[\"329\",\"sale_price_sqr_foot\"],[\"330\",\"gross_rent\"],[\"330\",\"sale_price_sqr_foot\"],[\"331\",\"gross_rent\"],[\"331\",\"sale_price_sqr_foot\"],[\"332\",\"gross_rent\"],[\"332\",\"sale_price_sqr_foot\"],[\"333\",\"gross_rent\"],[\"333\",\"sale_price_sqr_foot\"],[\"334\",\"gross_rent\"],[\"334\",\"sale_price_sqr_foot\"],[\"335\",\"gross_rent\"],[\"335\",\"sale_price_sqr_foot\"],[\"336\",\"gross_rent\"],[\"336\",\"sale_price_sqr_foot\"],[\"337\",\"gross_rent\"],[\"337\",\"sale_price_sqr_foot\"],[\"338\",\"gross_rent\"],[\"338\",\"sale_price_sqr_foot\"],[\"339\",\"gross_rent\"],[\"339\",\"sale_price_sqr_foot\"],[\"340\",\"gross_rent\"],[\"340\",\"sale_price_sqr_foot\"],[\"341\",\"gross_rent\"],[\"341\",\"sale_price_sqr_foot\"],[\"342\",\"gross_rent\"],[\"342\",\"sale_price_sqr_foot\"],[\"343\",\"gross_rent\"],[\"343\",\"sale_price_sqr_foot\"],[\"344\",\"gross_rent\"],[\"344\",\"sale_price_sqr_foot\"],[\"345\",\"gross_rent\"],[\"345\",\"sale_price_sqr_foot\"],[\"346\",\"gross_rent\"],[\"346\",\"sale_price_sqr_foot\"],[\"347\",\"gross_rent\"],[\"347\",\"sale_price_sqr_foot\"],[\"348\",\"gross_rent\"],[\"348\",\"sale_price_sqr_foot\"],[\"349\",\"gross_rent\"],[\"349\",\"sale_price_sqr_foot\"],[\"350\",\"gross_rent\"],[\"350\",\"sale_price_sqr_foot\"],[\"351\",\"gross_rent\"],[\"351\",\"sale_price_sqr_foot\"],[\"352\",\"gross_rent\"],[\"352\",\"sale_price_sqr_foot\"],[\"353\",\"gross_rent\"],[\"353\",\"sale_price_sqr_foot\"],[\"354\",\"gross_rent\"],[\"354\",\"sale_price_sqr_foot\"],[\"355\",\"gross_rent\"],[\"355\",\"sale_price_sqr_foot\"],[\"356\",\"gross_rent\"],[\"356\",\"sale_price_sqr_foot\"],[\"357\",\"gross_rent\"],[\"357\",\"sale_price_sqr_foot\"],[\"358\",\"gross_rent\"],[\"358\",\"sale_price_sqr_foot\"],[\"359\",\"gross_rent\"],[\"359\",\"sale_price_sqr_foot\"],[\"360\",\"gross_rent\"],[\"360\",\"sale_price_sqr_foot\"],[\"361\",\"gross_rent\"],[\"361\",\"sale_price_sqr_foot\"],[\"362\",\"gross_rent\"],[\"362\",\"sale_price_sqr_foot\"],[\"363\",\"gross_rent\"],[\"363\",\"sale_price_sqr_foot\"],[\"364\",\"gross_rent\"],[\"364\",\"sale_price_sqr_foot\"],[\"365\",\"gross_rent\"],[\"365\",\"sale_price_sqr_foot\"],[\"366\",\"gross_rent\"],[\"366\",\"sale_price_sqr_foot\"],[\"367\",\"gross_rent\"],[\"367\",\"sale_price_sqr_foot\"],[\"368\",\"gross_rent\"],[\"368\",\"sale_price_sqr_foot\"],[\"369\",\"gross_rent\"],[\"369\",\"sale_price_sqr_foot\"],[\"370\",\"gross_rent\"],[\"370\",\"sale_price_sqr_foot\"],[\"371\",\"gross_rent\"],[\"371\",\"sale_price_sqr_foot\"],[\"372\",\"gross_rent\"],[\"372\",\"sale_price_sqr_foot\"],[\"373\",\"gross_rent\"],[\"373\",\"sale_price_sqr_foot\"],[\"374\",\"gross_rent\"],[\"374\",\"sale_price_sqr_foot\"],[\"375\",\"gross_rent\"],[\"375\",\"sale_price_sqr_foot\"],[\"376\",\"gross_rent\"],[\"376\",\"sale_price_sqr_foot\"],[\"377\",\"gross_rent\"],[\"377\",\"sale_price_sqr_foot\"],[\"378\",\"gross_rent\"],[\"378\",\"sale_price_sqr_foot\"],[\"379\",\"gross_rent\"],[\"379\",\"sale_price_sqr_foot\"],[\"380\",\"gross_rent\"],[\"380\",\"sale_price_sqr_foot\"],[\"381\",\"gross_rent\"],[\"381\",\"sale_price_sqr_foot\"],[\"382\",\"gross_rent\"],[\"382\",\"sale_price_sqr_foot\"],[\"383\",\"gross_rent\"],[\"383\",\"sale_price_sqr_foot\"],[\"384\",\"gross_rent\"],[\"384\",\"sale_price_sqr_foot\"],[\"385\",\"gross_rent\"],[\"385\",\"sale_price_sqr_foot\"],[\"386\",\"gross_rent\"],[\"386\",\"sale_price_sqr_foot\"],[\"387\",\"gross_rent\"],[\"387\",\"sale_price_sqr_foot\"],[\"388\",\"gross_rent\"],[\"388\",\"sale_price_sqr_foot\"],[\"389\",\"gross_rent\"],[\"389\",\"sale_price_sqr_foot\"],[\"390\",\"gross_rent\"],[\"390\",\"sale_price_sqr_foot\"],[\"391\",\"gross_rent\"],[\"391\",\"sale_price_sqr_foot\"],[\"392\",\"gross_rent\"],[\"392\",\"sale_price_sqr_foot\"],[\"393\",\"gross_rent\"],[\"393\",\"sale_price_sqr_foot\"],[\"394\",\"gross_rent\"],[\"394\",\"sale_price_sqr_foot\"],[\"395\",\"gross_rent\"],[\"395\",\"sale_price_sqr_foot\"],[\"396\",\"gross_rent\"],[\"396\",\"sale_price_sqr_foot\"]],\"tags\":[[[\"index\",\"index\",null],[\"Variable\",\"Variable\",null]]]},\"id\":\"21473\",\"type\":\"FactorRange\"},{\"attributes\":{\"margin\":[5,5,5,5],\"name\":\"HSpacer14988\",\"sizing_mode\":\"stretch_width\"},\"id\":\"21472\",\"type\":\"Spacer\"}],\"root_ids\":[\"21471\"]},\"title\":\"Bokeh Application\",\"version\":\"2.4.0\"}};\n",
       "    var render_items = [{\"docid\":\"c11196cd-8561-420e-927a-60c291c4db1b\",\"root_ids\":[\"21471\"],\"roots\":{\"21471\":\"9087ff13-307d-4bbf-91bc-71145b993167\"}}];\n",
       "    root.Bokeh.embed.embed_items_notebook(docs_json, render_items);\n",
       "  }\n",
       "  if (root.Bokeh !== undefined && root.Bokeh.Panel !== undefined && ( root['Plotly'] !== undefined)) {\n",
       "    embed_document(root);\n",
       "  } else {\n",
       "    var attempts = 0;\n",
       "    var timer = setInterval(function(root) {\n",
       "      if (root.Bokeh !== undefined && root.Bokeh.Panel !== undefined && (root['Plotly'] !== undefined)) {\n",
       "        clearInterval(timer);\n",
       "        embed_document(root);\n",
       "      } else if (document.readyState == \"complete\") {\n",
       "        attempts++;\n",
       "        if (attempts > 200) {\n",
       "          clearInterval(timer);\n",
       "          console.log(\"Bokeh: ERROR: Unable to run BokehJS code because BokehJS library is missing\");\n",
       "        }\n",
       "      }\n",
       "    }, 25, root)\n",
       "  }\n",
       "})(window);</script>"
      ],
      "text/plain": [
       ":Bars   [index,Variable]   (value)"
      ]
     },
     "execution_count": 94,
     "metadata": {
      "application/vnd.holoviews_exec.v0+json": {
       "id": "21471"
      }
     },
     "output_type": "execute_result"
    }
   ],
   "source": [
    "# Plotting the data from the top 10 expensive neighborhoods\n",
    "# YOUR CODE HERE!\n",
    "bar1 = dataframe_cost.hvplot(\n",
    "                        y=[\"gross_rent\", \"sale_price_sqr_foot\"],\n",
    "                        kind=\"bar\",\n",
    "                        height=400, width=800,\n",
    "                        \n",
    "                        ylabel=\"gross_rent sale_price_sqr_foot\",\n",
    "                        title=\"top 10 expensive neighborhoods\", )\n",
    "bar1"
   ]
  },
  {
   "cell_type": "markdown",
   "metadata": {},
   "source": [
    "- - - "
   ]
  },
  {
   "cell_type": "markdown",
   "metadata": {},
   "source": [
    "## Neighborhood Map\n",
    "\n",
    "In this section, you will read in neighborhoods location data and build an interactive map with the average house value per neighborhood. Use a `scatter_mapbox` from Plotly express to create the visualization. Remember, you will need your Mapbox API key for this."
   ]
  },
  {
   "cell_type": "markdown",
   "metadata": {},
   "source": [
    "### Load Location Data"
   ]
  },
  {
   "cell_type": "code",
   "execution_count": 95,
   "metadata": {},
   "outputs": [
    {
     "data": {
      "text/html": [
       "<div>\n",
       "<style scoped>\n",
       "    .dataframe tbody tr th:only-of-type {\n",
       "        vertical-align: middle;\n",
       "    }\n",
       "\n",
       "    .dataframe tbody tr th {\n",
       "        vertical-align: top;\n",
       "    }\n",
       "\n",
       "    .dataframe thead th {\n",
       "        text-align: right;\n",
       "    }\n",
       "</style>\n",
       "<table border=\"1\" class=\"dataframe\">\n",
       "  <thead>\n",
       "    <tr style=\"text-align: right;\">\n",
       "      <th></th>\n",
       "      <th>Neighborhood</th>\n",
       "      <th>Lat</th>\n",
       "      <th>Lon</th>\n",
       "    </tr>\n",
       "  </thead>\n",
       "  <tbody>\n",
       "    <tr>\n",
       "      <th>0</th>\n",
       "      <td>Alamo Square</td>\n",
       "      <td>37.791012</td>\n",
       "      <td>-122.402100</td>\n",
       "    </tr>\n",
       "    <tr>\n",
       "      <th>1</th>\n",
       "      <td>Anza Vista</td>\n",
       "      <td>37.779598</td>\n",
       "      <td>-122.443451</td>\n",
       "    </tr>\n",
       "    <tr>\n",
       "      <th>2</th>\n",
       "      <td>Bayview</td>\n",
       "      <td>37.734670</td>\n",
       "      <td>-122.401060</td>\n",
       "    </tr>\n",
       "    <tr>\n",
       "      <th>3</th>\n",
       "      <td>Bayview Heights</td>\n",
       "      <td>37.728740</td>\n",
       "      <td>-122.410980</td>\n",
       "    </tr>\n",
       "    <tr>\n",
       "      <th>4</th>\n",
       "      <td>Bernal Heights</td>\n",
       "      <td>37.728630</td>\n",
       "      <td>-122.443050</td>\n",
       "    </tr>\n",
       "  </tbody>\n",
       "</table>\n",
       "</div>"
      ],
      "text/plain": [
       "      Neighborhood        Lat         Lon\n",
       "0     Alamo Square  37.791012 -122.402100\n",
       "1       Anza Vista  37.779598 -122.443451\n",
       "2          Bayview  37.734670 -122.401060\n",
       "3  Bayview Heights  37.728740 -122.410980\n",
       "4   Bernal Heights  37.728630 -122.443050"
      ]
     },
     "execution_count": 95,
     "metadata": {},
     "output_type": "execute_result"
    }
   ],
   "source": [
    "# Load neighborhoods coordinates data\n",
    "# Giving the file path and read the file.\n",
    "file_path = Path(\"Data/neighborhoods_coordinates.csv\")\n",
    "df_neighborhood_locations = pd.read_csv(file_path)\n",
    "df_neighborhood_locations.head()"
   ]
  },
  {
   "cell_type": "markdown",
   "metadata": {},
   "source": [
    "### Data Preparation\n",
    "\n",
    "You will need to join the location data with the mean values per neighborhood.\n",
    "\n",
    "1. Calculate the mean values for each neighborhood.\n",
    "\n",
    "2. Join the average values with the neighborhood locations."
   ]
  },
  {
   "cell_type": "code",
   "execution_count": 96,
   "metadata": {},
   "outputs": [
    {
     "data": {
      "text/html": [
       "<div>\n",
       "<style scoped>\n",
       "    .dataframe tbody tr th:only-of-type {\n",
       "        vertical-align: middle;\n",
       "    }\n",
       "\n",
       "    .dataframe tbody tr th {\n",
       "        vertical-align: top;\n",
       "    }\n",
       "\n",
       "    .dataframe thead th {\n",
       "        text-align: right;\n",
       "    }\n",
       "</style>\n",
       "<table border=\"1\" class=\"dataframe\">\n",
       "  <thead>\n",
       "    <tr style=\"text-align: right;\">\n",
       "      <th></th>\n",
       "      <th>Neighborhood</th>\n",
       "      <th>sale_price_sqr_foot</th>\n",
       "      <th>housing_units</th>\n",
       "      <th>gross_rent</th>\n",
       "    </tr>\n",
       "  </thead>\n",
       "  <tbody>\n",
       "    <tr>\n",
       "      <th>0</th>\n",
       "      <td>Alamo Square</td>\n",
       "      <td>366.020712</td>\n",
       "      <td>378401.0</td>\n",
       "      <td>2817.285714</td>\n",
       "    </tr>\n",
       "    <tr>\n",
       "      <th>1</th>\n",
       "      <td>Anza Vista</td>\n",
       "      <td>373.382198</td>\n",
       "      <td>379050.0</td>\n",
       "      <td>3031.833333</td>\n",
       "    </tr>\n",
       "    <tr>\n",
       "      <th>2</th>\n",
       "      <td>Bayview</td>\n",
       "      <td>204.588623</td>\n",
       "      <td>376454.0</td>\n",
       "      <td>2318.400000</td>\n",
       "    </tr>\n",
       "    <tr>\n",
       "      <th>3</th>\n",
       "      <td>Bayview Heights</td>\n",
       "      <td>590.792839</td>\n",
       "      <td>382295.0</td>\n",
       "      <td>3739.000000</td>\n",
       "    </tr>\n",
       "    <tr>\n",
       "      <th>4</th>\n",
       "      <td>Bernal Heights</td>\n",
       "      <td>576.746488</td>\n",
       "      <td>379374.5</td>\n",
       "      <td>3080.333333</td>\n",
       "    </tr>\n",
       "  </tbody>\n",
       "</table>\n",
       "</div>"
      ],
      "text/plain": [
       "      Neighborhood  sale_price_sqr_foot  housing_units   gross_rent\n",
       "0     Alamo Square           366.020712       378401.0  2817.285714\n",
       "1       Anza Vista           373.382198       379050.0  3031.833333\n",
       "2          Bayview           204.588623       376454.0  2318.400000\n",
       "3  Bayview Heights           590.792839       382295.0  3739.000000\n",
       "4  Bernal Heights            576.746488       379374.5  3080.333333"
      ]
     },
     "execution_count": 96,
     "metadata": {},
     "output_type": "execute_result"
    }
   ],
   "source": [
    "# Calculate the mean values for each neighborhood\n",
    "# Calculating the mean values fro every neighborhood by grouping the data on the basis of neighborhood. \n",
    "dataframe_all_neighbor = sfo_data.groupby(by=\"neighborhood\").mean()\n",
    "dataframe_all_neighbor.reset_index(inplace=True)\n",
    "dataframe_all_neighbor.rename(columns={\"neighborhood\": \"Neighborhood\"}, inplace=True)\n",
    "dataframe_all_neighbor.head()"
   ]
  },
  {
   "cell_type": "code",
   "execution_count": 97,
   "metadata": {},
   "outputs": [
    {
     "data": {
      "text/html": [
       "<div>\n",
       "<style scoped>\n",
       "    .dataframe tbody tr th:only-of-type {\n",
       "        vertical-align: middle;\n",
       "    }\n",
       "\n",
       "    .dataframe tbody tr th {\n",
       "        vertical-align: top;\n",
       "    }\n",
       "\n",
       "    .dataframe thead th {\n",
       "        text-align: right;\n",
       "    }\n",
       "</style>\n",
       "<table border=\"1\" class=\"dataframe\">\n",
       "  <thead>\n",
       "    <tr style=\"text-align: right;\">\n",
       "      <th></th>\n",
       "      <th>Neighborhood</th>\n",
       "      <th>Lat</th>\n",
       "      <th>Lon</th>\n",
       "      <th>sale_price_sqr_foot</th>\n",
       "      <th>housing_units</th>\n",
       "      <th>gross_rent</th>\n",
       "    </tr>\n",
       "  </thead>\n",
       "  <tbody>\n",
       "    <tr>\n",
       "      <th>0</th>\n",
       "      <td>Alamo Square</td>\n",
       "      <td>37.791012</td>\n",
       "      <td>-122.402100</td>\n",
       "      <td>366.020712</td>\n",
       "      <td>378401.0</td>\n",
       "      <td>2817.285714</td>\n",
       "    </tr>\n",
       "    <tr>\n",
       "      <th>1</th>\n",
       "      <td>Anza Vista</td>\n",
       "      <td>37.779598</td>\n",
       "      <td>-122.443451</td>\n",
       "      <td>373.382198</td>\n",
       "      <td>379050.0</td>\n",
       "      <td>3031.833333</td>\n",
       "    </tr>\n",
       "    <tr>\n",
       "      <th>2</th>\n",
       "      <td>Bayview</td>\n",
       "      <td>37.734670</td>\n",
       "      <td>-122.401060</td>\n",
       "      <td>204.588623</td>\n",
       "      <td>376454.0</td>\n",
       "      <td>2318.400000</td>\n",
       "    </tr>\n",
       "    <tr>\n",
       "      <th>3</th>\n",
       "      <td>Bayview Heights</td>\n",
       "      <td>37.728740</td>\n",
       "      <td>-122.410980</td>\n",
       "      <td>590.792839</td>\n",
       "      <td>382295.0</td>\n",
       "      <td>3739.000000</td>\n",
       "    </tr>\n",
       "    <tr>\n",
       "      <th>4</th>\n",
       "      <td>Buena Vista Park</td>\n",
       "      <td>37.768160</td>\n",
       "      <td>-122.439330</td>\n",
       "      <td>452.680591</td>\n",
       "      <td>378076.5</td>\n",
       "      <td>2698.833333</td>\n",
       "    </tr>\n",
       "  </tbody>\n",
       "</table>\n",
       "</div>"
      ],
      "text/plain": [
       "       Neighborhood        Lat         Lon  sale_price_sqr_foot  \\\n",
       "0      Alamo Square  37.791012 -122.402100           366.020712   \n",
       "1        Anza Vista  37.779598 -122.443451           373.382198   \n",
       "2           Bayview  37.734670 -122.401060           204.588623   \n",
       "3   Bayview Heights  37.728740 -122.410980           590.792839   \n",
       "4  Buena Vista Park  37.768160 -122.439330           452.680591   \n",
       "\n",
       "   housing_units   gross_rent  \n",
       "0       378401.0  2817.285714  \n",
       "1       379050.0  3031.833333  \n",
       "2       376454.0  2318.400000  \n",
       "3       382295.0  3739.000000  \n",
       "4       378076.5  2698.833333  "
      ]
     },
     "execution_count": 97,
     "metadata": {},
     "output_type": "execute_result"
    }
   ],
   "source": [
    "# Join the average values with the neighborhood locations\n",
    "dataframe_all_neighbor = pd.merge(\n",
    "    df_neighborhood_locations, dataframe_all_neighbor, on=\"Neighborhood\"\n",
    ")\n",
    "dataframe_all_neighbor.head()"
   ]
  },
  {
   "cell_type": "markdown",
   "metadata": {},
   "source": [
    "### Mapbox Visualization\n",
    "\n",
    "Plot the average values per neighborhood using a Plotly express `scatter_mapbox` visualization."
   ]
  },
  {
   "cell_type": "code",
   "execution_count": 98,
   "metadata": {},
   "outputs": [
    {
     "data": {
      "application/vnd.plotly.v1+json": {
       "config": {
        "plotlyServerURL": "https://plot.ly"
       },
       "data": [
        {
         "hovertemplate": "<b>%{hovertext}</b><br><br>sale_price_sqr_foot=%{marker.size}<br>Lat=%{lat}<br>Lon=%{lon}<br>gross_rent=%{marker.color}<extra></extra>",
         "hovertext": [
          "Alamo Square",
          "Anza Vista",
          "Bayview",
          "Bayview Heights",
          "Buena Vista Park",
          "Central Richmond",
          "Central Sunset",
          "Clarendon Heights",
          "Corona Heights",
          "Cow Hollow",
          "Croker Amazon",
          "Diamond Heights",
          "Duboce Triangle",
          "Eureka Valley/Dolores Heights",
          "Excelsior",
          "Financial District North",
          "Financial District South",
          "Forest Knolls",
          "Glen Park",
          "Golden Gate Heights",
          "Haight Ashbury",
          "Hayes Valley",
          "Hunters Point",
          "Ingleside Heights",
          "Inner Mission",
          "Inner Parkside",
          "Inner Richmond",
          "Inner Sunset",
          "Jordan Park/Laurel Heights",
          "Lake --The Presidio",
          "Lone Mountain",
          "Lower Pacific Heights",
          "Marina",
          "Merced Heights",
          "Midtown Terrace",
          "Miraloma Park",
          "Mission Bay",
          "Mission Dolores",
          "Mission Terrace",
          "Nob Hill",
          "Noe Valley",
          "North Beach",
          "North Waterfront",
          "Oceanview",
          "Outer Mission",
          "Outer Parkside",
          "Outer Sunset",
          "Pacific Heights",
          "Park North",
          "Parkside",
          "Parnassus/Ashbury Heights",
          "Portola",
          "Potrero Hill",
          "Presidio Heights",
          "Russian Hill",
          "Silver Terrace",
          "South Beach",
          "South of Market",
          "Sunnyside",
          "Telegraph Hill",
          "Twin Peaks",
          "Union Square District",
          "Van Ness/ Civic Center",
          "Visitacion Valley",
          "West Portal",
          "Western Addition",
          "Westwood Highlands",
          "Westwood Park",
          "Yerba Buena"
         ],
         "lat": [
          37.791012,
          37.779598,
          37.73467,
          37.72874,
          37.76816,
          37.77789,
          37.74961,
          37.75331,
          37.78553,
          37.79298,
          37.7228,
          37.72863,
          37.76964,
          37.75554,
          37.72874,
          37.79101,
          37.79101,
          37.75706,
          37.72863,
          37.757912,
          37.76525,
          37.76525,
          37.72551,
          37.72116,
          37.75416,
          37.74961,
          37.769112,
          37.74961,
          37.78553,
          37.80152,
          37.7789,
          37.79298,
          37.79972,
          37.71993,
          37.75331,
          37.73415,
          37.78323,
          37.75184,
          37.72863,
          37.79298,
          37.75331,
          37.80055,
          37.80055,
          37.71993,
          37.7228,
          37.7517,
          37.74961,
          37.79298,
          37.72838,
          37.74961,
          37.76355,
          37.73467,
          37.73196,
          37.78553,
          37.79298,
          37.73467,
          37.78323,
          37.79101,
          37.73415,
          37.80055,
          37.753311,
          37.79101,
          37.77951,
          37.72874,
          37.74026,
          37.79298,
          37.7347,
          37.73415,
          37.79298
         ],
         "legendgroup": "",
         "lon": [
          -122.4021,
          -122.443451,
          -122.40106,
          -122.41098,
          -122.43933,
          -122.44517,
          -122.48999,
          -122.44703,
          -122.456,
          -122.43579,
          -122.43869,
          -122.44305,
          -122.42611,
          -122.43779,
          -122.41098,
          -122.4021,
          -122.4021,
          -122.45509,
          -122.44305,
          -122.46402,
          -122.43596,
          -122.43596,
          -122.37178,
          -122.48707,
          -122.41947,
          -122.48999,
          -122.483566,
          -122.48997,
          -122.456,
          -122.45457,
          -122.45496,
          -122.43579,
          -122.46689,
          -122.46595,
          -122.44703,
          -122.457,
          -122.40065,
          -122.42522,
          -122.44305,
          -122.43579,
          -122.44703,
          -122.40433,
          -122.40433,
          -122.46595,
          -122.43869,
          -122.446,
          -122.48999,
          -122.43579,
          -122.47851,
          -122.48999,
          -122.45765,
          -122.40106,
          -122.38324,
          -122.456,
          -122.43579,
          -122.40106,
          -122.40065,
          -122.4021,
          -122.457,
          -122.40433,
          -122.447029,
          -122.4021,
          -122.42022,
          -122.41098,
          -122.46388,
          -122.43579,
          -122.456854,
          -122.457,
          -122.39636
         ],
         "marker": {
          "color": [
           2817.285714285714,
           3031.8333333333335,
           2318.4,
           3739,
           2698.8333333333335,
           2817.285714285714,
           2817.285714285714,
           2250.5,
           2472,
           2817.285714285714,
           2698.8333333333335,
           2016,
           2780.25,
           2817.285714285714,
           3031.8333333333335,
           2817.285714285714,
           2472,
           1781.5,
           2899.5,
           2601.4,
           2817.285714285714,
           2817.285714285714,
           2489,
           2960,
           2817.285714285714,
           3224,
           2817.285714285714,
           2817.285714285714,
           2817.285714285714,
           2555.1666666666665,
           2555.1666666666665,
           2817.285714285714,
           2817.285714285714,
           3414,
           2647.5,
           2155.25,
           2663.6666666666665,
           2555.1666666666665,
           3173.4,
           2817.285714285714,
           2817.285714285714,
           2990.8,
           2818.4,
           2434,
           2995.75,
           2817.285714285714,
           2817.285714285714,
           2817.285714285714,
           2817.285714285714,
           2555.1666666666665,
           2817.285714285714,
           2318.4,
           2817.285714285714,
           2817.285714285714,
           2817.285714285714,
           3528,
           2099,
           2817.285714285714,
           2899.5,
           2817.285714285714,
           2817.285714285714,
           2555.1666666666665,
           2817.285714285714,
           3657,
           2515.5,
           2555.1666666666665,
           2250.5,
           3959,
           2555.1666666666665
          ],
          "coloraxis": "coloraxis",
          "size": [
           366.02071153227644,
           373.382197826477,
           204.58862288246596,
           590.7928388746803,
           452.6805909308441,
           394.42239878005887,
           423.68792770158234,
           487.2448860262576,
           587.5390673661739,
           665.9640415783227,
           303.0041844084943,
           434.9917394452212,
           502.59915555623616,
           642.2486706357391,
           388.7659270023075,
           391.36253308010487,
           455.83621223779153,
           321.84083657398736,
           623.8261775374349,
           639.3935574881156,
           449.5447622856192,
           355.93282794805776,
           170.62491987132685,
           384.7979281346047,
           397.67371473613446,
           519.3856038526768,
           378.5943139613646,
           413.66751546215943,
           529.3841850673389,
           409.95435219297514,
           478.2285530213679,
           539.237968878326,
           583.7492694814548,
           788.8448175872469,
           550.5103482917151,
           779.810842264425,
           566.1922135483312,
           418.9156225067234,
           523.4662013248023,
           458.2040944846015,
           542.4429128151736,
           411.646875881678,
           498.2697550078768,
           330.0973846552545,
           242.37095202049665,
           485.0270126111035,
           394.21903228550775,
           689.5558168113664,
           373.73285637176303,
           336.172661037069,
           632.740453508577,
           327.1139253464728,
           662.0136128276529,
           675.3502120510033,
           608.9832172374425,
           170.2925485152069,
           650.1244791945729,
           570.2714266991686,
           528.3183317138463,
           676.5065775293257,
           469.39862649935156,
           903.9932576720645,
           404.1501801622257,
           301.46617997450267,
           498.4884848295011,
           307.5622009799607,
           533.7039354359513,
           687.0875745178322,
           576.709848378276
          ],
          "sizemode": "area",
          "sizeref": 4.017747811875842
         },
         "mode": "markers",
         "name": "",
         "showlegend": false,
         "subplot": "mapbox",
         "type": "scattermapbox"
        }
       ],
       "layout": {
        "coloraxis": {
         "colorbar": {
          "title": {
           "text": "gross_rent"
          }
         },
         "colorscale": [
          [
           0,
           "#000000"
          ],
          [
           0.0625,
           "#001f4d"
          ],
          [
           0.125,
           "#003786"
          ],
          [
           0.1875,
           "#0e58a8"
          ],
          [
           0.25,
           "#217eb8"
          ],
          [
           0.3125,
           "#30a4ca"
          ],
          [
           0.375,
           "#54c8df"
          ],
          [
           0.4375,
           "#9be4ef"
          ],
          [
           0.5,
           "#e1e9d1"
          ],
          [
           0.5625,
           "#f3d573"
          ],
          [
           0.625,
           "#e7b000"
          ],
          [
           0.6875,
           "#da8200"
          ],
          [
           0.75,
           "#c65400"
          ],
          [
           0.8125,
           "#ac2301"
          ],
          [
           0.875,
           "#820000"
          ],
          [
           0.9375,
           "#4c0000"
          ],
          [
           1,
           "#000000"
          ]
         ]
        },
        "legend": {
         "itemsizing": "constant",
         "tracegroupgap": 0
        },
        "mapbox": {
         "accesstoken": "pk.eyJ1IjoicmFoZWVsMTIzNDUiLCJhIjoiY2t1bGs1dmN0M2l5eTJ3cTY2MGF3eXlnMSJ9.0TL-7ot9LOLneEJKBG309w",
         "center": {
          "lat": 37.76064079710145,
          "lon": -122.43826449275363
         },
         "domain": {
          "x": [
           0,
           1
          ],
          "y": [
           0,
           1
          ]
         },
         "zoom": 11
        },
        "template": {
         "data": {
          "bar": [
           {
            "error_x": {
             "color": "#2a3f5f"
            },
            "error_y": {
             "color": "#2a3f5f"
            },
            "marker": {
             "line": {
              "color": "#E5ECF6",
              "width": 0.5
             },
             "pattern": {
              "fillmode": "overlay",
              "size": 10,
              "solidity": 0.2
             }
            },
            "type": "bar"
           }
          ],
          "barpolar": [
           {
            "marker": {
             "line": {
              "color": "#E5ECF6",
              "width": 0.5
             },
             "pattern": {
              "fillmode": "overlay",
              "size": 10,
              "solidity": 0.2
             }
            },
            "type": "barpolar"
           }
          ],
          "carpet": [
           {
            "aaxis": {
             "endlinecolor": "#2a3f5f",
             "gridcolor": "white",
             "linecolor": "white",
             "minorgridcolor": "white",
             "startlinecolor": "#2a3f5f"
            },
            "baxis": {
             "endlinecolor": "#2a3f5f",
             "gridcolor": "white",
             "linecolor": "white",
             "minorgridcolor": "white",
             "startlinecolor": "#2a3f5f"
            },
            "type": "carpet"
           }
          ],
          "choropleth": [
           {
            "colorbar": {
             "outlinewidth": 0,
             "ticks": ""
            },
            "type": "choropleth"
           }
          ],
          "contour": [
           {
            "colorbar": {
             "outlinewidth": 0,
             "ticks": ""
            },
            "colorscale": [
             [
              0,
              "#0d0887"
             ],
             [
              0.1111111111111111,
              "#46039f"
             ],
             [
              0.2222222222222222,
              "#7201a8"
             ],
             [
              0.3333333333333333,
              "#9c179e"
             ],
             [
              0.4444444444444444,
              "#bd3786"
             ],
             [
              0.5555555555555556,
              "#d8576b"
             ],
             [
              0.6666666666666666,
              "#ed7953"
             ],
             [
              0.7777777777777778,
              "#fb9f3a"
             ],
             [
              0.8888888888888888,
              "#fdca26"
             ],
             [
              1,
              "#f0f921"
             ]
            ],
            "type": "contour"
           }
          ],
          "contourcarpet": [
           {
            "colorbar": {
             "outlinewidth": 0,
             "ticks": ""
            },
            "type": "contourcarpet"
           }
          ],
          "heatmap": [
           {
            "colorbar": {
             "outlinewidth": 0,
             "ticks": ""
            },
            "colorscale": [
             [
              0,
              "#0d0887"
             ],
             [
              0.1111111111111111,
              "#46039f"
             ],
             [
              0.2222222222222222,
              "#7201a8"
             ],
             [
              0.3333333333333333,
              "#9c179e"
             ],
             [
              0.4444444444444444,
              "#bd3786"
             ],
             [
              0.5555555555555556,
              "#d8576b"
             ],
             [
              0.6666666666666666,
              "#ed7953"
             ],
             [
              0.7777777777777778,
              "#fb9f3a"
             ],
             [
              0.8888888888888888,
              "#fdca26"
             ],
             [
              1,
              "#f0f921"
             ]
            ],
            "type": "heatmap"
           }
          ],
          "heatmapgl": [
           {
            "colorbar": {
             "outlinewidth": 0,
             "ticks": ""
            },
            "colorscale": [
             [
              0,
              "#0d0887"
             ],
             [
              0.1111111111111111,
              "#46039f"
             ],
             [
              0.2222222222222222,
              "#7201a8"
             ],
             [
              0.3333333333333333,
              "#9c179e"
             ],
             [
              0.4444444444444444,
              "#bd3786"
             ],
             [
              0.5555555555555556,
              "#d8576b"
             ],
             [
              0.6666666666666666,
              "#ed7953"
             ],
             [
              0.7777777777777778,
              "#fb9f3a"
             ],
             [
              0.8888888888888888,
              "#fdca26"
             ],
             [
              1,
              "#f0f921"
             ]
            ],
            "type": "heatmapgl"
           }
          ],
          "histogram": [
           {
            "marker": {
             "pattern": {
              "fillmode": "overlay",
              "size": 10,
              "solidity": 0.2
             }
            },
            "type": "histogram"
           }
          ],
          "histogram2d": [
           {
            "colorbar": {
             "outlinewidth": 0,
             "ticks": ""
            },
            "colorscale": [
             [
              0,
              "#0d0887"
             ],
             [
              0.1111111111111111,
              "#46039f"
             ],
             [
              0.2222222222222222,
              "#7201a8"
             ],
             [
              0.3333333333333333,
              "#9c179e"
             ],
             [
              0.4444444444444444,
              "#bd3786"
             ],
             [
              0.5555555555555556,
              "#d8576b"
             ],
             [
              0.6666666666666666,
              "#ed7953"
             ],
             [
              0.7777777777777778,
              "#fb9f3a"
             ],
             [
              0.8888888888888888,
              "#fdca26"
             ],
             [
              1,
              "#f0f921"
             ]
            ],
            "type": "histogram2d"
           }
          ],
          "histogram2dcontour": [
           {
            "colorbar": {
             "outlinewidth": 0,
             "ticks": ""
            },
            "colorscale": [
             [
              0,
              "#0d0887"
             ],
             [
              0.1111111111111111,
              "#46039f"
             ],
             [
              0.2222222222222222,
              "#7201a8"
             ],
             [
              0.3333333333333333,
              "#9c179e"
             ],
             [
              0.4444444444444444,
              "#bd3786"
             ],
             [
              0.5555555555555556,
              "#d8576b"
             ],
             [
              0.6666666666666666,
              "#ed7953"
             ],
             [
              0.7777777777777778,
              "#fb9f3a"
             ],
             [
              0.8888888888888888,
              "#fdca26"
             ],
             [
              1,
              "#f0f921"
             ]
            ],
            "type": "histogram2dcontour"
           }
          ],
          "mesh3d": [
           {
            "colorbar": {
             "outlinewidth": 0,
             "ticks": ""
            },
            "type": "mesh3d"
           }
          ],
          "parcoords": [
           {
            "line": {
             "colorbar": {
              "outlinewidth": 0,
              "ticks": ""
             }
            },
            "type": "parcoords"
           }
          ],
          "pie": [
           {
            "automargin": true,
            "type": "pie"
           }
          ],
          "scatter": [
           {
            "marker": {
             "colorbar": {
              "outlinewidth": 0,
              "ticks": ""
             }
            },
            "type": "scatter"
           }
          ],
          "scatter3d": [
           {
            "line": {
             "colorbar": {
              "outlinewidth": 0,
              "ticks": ""
             }
            },
            "marker": {
             "colorbar": {
              "outlinewidth": 0,
              "ticks": ""
             }
            },
            "type": "scatter3d"
           }
          ],
          "scattercarpet": [
           {
            "marker": {
             "colorbar": {
              "outlinewidth": 0,
              "ticks": ""
             }
            },
            "type": "scattercarpet"
           }
          ],
          "scattergeo": [
           {
            "marker": {
             "colorbar": {
              "outlinewidth": 0,
              "ticks": ""
             }
            },
            "type": "scattergeo"
           }
          ],
          "scattergl": [
           {
            "marker": {
             "colorbar": {
              "outlinewidth": 0,
              "ticks": ""
             }
            },
            "type": "scattergl"
           }
          ],
          "scattermapbox": [
           {
            "marker": {
             "colorbar": {
              "outlinewidth": 0,
              "ticks": ""
             }
            },
            "type": "scattermapbox"
           }
          ],
          "scatterpolar": [
           {
            "marker": {
             "colorbar": {
              "outlinewidth": 0,
              "ticks": ""
             }
            },
            "type": "scatterpolar"
           }
          ],
          "scatterpolargl": [
           {
            "marker": {
             "colorbar": {
              "outlinewidth": 0,
              "ticks": ""
             }
            },
            "type": "scatterpolargl"
           }
          ],
          "scatterternary": [
           {
            "marker": {
             "colorbar": {
              "outlinewidth": 0,
              "ticks": ""
             }
            },
            "type": "scatterternary"
           }
          ],
          "surface": [
           {
            "colorbar": {
             "outlinewidth": 0,
             "ticks": ""
            },
            "colorscale": [
             [
              0,
              "#0d0887"
             ],
             [
              0.1111111111111111,
              "#46039f"
             ],
             [
              0.2222222222222222,
              "#7201a8"
             ],
             [
              0.3333333333333333,
              "#9c179e"
             ],
             [
              0.4444444444444444,
              "#bd3786"
             ],
             [
              0.5555555555555556,
              "#d8576b"
             ],
             [
              0.6666666666666666,
              "#ed7953"
             ],
             [
              0.7777777777777778,
              "#fb9f3a"
             ],
             [
              0.8888888888888888,
              "#fdca26"
             ],
             [
              1,
              "#f0f921"
             ]
            ],
            "type": "surface"
           }
          ],
          "table": [
           {
            "cells": {
             "fill": {
              "color": "#EBF0F8"
             },
             "line": {
              "color": "white"
             }
            },
            "header": {
             "fill": {
              "color": "#C8D4E3"
             },
             "line": {
              "color": "white"
             }
            },
            "type": "table"
           }
          ]
         },
         "layout": {
          "annotationdefaults": {
           "arrowcolor": "#2a3f5f",
           "arrowhead": 0,
           "arrowwidth": 1
          },
          "autotypenumbers": "strict",
          "coloraxis": {
           "colorbar": {
            "outlinewidth": 0,
            "ticks": ""
           }
          },
          "colorscale": {
           "diverging": [
            [
             0,
             "#8e0152"
            ],
            [
             0.1,
             "#c51b7d"
            ],
            [
             0.2,
             "#de77ae"
            ],
            [
             0.3,
             "#f1b6da"
            ],
            [
             0.4,
             "#fde0ef"
            ],
            [
             0.5,
             "#f7f7f7"
            ],
            [
             0.6,
             "#e6f5d0"
            ],
            [
             0.7,
             "#b8e186"
            ],
            [
             0.8,
             "#7fbc41"
            ],
            [
             0.9,
             "#4d9221"
            ],
            [
             1,
             "#276419"
            ]
           ],
           "sequential": [
            [
             0,
             "#0d0887"
            ],
            [
             0.1111111111111111,
             "#46039f"
            ],
            [
             0.2222222222222222,
             "#7201a8"
            ],
            [
             0.3333333333333333,
             "#9c179e"
            ],
            [
             0.4444444444444444,
             "#bd3786"
            ],
            [
             0.5555555555555556,
             "#d8576b"
            ],
            [
             0.6666666666666666,
             "#ed7953"
            ],
            [
             0.7777777777777778,
             "#fb9f3a"
            ],
            [
             0.8888888888888888,
             "#fdca26"
            ],
            [
             1,
             "#f0f921"
            ]
           ],
           "sequentialminus": [
            [
             0,
             "#0d0887"
            ],
            [
             0.1111111111111111,
             "#46039f"
            ],
            [
             0.2222222222222222,
             "#7201a8"
            ],
            [
             0.3333333333333333,
             "#9c179e"
            ],
            [
             0.4444444444444444,
             "#bd3786"
            ],
            [
             0.5555555555555556,
             "#d8576b"
            ],
            [
             0.6666666666666666,
             "#ed7953"
            ],
            [
             0.7777777777777778,
             "#fb9f3a"
            ],
            [
             0.8888888888888888,
             "#fdca26"
            ],
            [
             1,
             "#f0f921"
            ]
           ]
          },
          "colorway": [
           "#636efa",
           "#EF553B",
           "#00cc96",
           "#ab63fa",
           "#FFA15A",
           "#19d3f3",
           "#FF6692",
           "#B6E880",
           "#FF97FF",
           "#FECB52"
          ],
          "font": {
           "color": "#2a3f5f"
          },
          "geo": {
           "bgcolor": "white",
           "lakecolor": "white",
           "landcolor": "#E5ECF6",
           "showlakes": true,
           "showland": true,
           "subunitcolor": "white"
          },
          "hoverlabel": {
           "align": "left"
          },
          "hovermode": "closest",
          "mapbox": {
           "style": "light"
          },
          "paper_bgcolor": "white",
          "plot_bgcolor": "#E5ECF6",
          "polar": {
           "angularaxis": {
            "gridcolor": "white",
            "linecolor": "white",
            "ticks": ""
           },
           "bgcolor": "#E5ECF6",
           "radialaxis": {
            "gridcolor": "white",
            "linecolor": "white",
            "ticks": ""
           }
          },
          "scene": {
           "xaxis": {
            "backgroundcolor": "#E5ECF6",
            "gridcolor": "white",
            "gridwidth": 2,
            "linecolor": "white",
            "showbackground": true,
            "ticks": "",
            "zerolinecolor": "white"
           },
           "yaxis": {
            "backgroundcolor": "#E5ECF6",
            "gridcolor": "white",
            "gridwidth": 2,
            "linecolor": "white",
            "showbackground": true,
            "ticks": "",
            "zerolinecolor": "white"
           },
           "zaxis": {
            "backgroundcolor": "#E5ECF6",
            "gridcolor": "white",
            "gridwidth": 2,
            "linecolor": "white",
            "showbackground": true,
            "ticks": "",
            "zerolinecolor": "white"
           }
          },
          "shapedefaults": {
           "line": {
            "color": "#2a3f5f"
           }
          },
          "ternary": {
           "aaxis": {
            "gridcolor": "white",
            "linecolor": "white",
            "ticks": ""
           },
           "baxis": {
            "gridcolor": "white",
            "linecolor": "white",
            "ticks": ""
           },
           "bgcolor": "#E5ECF6",
           "caxis": {
            "gridcolor": "white",
            "linecolor": "white",
            "ticks": ""
           }
          },
          "title": {
           "x": 0.05
          },
          "xaxis": {
           "automargin": true,
           "gridcolor": "white",
           "linecolor": "white",
           "ticks": "",
           "title": {
            "standoff": 15
           },
           "zerolinecolor": "white",
           "zerolinewidth": 2
          },
          "yaxis": {
           "automargin": true,
           "gridcolor": "white",
           "linecolor": "white",
           "ticks": "",
           "title": {
            "standoff": 15
           },
           "zerolinecolor": "white",
           "zerolinewidth": 2
          }
         }
        },
        "title": {
         "text": "Averange Sale Price Per Square Foot and Gross Rent in San Francisco"
        }
       }
      }
     },
     "metadata": {},
     "output_type": "display_data"
    }
   ],
   "source": [
    "# Set the mapbox access token\n",
    "# YOUR CODE HERE!\n",
    "px.set_mapbox_access_token(map_box_api)\n",
    "# Create a scatter mapbox to analyze neighborhood info\n",
    "# YOUR CODE HERE!\n",
    "map = px.scatter_mapbox(\n",
    "        dataframe_all_neighbor,\n",
    "        lat=\"Lat\",\n",
    "        lon=\"Lon\",\n",
    "        size=\"sale_price_sqr_foot\",\n",
    "        color=\"gross_rent\",\n",
    "        color_continuous_scale=px.colors.cyclical.IceFire,\n",
    "        size_max=15,\n",
    "        zoom=11,\n",
    "        hover_name=\"Neighborhood\",\n",
    "        title=\"Averange Sale Price Per Square Foot and Gross Rent in San Francisco\",\n",
    "    )\n",
    "map.show()\n"
   ]
  },
  {
   "cell_type": "markdown",
   "metadata": {},
   "source": [
    "- - -"
   ]
  },
  {
   "cell_type": "markdown",
   "metadata": {},
   "source": [
    "## Cost Analysis - Optional Challenge\n",
    "\n",
    "In this section, you will use Plotly express to create visualizations that investors can use to interactively filter and explore various factors related to the house value of the San Francisco's neighborhoods. \n",
    "\n",
    "### Create a DataFrame showing the most expensive neighborhoods in San Francisco by year"
   ]
  },
  {
   "cell_type": "code",
   "execution_count": 99,
   "metadata": {},
   "outputs": [
    {
     "data": {
      "text/html": [
       "<div>\n",
       "<style scoped>\n",
       "    .dataframe tbody tr th:only-of-type {\n",
       "        vertical-align: middle;\n",
       "    }\n",
       "\n",
       "    .dataframe tbody tr th {\n",
       "        vertical-align: top;\n",
       "    }\n",
       "\n",
       "    .dataframe thead th {\n",
       "        text-align: right;\n",
       "    }\n",
       "</style>\n",
       "<table border=\"1\" class=\"dataframe\">\n",
       "  <thead>\n",
       "    <tr style=\"text-align: right;\">\n",
       "      <th></th>\n",
       "      <th>year</th>\n",
       "      <th>neighborhood</th>\n",
       "      <th>sale_price_sqr_foot</th>\n",
       "      <th>housing_units</th>\n",
       "      <th>gross_rent</th>\n",
       "    </tr>\n",
       "  </thead>\n",
       "  <tbody>\n",
       "    <tr>\n",
       "      <th>7</th>\n",
       "      <td>2010</td>\n",
       "      <td>Cow Hollow</td>\n",
       "      <td>569.379968</td>\n",
       "      <td>372560.0</td>\n",
       "      <td>1239.0</td>\n",
       "    </tr>\n",
       "    <tr>\n",
       "      <th>31</th>\n",
       "      <td>2010</td>\n",
       "      <td>Miraloma Park</td>\n",
       "      <td>680.608729</td>\n",
       "      <td>372560.0</td>\n",
       "      <td>1239.0</td>\n",
       "    </tr>\n",
       "    <tr>\n",
       "      <th>41</th>\n",
       "      <td>2010</td>\n",
       "      <td>Pacific Heights</td>\n",
       "      <td>496.516014</td>\n",
       "      <td>372560.0</td>\n",
       "      <td>1239.0</td>\n",
       "    </tr>\n",
       "    <tr>\n",
       "      <th>46</th>\n",
       "      <td>2010</td>\n",
       "      <td>Potrero Hill</td>\n",
       "      <td>491.450004</td>\n",
       "      <td>372560.0</td>\n",
       "      <td>1239.0</td>\n",
       "    </tr>\n",
       "    <tr>\n",
       "      <th>47</th>\n",
       "      <td>2010</td>\n",
       "      <td>Presidio Heights</td>\n",
       "      <td>549.417931</td>\n",
       "      <td>372560.0</td>\n",
       "      <td>1239.0</td>\n",
       "    </tr>\n",
       "  </tbody>\n",
       "</table>\n",
       "</div>"
      ],
      "text/plain": [
       "    year      neighborhood  sale_price_sqr_foot  housing_units  gross_rent\n",
       "7   2010        Cow Hollow           569.379968       372560.0      1239.0\n",
       "31  2010     Miraloma Park           680.608729       372560.0      1239.0\n",
       "41  2010   Pacific Heights           496.516014       372560.0      1239.0\n",
       "46  2010      Potrero Hill           491.450004       372560.0      1239.0\n",
       "47  2010  Presidio Heights           549.417931       372560.0      1239.0"
      ]
     },
     "execution_count": 99,
     "metadata": {},
     "output_type": "execute_result"
    }
   ],
   "source": [
    "# Fetch the data from all expensive neighborhoods per year.\n",
    "dataframe_exp_neighbor_per_year = dataframe_cost[dataframe_cost[\"neighborhood\"].isin(dataframe_exp_neighbor[\"neighborhood\"])]\n",
    "dataframe_exp_neighbor_per_year.head()"
   ]
  },
  {
   "cell_type": "markdown",
   "metadata": {},
   "source": [
    "### Create a parallel coordinates plot and parallel categories plot of most expensive neighborhoods in San Francisco per year\n"
   ]
  },
  {
   "cell_type": "code",
   "execution_count": 100,
   "metadata": {},
   "outputs": [
    {
     "data": {
      "application/vnd.plotly.v1+json": {
       "config": {
        "plotlyServerURL": "https://plot.ly"
       },
       "data": [
        {
         "dimensions": [
          {
           "label": "index",
           "values": [
            346,
            388,
            374,
            226,
            262,
            357,
            277,
            49,
            344,
            384
           ]
          },
          {
           "label": "year",
           "values": [
            2015,
            2016,
            2016,
            2013,
            2014,
            2016,
            2014,
            2010,
            2015,
            2016
           ]
          },
          {
           "label": "neighborhood",
           "values": [
            "Union Square District",
            "Presidio Heights",
            "Merced Heights",
            "Union Square District",
            "Miraloma Park",
            "Cow Hollow",
            "Potrero Hill",
            "South Beach",
            "Telegraph Hill",
            "Pacific Heights"
           ]
          },
          {
           "label": "sale_price_sqr_foot",
           "values": [
            2258.702831998355,
            1465.9685863874345,
            1416.6666666666667,
            1290.472106646641,
            1267.7662026328828,
            1059.0656015492618,
            1045.2015459222662,
            1037.0997886617895,
            996.9902204858652,
            996.3893635634032
           ]
          },
          {
           "label": "housing_units",
           "values": [
            382295,
            384242,
            384242,
            378401,
            380348,
            384242,
            380348,
            372560,
            382295,
            384242
           ]
          },
          {
           "label": "gross_rent",
           "values": [
            3739,
            4390,
            4390,
            2971,
            3528,
            4390,
            3528,
            1239,
            3739,
            4390
           ]
          }
         ],
         "domain": {
          "x": [
           0,
           1
          ],
          "y": [
           0,
           1
          ]
         },
         "line": {
          "color": [
           2258.702831998355,
           1465.9685863874345,
           1416.6666666666667,
           1290.472106646641,
           1267.7662026328828,
           1059.0656015492618,
           1045.2015459222662,
           1037.0997886617895,
           996.9902204858652,
           996.3893635634032
          ],
          "coloraxis": "coloraxis"
         },
         "name": "",
         "type": "parcats"
        }
       ],
       "layout": {
        "coloraxis": {
         "colorbar": {
          "title": {
           "text": "sale_price_sqr_foot"
          }
         },
         "colorscale": [
          [
           0,
           "#000004"
          ],
          [
           0.1111111111111111,
           "#1b0c41"
          ],
          [
           0.2222222222222222,
           "#4a0c6b"
          ],
          [
           0.3333333333333333,
           "#781c6d"
          ],
          [
           0.4444444444444444,
           "#a52c60"
          ],
          [
           0.5555555555555556,
           "#cf4446"
          ],
          [
           0.6666666666666666,
           "#ed6925"
          ],
          [
           0.7777777777777778,
           "#fb9b06"
          ],
          [
           0.8888888888888888,
           "#f7d13d"
          ],
          [
           1,
           "#fcffa4"
          ]
         ]
        },
        "legend": {
         "tracegroupgap": 0
        },
        "margin": {
         "t": 60
        },
        "template": {
         "data": {
          "bar": [
           {
            "error_x": {
             "color": "#2a3f5f"
            },
            "error_y": {
             "color": "#2a3f5f"
            },
            "marker": {
             "line": {
              "color": "#E5ECF6",
              "width": 0.5
             },
             "pattern": {
              "fillmode": "overlay",
              "size": 10,
              "solidity": 0.2
             }
            },
            "type": "bar"
           }
          ],
          "barpolar": [
           {
            "marker": {
             "line": {
              "color": "#E5ECF6",
              "width": 0.5
             },
             "pattern": {
              "fillmode": "overlay",
              "size": 10,
              "solidity": 0.2
             }
            },
            "type": "barpolar"
           }
          ],
          "carpet": [
           {
            "aaxis": {
             "endlinecolor": "#2a3f5f",
             "gridcolor": "white",
             "linecolor": "white",
             "minorgridcolor": "white",
             "startlinecolor": "#2a3f5f"
            },
            "baxis": {
             "endlinecolor": "#2a3f5f",
             "gridcolor": "white",
             "linecolor": "white",
             "minorgridcolor": "white",
             "startlinecolor": "#2a3f5f"
            },
            "type": "carpet"
           }
          ],
          "choropleth": [
           {
            "colorbar": {
             "outlinewidth": 0,
             "ticks": ""
            },
            "type": "choropleth"
           }
          ],
          "contour": [
           {
            "colorbar": {
             "outlinewidth": 0,
             "ticks": ""
            },
            "colorscale": [
             [
              0,
              "#0d0887"
             ],
             [
              0.1111111111111111,
              "#46039f"
             ],
             [
              0.2222222222222222,
              "#7201a8"
             ],
             [
              0.3333333333333333,
              "#9c179e"
             ],
             [
              0.4444444444444444,
              "#bd3786"
             ],
             [
              0.5555555555555556,
              "#d8576b"
             ],
             [
              0.6666666666666666,
              "#ed7953"
             ],
             [
              0.7777777777777778,
              "#fb9f3a"
             ],
             [
              0.8888888888888888,
              "#fdca26"
             ],
             [
              1,
              "#f0f921"
             ]
            ],
            "type": "contour"
           }
          ],
          "contourcarpet": [
           {
            "colorbar": {
             "outlinewidth": 0,
             "ticks": ""
            },
            "type": "contourcarpet"
           }
          ],
          "heatmap": [
           {
            "colorbar": {
             "outlinewidth": 0,
             "ticks": ""
            },
            "colorscale": [
             [
              0,
              "#0d0887"
             ],
             [
              0.1111111111111111,
              "#46039f"
             ],
             [
              0.2222222222222222,
              "#7201a8"
             ],
             [
              0.3333333333333333,
              "#9c179e"
             ],
             [
              0.4444444444444444,
              "#bd3786"
             ],
             [
              0.5555555555555556,
              "#d8576b"
             ],
             [
              0.6666666666666666,
              "#ed7953"
             ],
             [
              0.7777777777777778,
              "#fb9f3a"
             ],
             [
              0.8888888888888888,
              "#fdca26"
             ],
             [
              1,
              "#f0f921"
             ]
            ],
            "type": "heatmap"
           }
          ],
          "heatmapgl": [
           {
            "colorbar": {
             "outlinewidth": 0,
             "ticks": ""
            },
            "colorscale": [
             [
              0,
              "#0d0887"
             ],
             [
              0.1111111111111111,
              "#46039f"
             ],
             [
              0.2222222222222222,
              "#7201a8"
             ],
             [
              0.3333333333333333,
              "#9c179e"
             ],
             [
              0.4444444444444444,
              "#bd3786"
             ],
             [
              0.5555555555555556,
              "#d8576b"
             ],
             [
              0.6666666666666666,
              "#ed7953"
             ],
             [
              0.7777777777777778,
              "#fb9f3a"
             ],
             [
              0.8888888888888888,
              "#fdca26"
             ],
             [
              1,
              "#f0f921"
             ]
            ],
            "type": "heatmapgl"
           }
          ],
          "histogram": [
           {
            "marker": {
             "pattern": {
              "fillmode": "overlay",
              "size": 10,
              "solidity": 0.2
             }
            },
            "type": "histogram"
           }
          ],
          "histogram2d": [
           {
            "colorbar": {
             "outlinewidth": 0,
             "ticks": ""
            },
            "colorscale": [
             [
              0,
              "#0d0887"
             ],
             [
              0.1111111111111111,
              "#46039f"
             ],
             [
              0.2222222222222222,
              "#7201a8"
             ],
             [
              0.3333333333333333,
              "#9c179e"
             ],
             [
              0.4444444444444444,
              "#bd3786"
             ],
             [
              0.5555555555555556,
              "#d8576b"
             ],
             [
              0.6666666666666666,
              "#ed7953"
             ],
             [
              0.7777777777777778,
              "#fb9f3a"
             ],
             [
              0.8888888888888888,
              "#fdca26"
             ],
             [
              1,
              "#f0f921"
             ]
            ],
            "type": "histogram2d"
           }
          ],
          "histogram2dcontour": [
           {
            "colorbar": {
             "outlinewidth": 0,
             "ticks": ""
            },
            "colorscale": [
             [
              0,
              "#0d0887"
             ],
             [
              0.1111111111111111,
              "#46039f"
             ],
             [
              0.2222222222222222,
              "#7201a8"
             ],
             [
              0.3333333333333333,
              "#9c179e"
             ],
             [
              0.4444444444444444,
              "#bd3786"
             ],
             [
              0.5555555555555556,
              "#d8576b"
             ],
             [
              0.6666666666666666,
              "#ed7953"
             ],
             [
              0.7777777777777778,
              "#fb9f3a"
             ],
             [
              0.8888888888888888,
              "#fdca26"
             ],
             [
              1,
              "#f0f921"
             ]
            ],
            "type": "histogram2dcontour"
           }
          ],
          "mesh3d": [
           {
            "colorbar": {
             "outlinewidth": 0,
             "ticks": ""
            },
            "type": "mesh3d"
           }
          ],
          "parcoords": [
           {
            "line": {
             "colorbar": {
              "outlinewidth": 0,
              "ticks": ""
             }
            },
            "type": "parcoords"
           }
          ],
          "pie": [
           {
            "automargin": true,
            "type": "pie"
           }
          ],
          "scatter": [
           {
            "marker": {
             "colorbar": {
              "outlinewidth": 0,
              "ticks": ""
             }
            },
            "type": "scatter"
           }
          ],
          "scatter3d": [
           {
            "line": {
             "colorbar": {
              "outlinewidth": 0,
              "ticks": ""
             }
            },
            "marker": {
             "colorbar": {
              "outlinewidth": 0,
              "ticks": ""
             }
            },
            "type": "scatter3d"
           }
          ],
          "scattercarpet": [
           {
            "marker": {
             "colorbar": {
              "outlinewidth": 0,
              "ticks": ""
             }
            },
            "type": "scattercarpet"
           }
          ],
          "scattergeo": [
           {
            "marker": {
             "colorbar": {
              "outlinewidth": 0,
              "ticks": ""
             }
            },
            "type": "scattergeo"
           }
          ],
          "scattergl": [
           {
            "marker": {
             "colorbar": {
              "outlinewidth": 0,
              "ticks": ""
             }
            },
            "type": "scattergl"
           }
          ],
          "scattermapbox": [
           {
            "marker": {
             "colorbar": {
              "outlinewidth": 0,
              "ticks": ""
             }
            },
            "type": "scattermapbox"
           }
          ],
          "scatterpolar": [
           {
            "marker": {
             "colorbar": {
              "outlinewidth": 0,
              "ticks": ""
             }
            },
            "type": "scatterpolar"
           }
          ],
          "scatterpolargl": [
           {
            "marker": {
             "colorbar": {
              "outlinewidth": 0,
              "ticks": ""
             }
            },
            "type": "scatterpolargl"
           }
          ],
          "scatterternary": [
           {
            "marker": {
             "colorbar": {
              "outlinewidth": 0,
              "ticks": ""
             }
            },
            "type": "scatterternary"
           }
          ],
          "surface": [
           {
            "colorbar": {
             "outlinewidth": 0,
             "ticks": ""
            },
            "colorscale": [
             [
              0,
              "#0d0887"
             ],
             [
              0.1111111111111111,
              "#46039f"
             ],
             [
              0.2222222222222222,
              "#7201a8"
             ],
             [
              0.3333333333333333,
              "#9c179e"
             ],
             [
              0.4444444444444444,
              "#bd3786"
             ],
             [
              0.5555555555555556,
              "#d8576b"
             ],
             [
              0.6666666666666666,
              "#ed7953"
             ],
             [
              0.7777777777777778,
              "#fb9f3a"
             ],
             [
              0.8888888888888888,
              "#fdca26"
             ],
             [
              1,
              "#f0f921"
             ]
            ],
            "type": "surface"
           }
          ],
          "table": [
           {
            "cells": {
             "fill": {
              "color": "#EBF0F8"
             },
             "line": {
              "color": "white"
             }
            },
            "header": {
             "fill": {
              "color": "#C8D4E3"
             },
             "line": {
              "color": "white"
             }
            },
            "type": "table"
           }
          ]
         },
         "layout": {
          "annotationdefaults": {
           "arrowcolor": "#2a3f5f",
           "arrowhead": 0,
           "arrowwidth": 1
          },
          "autotypenumbers": "strict",
          "coloraxis": {
           "colorbar": {
            "outlinewidth": 0,
            "ticks": ""
           }
          },
          "colorscale": {
           "diverging": [
            [
             0,
             "#8e0152"
            ],
            [
             0.1,
             "#c51b7d"
            ],
            [
             0.2,
             "#de77ae"
            ],
            [
             0.3,
             "#f1b6da"
            ],
            [
             0.4,
             "#fde0ef"
            ],
            [
             0.5,
             "#f7f7f7"
            ],
            [
             0.6,
             "#e6f5d0"
            ],
            [
             0.7,
             "#b8e186"
            ],
            [
             0.8,
             "#7fbc41"
            ],
            [
             0.9,
             "#4d9221"
            ],
            [
             1,
             "#276419"
            ]
           ],
           "sequential": [
            [
             0,
             "#0d0887"
            ],
            [
             0.1111111111111111,
             "#46039f"
            ],
            [
             0.2222222222222222,
             "#7201a8"
            ],
            [
             0.3333333333333333,
             "#9c179e"
            ],
            [
             0.4444444444444444,
             "#bd3786"
            ],
            [
             0.5555555555555556,
             "#d8576b"
            ],
            [
             0.6666666666666666,
             "#ed7953"
            ],
            [
             0.7777777777777778,
             "#fb9f3a"
            ],
            [
             0.8888888888888888,
             "#fdca26"
            ],
            [
             1,
             "#f0f921"
            ]
           ],
           "sequentialminus": [
            [
             0,
             "#0d0887"
            ],
            [
             0.1111111111111111,
             "#46039f"
            ],
            [
             0.2222222222222222,
             "#7201a8"
            ],
            [
             0.3333333333333333,
             "#9c179e"
            ],
            [
             0.4444444444444444,
             "#bd3786"
            ],
            [
             0.5555555555555556,
             "#d8576b"
            ],
            [
             0.6666666666666666,
             "#ed7953"
            ],
            [
             0.7777777777777778,
             "#fb9f3a"
            ],
            [
             0.8888888888888888,
             "#fdca26"
            ],
            [
             1,
             "#f0f921"
            ]
           ]
          },
          "colorway": [
           "#636efa",
           "#EF553B",
           "#00cc96",
           "#ab63fa",
           "#FFA15A",
           "#19d3f3",
           "#FF6692",
           "#B6E880",
           "#FF97FF",
           "#FECB52"
          ],
          "font": {
           "color": "#2a3f5f"
          },
          "geo": {
           "bgcolor": "white",
           "lakecolor": "white",
           "landcolor": "#E5ECF6",
           "showlakes": true,
           "showland": true,
           "subunitcolor": "white"
          },
          "hoverlabel": {
           "align": "left"
          },
          "hovermode": "closest",
          "mapbox": {
           "style": "light"
          },
          "paper_bgcolor": "white",
          "plot_bgcolor": "#E5ECF6",
          "polar": {
           "angularaxis": {
            "gridcolor": "white",
            "linecolor": "white",
            "ticks": ""
           },
           "bgcolor": "#E5ECF6",
           "radialaxis": {
            "gridcolor": "white",
            "linecolor": "white",
            "ticks": ""
           }
          },
          "scene": {
           "xaxis": {
            "backgroundcolor": "#E5ECF6",
            "gridcolor": "white",
            "gridwidth": 2,
            "linecolor": "white",
            "showbackground": true,
            "ticks": "",
            "zerolinecolor": "white"
           },
           "yaxis": {
            "backgroundcolor": "#E5ECF6",
            "gridcolor": "white",
            "gridwidth": 2,
            "linecolor": "white",
            "showbackground": true,
            "ticks": "",
            "zerolinecolor": "white"
           },
           "zaxis": {
            "backgroundcolor": "#E5ECF6",
            "gridcolor": "white",
            "gridwidth": 2,
            "linecolor": "white",
            "showbackground": true,
            "ticks": "",
            "zerolinecolor": "white"
           }
          },
          "shapedefaults": {
           "line": {
            "color": "#2a3f5f"
           }
          },
          "ternary": {
           "aaxis": {
            "gridcolor": "white",
            "linecolor": "white",
            "ticks": ""
           },
           "baxis": {
            "gridcolor": "white",
            "linecolor": "white",
            "ticks": ""
           },
           "bgcolor": "#E5ECF6",
           "caxis": {
            "gridcolor": "white",
            "linecolor": "white",
            "ticks": ""
           }
          },
          "title": {
           "x": 0.05
          },
          "xaxis": {
           "automargin": true,
           "gridcolor": "white",
           "linecolor": "white",
           "ticks": "",
           "title": {
            "standoff": 15
           },
           "zerolinecolor": "white",
           "zerolinewidth": 2
          },
          "yaxis": {
           "automargin": true,
           "gridcolor": "white",
           "linecolor": "white",
           "ticks": "",
           "title": {
            "standoff": 15
           },
           "zerolinecolor": "white",
           "zerolinewidth": 2
          }
         }
        }
       }
      }
     },
     "metadata": {},
     "output_type": "display_data"
    }
   ],
   "source": [
    "# Parallel Categories Plot\n",
    "# YOUR CODE HERE!\n",
    "top_expensive = sfo_data.groupby(by=\"neighborhood\").mean()\n",
    "top_expensive= dataframe_exp_neighbor_per_year.sort_values(by=\"sale_price_sqr_foot\", ascending=False).head(10)\n",
    "top_expensive = top_expensive.reset_index()\n",
    "\n",
    "parallel_categories = px.parallel_categories(top_expensive,\n",
    "    color=\"sale_price_sqr_foot\",\n",
    "    color_continuous_scale=px.colors.sequential.Inferno,\n",
    ")\n",
    "parallel_categories"
   ]
  },
  {
   "cell_type": "code",
   "execution_count": 101,
   "metadata": {},
   "outputs": [
    {
     "data": {
      "application/vnd.plotly.v1+json": {
       "config": {
        "plotlyServerURL": "https://plot.ly"
       },
       "data": [
        {
         "dimensions": [
          {
           "label": "index",
           "values": [
            346,
            388,
            374,
            226,
            262,
            357,
            277,
            49,
            344,
            384
           ]
          },
          {
           "label": "year",
           "values": [
            2015,
            2016,
            2016,
            2013,
            2014,
            2016,
            2014,
            2010,
            2015,
            2016
           ]
          },
          {
           "label": "sale_price_sqr_foot",
           "values": [
            2258.702831998355,
            1465.9685863874345,
            1416.6666666666667,
            1290.472106646641,
            1267.7662026328828,
            1059.0656015492618,
            1045.2015459222662,
            1037.0997886617895,
            996.9902204858652,
            996.3893635634032
           ]
          },
          {
           "label": "housing_units",
           "values": [
            382295,
            384242,
            384242,
            378401,
            380348,
            384242,
            380348,
            372560,
            382295,
            384242
           ]
          },
          {
           "label": "gross_rent",
           "values": [
            3739,
            4390,
            4390,
            2971,
            3528,
            4390,
            3528,
            1239,
            3739,
            4390
           ]
          }
         ],
         "domain": {
          "x": [
           0,
           1
          ],
          "y": [
           0,
           1
          ]
         },
         "line": {
          "color": [
           2258.702831998355,
           1465.9685863874345,
           1416.6666666666667,
           1290.472106646641,
           1267.7662026328828,
           1059.0656015492618,
           1045.2015459222662,
           1037.0997886617895,
           996.9902204858652,
           996.3893635634032
          ],
          "coloraxis": "coloraxis"
         },
         "name": "",
         "type": "parcoords"
        }
       ],
       "layout": {
        "coloraxis": {
         "colorbar": {
          "title": {
           "text": "sale_price_sqr_foot"
          }
         },
         "colorscale": [
          [
           0,
           "#000004"
          ],
          [
           0.1111111111111111,
           "#1b0c41"
          ],
          [
           0.2222222222222222,
           "#4a0c6b"
          ],
          [
           0.3333333333333333,
           "#781c6d"
          ],
          [
           0.4444444444444444,
           "#a52c60"
          ],
          [
           0.5555555555555556,
           "#cf4446"
          ],
          [
           0.6666666666666666,
           "#ed6925"
          ],
          [
           0.7777777777777778,
           "#fb9b06"
          ],
          [
           0.8888888888888888,
           "#f7d13d"
          ],
          [
           1,
           "#fcffa4"
          ]
         ]
        },
        "legend": {
         "tracegroupgap": 0
        },
        "margin": {
         "t": 60
        },
        "template": {
         "data": {
          "bar": [
           {
            "error_x": {
             "color": "#2a3f5f"
            },
            "error_y": {
             "color": "#2a3f5f"
            },
            "marker": {
             "line": {
              "color": "#E5ECF6",
              "width": 0.5
             },
             "pattern": {
              "fillmode": "overlay",
              "size": 10,
              "solidity": 0.2
             }
            },
            "type": "bar"
           }
          ],
          "barpolar": [
           {
            "marker": {
             "line": {
              "color": "#E5ECF6",
              "width": 0.5
             },
             "pattern": {
              "fillmode": "overlay",
              "size": 10,
              "solidity": 0.2
             }
            },
            "type": "barpolar"
           }
          ],
          "carpet": [
           {
            "aaxis": {
             "endlinecolor": "#2a3f5f",
             "gridcolor": "white",
             "linecolor": "white",
             "minorgridcolor": "white",
             "startlinecolor": "#2a3f5f"
            },
            "baxis": {
             "endlinecolor": "#2a3f5f",
             "gridcolor": "white",
             "linecolor": "white",
             "minorgridcolor": "white",
             "startlinecolor": "#2a3f5f"
            },
            "type": "carpet"
           }
          ],
          "choropleth": [
           {
            "colorbar": {
             "outlinewidth": 0,
             "ticks": ""
            },
            "type": "choropleth"
           }
          ],
          "contour": [
           {
            "colorbar": {
             "outlinewidth": 0,
             "ticks": ""
            },
            "colorscale": [
             [
              0,
              "#0d0887"
             ],
             [
              0.1111111111111111,
              "#46039f"
             ],
             [
              0.2222222222222222,
              "#7201a8"
             ],
             [
              0.3333333333333333,
              "#9c179e"
             ],
             [
              0.4444444444444444,
              "#bd3786"
             ],
             [
              0.5555555555555556,
              "#d8576b"
             ],
             [
              0.6666666666666666,
              "#ed7953"
             ],
             [
              0.7777777777777778,
              "#fb9f3a"
             ],
             [
              0.8888888888888888,
              "#fdca26"
             ],
             [
              1,
              "#f0f921"
             ]
            ],
            "type": "contour"
           }
          ],
          "contourcarpet": [
           {
            "colorbar": {
             "outlinewidth": 0,
             "ticks": ""
            },
            "type": "contourcarpet"
           }
          ],
          "heatmap": [
           {
            "colorbar": {
             "outlinewidth": 0,
             "ticks": ""
            },
            "colorscale": [
             [
              0,
              "#0d0887"
             ],
             [
              0.1111111111111111,
              "#46039f"
             ],
             [
              0.2222222222222222,
              "#7201a8"
             ],
             [
              0.3333333333333333,
              "#9c179e"
             ],
             [
              0.4444444444444444,
              "#bd3786"
             ],
             [
              0.5555555555555556,
              "#d8576b"
             ],
             [
              0.6666666666666666,
              "#ed7953"
             ],
             [
              0.7777777777777778,
              "#fb9f3a"
             ],
             [
              0.8888888888888888,
              "#fdca26"
             ],
             [
              1,
              "#f0f921"
             ]
            ],
            "type": "heatmap"
           }
          ],
          "heatmapgl": [
           {
            "colorbar": {
             "outlinewidth": 0,
             "ticks": ""
            },
            "colorscale": [
             [
              0,
              "#0d0887"
             ],
             [
              0.1111111111111111,
              "#46039f"
             ],
             [
              0.2222222222222222,
              "#7201a8"
             ],
             [
              0.3333333333333333,
              "#9c179e"
             ],
             [
              0.4444444444444444,
              "#bd3786"
             ],
             [
              0.5555555555555556,
              "#d8576b"
             ],
             [
              0.6666666666666666,
              "#ed7953"
             ],
             [
              0.7777777777777778,
              "#fb9f3a"
             ],
             [
              0.8888888888888888,
              "#fdca26"
             ],
             [
              1,
              "#f0f921"
             ]
            ],
            "type": "heatmapgl"
           }
          ],
          "histogram": [
           {
            "marker": {
             "pattern": {
              "fillmode": "overlay",
              "size": 10,
              "solidity": 0.2
             }
            },
            "type": "histogram"
           }
          ],
          "histogram2d": [
           {
            "colorbar": {
             "outlinewidth": 0,
             "ticks": ""
            },
            "colorscale": [
             [
              0,
              "#0d0887"
             ],
             [
              0.1111111111111111,
              "#46039f"
             ],
             [
              0.2222222222222222,
              "#7201a8"
             ],
             [
              0.3333333333333333,
              "#9c179e"
             ],
             [
              0.4444444444444444,
              "#bd3786"
             ],
             [
              0.5555555555555556,
              "#d8576b"
             ],
             [
              0.6666666666666666,
              "#ed7953"
             ],
             [
              0.7777777777777778,
              "#fb9f3a"
             ],
             [
              0.8888888888888888,
              "#fdca26"
             ],
             [
              1,
              "#f0f921"
             ]
            ],
            "type": "histogram2d"
           }
          ],
          "histogram2dcontour": [
           {
            "colorbar": {
             "outlinewidth": 0,
             "ticks": ""
            },
            "colorscale": [
             [
              0,
              "#0d0887"
             ],
             [
              0.1111111111111111,
              "#46039f"
             ],
             [
              0.2222222222222222,
              "#7201a8"
             ],
             [
              0.3333333333333333,
              "#9c179e"
             ],
             [
              0.4444444444444444,
              "#bd3786"
             ],
             [
              0.5555555555555556,
              "#d8576b"
             ],
             [
              0.6666666666666666,
              "#ed7953"
             ],
             [
              0.7777777777777778,
              "#fb9f3a"
             ],
             [
              0.8888888888888888,
              "#fdca26"
             ],
             [
              1,
              "#f0f921"
             ]
            ],
            "type": "histogram2dcontour"
           }
          ],
          "mesh3d": [
           {
            "colorbar": {
             "outlinewidth": 0,
             "ticks": ""
            },
            "type": "mesh3d"
           }
          ],
          "parcoords": [
           {
            "line": {
             "colorbar": {
              "outlinewidth": 0,
              "ticks": ""
             }
            },
            "type": "parcoords"
           }
          ],
          "pie": [
           {
            "automargin": true,
            "type": "pie"
           }
          ],
          "scatter": [
           {
            "marker": {
             "colorbar": {
              "outlinewidth": 0,
              "ticks": ""
             }
            },
            "type": "scatter"
           }
          ],
          "scatter3d": [
           {
            "line": {
             "colorbar": {
              "outlinewidth": 0,
              "ticks": ""
             }
            },
            "marker": {
             "colorbar": {
              "outlinewidth": 0,
              "ticks": ""
             }
            },
            "type": "scatter3d"
           }
          ],
          "scattercarpet": [
           {
            "marker": {
             "colorbar": {
              "outlinewidth": 0,
              "ticks": ""
             }
            },
            "type": "scattercarpet"
           }
          ],
          "scattergeo": [
           {
            "marker": {
             "colorbar": {
              "outlinewidth": 0,
              "ticks": ""
             }
            },
            "type": "scattergeo"
           }
          ],
          "scattergl": [
           {
            "marker": {
             "colorbar": {
              "outlinewidth": 0,
              "ticks": ""
             }
            },
            "type": "scattergl"
           }
          ],
          "scattermapbox": [
           {
            "marker": {
             "colorbar": {
              "outlinewidth": 0,
              "ticks": ""
             }
            },
            "type": "scattermapbox"
           }
          ],
          "scatterpolar": [
           {
            "marker": {
             "colorbar": {
              "outlinewidth": 0,
              "ticks": ""
             }
            },
            "type": "scatterpolar"
           }
          ],
          "scatterpolargl": [
           {
            "marker": {
             "colorbar": {
              "outlinewidth": 0,
              "ticks": ""
             }
            },
            "type": "scatterpolargl"
           }
          ],
          "scatterternary": [
           {
            "marker": {
             "colorbar": {
              "outlinewidth": 0,
              "ticks": ""
             }
            },
            "type": "scatterternary"
           }
          ],
          "surface": [
           {
            "colorbar": {
             "outlinewidth": 0,
             "ticks": ""
            },
            "colorscale": [
             [
              0,
              "#0d0887"
             ],
             [
              0.1111111111111111,
              "#46039f"
             ],
             [
              0.2222222222222222,
              "#7201a8"
             ],
             [
              0.3333333333333333,
              "#9c179e"
             ],
             [
              0.4444444444444444,
              "#bd3786"
             ],
             [
              0.5555555555555556,
              "#d8576b"
             ],
             [
              0.6666666666666666,
              "#ed7953"
             ],
             [
              0.7777777777777778,
              "#fb9f3a"
             ],
             [
              0.8888888888888888,
              "#fdca26"
             ],
             [
              1,
              "#f0f921"
             ]
            ],
            "type": "surface"
           }
          ],
          "table": [
           {
            "cells": {
             "fill": {
              "color": "#EBF0F8"
             },
             "line": {
              "color": "white"
             }
            },
            "header": {
             "fill": {
              "color": "#C8D4E3"
             },
             "line": {
              "color": "white"
             }
            },
            "type": "table"
           }
          ]
         },
         "layout": {
          "annotationdefaults": {
           "arrowcolor": "#2a3f5f",
           "arrowhead": 0,
           "arrowwidth": 1
          },
          "autotypenumbers": "strict",
          "coloraxis": {
           "colorbar": {
            "outlinewidth": 0,
            "ticks": ""
           }
          },
          "colorscale": {
           "diverging": [
            [
             0,
             "#8e0152"
            ],
            [
             0.1,
             "#c51b7d"
            ],
            [
             0.2,
             "#de77ae"
            ],
            [
             0.3,
             "#f1b6da"
            ],
            [
             0.4,
             "#fde0ef"
            ],
            [
             0.5,
             "#f7f7f7"
            ],
            [
             0.6,
             "#e6f5d0"
            ],
            [
             0.7,
             "#b8e186"
            ],
            [
             0.8,
             "#7fbc41"
            ],
            [
             0.9,
             "#4d9221"
            ],
            [
             1,
             "#276419"
            ]
           ],
           "sequential": [
            [
             0,
             "#0d0887"
            ],
            [
             0.1111111111111111,
             "#46039f"
            ],
            [
             0.2222222222222222,
             "#7201a8"
            ],
            [
             0.3333333333333333,
             "#9c179e"
            ],
            [
             0.4444444444444444,
             "#bd3786"
            ],
            [
             0.5555555555555556,
             "#d8576b"
            ],
            [
             0.6666666666666666,
             "#ed7953"
            ],
            [
             0.7777777777777778,
             "#fb9f3a"
            ],
            [
             0.8888888888888888,
             "#fdca26"
            ],
            [
             1,
             "#f0f921"
            ]
           ],
           "sequentialminus": [
            [
             0,
             "#0d0887"
            ],
            [
             0.1111111111111111,
             "#46039f"
            ],
            [
             0.2222222222222222,
             "#7201a8"
            ],
            [
             0.3333333333333333,
             "#9c179e"
            ],
            [
             0.4444444444444444,
             "#bd3786"
            ],
            [
             0.5555555555555556,
             "#d8576b"
            ],
            [
             0.6666666666666666,
             "#ed7953"
            ],
            [
             0.7777777777777778,
             "#fb9f3a"
            ],
            [
             0.8888888888888888,
             "#fdca26"
            ],
            [
             1,
             "#f0f921"
            ]
           ]
          },
          "colorway": [
           "#636efa",
           "#EF553B",
           "#00cc96",
           "#ab63fa",
           "#FFA15A",
           "#19d3f3",
           "#FF6692",
           "#B6E880",
           "#FF97FF",
           "#FECB52"
          ],
          "font": {
           "color": "#2a3f5f"
          },
          "geo": {
           "bgcolor": "white",
           "lakecolor": "white",
           "landcolor": "#E5ECF6",
           "showlakes": true,
           "showland": true,
           "subunitcolor": "white"
          },
          "hoverlabel": {
           "align": "left"
          },
          "hovermode": "closest",
          "mapbox": {
           "style": "light"
          },
          "paper_bgcolor": "white",
          "plot_bgcolor": "#E5ECF6",
          "polar": {
           "angularaxis": {
            "gridcolor": "white",
            "linecolor": "white",
            "ticks": ""
           },
           "bgcolor": "#E5ECF6",
           "radialaxis": {
            "gridcolor": "white",
            "linecolor": "white",
            "ticks": ""
           }
          },
          "scene": {
           "xaxis": {
            "backgroundcolor": "#E5ECF6",
            "gridcolor": "white",
            "gridwidth": 2,
            "linecolor": "white",
            "showbackground": true,
            "ticks": "",
            "zerolinecolor": "white"
           },
           "yaxis": {
            "backgroundcolor": "#E5ECF6",
            "gridcolor": "white",
            "gridwidth": 2,
            "linecolor": "white",
            "showbackground": true,
            "ticks": "",
            "zerolinecolor": "white"
           },
           "zaxis": {
            "backgroundcolor": "#E5ECF6",
            "gridcolor": "white",
            "gridwidth": 2,
            "linecolor": "white",
            "showbackground": true,
            "ticks": "",
            "zerolinecolor": "white"
           }
          },
          "shapedefaults": {
           "line": {
            "color": "#2a3f5f"
           }
          },
          "ternary": {
           "aaxis": {
            "gridcolor": "white",
            "linecolor": "white",
            "ticks": ""
           },
           "baxis": {
            "gridcolor": "white",
            "linecolor": "white",
            "ticks": ""
           },
           "bgcolor": "#E5ECF6",
           "caxis": {
            "gridcolor": "white",
            "linecolor": "white",
            "ticks": ""
           }
          },
          "title": {
           "x": 0.05
          },
          "xaxis": {
           "automargin": true,
           "gridcolor": "white",
           "linecolor": "white",
           "ticks": "",
           "title": {
            "standoff": 15
           },
           "zerolinecolor": "white",
           "zerolinewidth": 2
          },
          "yaxis": {
           "automargin": true,
           "gridcolor": "white",
           "linecolor": "white",
           "ticks": "",
           "title": {
            "standoff": 15
           },
           "zerolinecolor": "white",
           "zerolinewidth": 2
          }
         }
        }
       }
      }
     },
     "metadata": {},
     "output_type": "display_data"
    }
   ],
   "source": [
    "# Parallel Coordinates Plot\n",
    "# YOUR CODE HERE!\n",
    "top_expensiv = sfo_data.groupby(by=\"neighborhood\").mean()\n",
    "top_expensive= dataframe_exp_neighbor_per_year.sort_values(\n",
    "by=\"sale_price_sqr_foot\", ascending=False).head(10)\n",
    "top_expensive = top_expensive.reset_index()\n",
    "\n",
    "parallel_coordinates = px.parallel_coordinates(\n",
    "    top_expensive,\n",
    "    color=\"sale_price_sqr_foot\",\n",
    "    color_continuous_scale=px.colors.sequential.Inferno,\n",
    ")\n",
    "parallel_coordinates"
   ]
  },
  {
   "cell_type": "markdown",
   "metadata": {},
   "source": [
    "### Create a sunburst chart to conduct a costs analysis of most expensive neighborhoods in San Francisco per year"
   ]
  },
  {
   "cell_type": "code",
   "execution_count": 102,
   "metadata": {},
   "outputs": [
    {
     "data": {
      "application/vnd.plotly.v1+json": {
       "config": {
        "plotlyServerURL": "https://plot.ly"
       },
       "data": [
        {
         "branchvalues": "total",
         "customdata": [
          [
           1239
          ],
          [
           1530
          ],
          [
           2324
          ],
          [
           2971
          ],
          [
           3528
          ],
          [
           3739
          ],
          [
           4390
          ],
          [
           2324
          ],
          [
           3528
          ],
          [
           4390
          ],
          [
           1239
          ],
          [
           1530
          ],
          [
           2324
          ],
          [
           3528
          ],
          [
           1239
          ],
          [
           1530
          ],
          [
           2324
          ],
          [
           2971
          ],
          [
           3528
          ],
          [
           3739
          ],
          [
           4390
          ],
          [
           1239
          ],
          [
           1530
          ],
          [
           2324
          ],
          [
           2971
          ],
          [
           3528
          ],
          [
           3739
          ],
          [
           4390
          ],
          [
           1239
          ],
          [
           1530
          ],
          [
           2324
          ],
          [
           2971
          ],
          [
           3528
          ],
          [
           3739
          ],
          [
           4390
          ],
          [
           1239
          ],
          [
           1530
          ],
          [
           3528
          ],
          [
           1239
          ],
          [
           1530
          ],
          [
           2324
          ],
          [
           2971
          ],
          [
           3528
          ],
          [
           3739
          ],
          [
           4390
          ],
          [
           1239
          ],
          [
           1530
          ],
          [
           2324
          ],
          [
           2971
          ],
          [
           3528
          ],
          [
           3739
          ],
          [
           3528
          ],
          [
           4390
          ],
          [
           1239
          ],
          [
           1530
          ],
          [
           2324
          ],
          [
           2971
          ],
          [
           3528
          ],
          [
           3739
          ],
          [
           4390
          ]
         ],
         "domain": {
          "x": [
           0,
           1
          ],
          "y": [
           0,
           1
          ]
         },
         "hovertemplate": "labels=%{label}<br>gross_rent_sum=%{value}<br>parent=%{parent}<br>id=%{id}<br>gross_rent=%{color}<extra></extra>",
         "ids": [
          "2010/Cow Hollow",
          "2011/Cow Hollow",
          "2012/Cow Hollow",
          "2013/Cow Hollow",
          "2014/Cow Hollow",
          "2015/Cow Hollow",
          "2016/Cow Hollow",
          "2012/Merced Heights",
          "2014/Merced Heights",
          "2016/Merced Heights",
          "2010/Miraloma Park",
          "2011/Miraloma Park",
          "2012/Miraloma Park",
          "2014/Miraloma Park",
          "2010/Pacific Heights",
          "2011/Pacific Heights",
          "2012/Pacific Heights",
          "2013/Pacific Heights",
          "2014/Pacific Heights",
          "2015/Pacific Heights",
          "2016/Pacific Heights",
          "2010/Potrero Hill",
          "2011/Potrero Hill",
          "2012/Potrero Hill",
          "2013/Potrero Hill",
          "2014/Potrero Hill",
          "2015/Potrero Hill",
          "2016/Potrero Hill",
          "2010/Presidio Heights",
          "2011/Presidio Heights",
          "2012/Presidio Heights",
          "2013/Presidio Heights",
          "2014/Presidio Heights",
          "2015/Presidio Heights",
          "2016/Presidio Heights",
          "2010/South Beach",
          "2011/South Beach",
          "2014/South Beach",
          "2010/Telegraph Hill",
          "2011/Telegraph Hill",
          "2012/Telegraph Hill",
          "2013/Telegraph Hill",
          "2014/Telegraph Hill",
          "2015/Telegraph Hill",
          "2016/Telegraph Hill",
          "2010/Union Square District",
          "2011/Union Square District",
          "2012/Union Square District",
          "2013/Union Square District",
          "2014/Union Square District",
          "2015/Union Square District",
          "2014/Westwood Park",
          "2016/Westwood Park",
          "2010",
          "2011",
          "2012",
          "2013",
          "2014",
          "2015",
          "2016"
         ],
         "labels": [
          "Cow Hollow",
          "Cow Hollow",
          "Cow Hollow",
          "Cow Hollow",
          "Cow Hollow",
          "Cow Hollow",
          "Cow Hollow",
          "Merced Heights",
          "Merced Heights",
          "Merced Heights",
          "Miraloma Park",
          "Miraloma Park",
          "Miraloma Park",
          "Miraloma Park",
          "Pacific Heights",
          "Pacific Heights",
          "Pacific Heights",
          "Pacific Heights",
          "Pacific Heights",
          "Pacific Heights",
          "Pacific Heights",
          "Potrero Hill",
          "Potrero Hill",
          "Potrero Hill",
          "Potrero Hill",
          "Potrero Hill",
          "Potrero Hill",
          "Potrero Hill",
          "Presidio Heights",
          "Presidio Heights",
          "Presidio Heights",
          "Presidio Heights",
          "Presidio Heights",
          "Presidio Heights",
          "Presidio Heights",
          "South Beach",
          "South Beach",
          "South Beach",
          "Telegraph Hill",
          "Telegraph Hill",
          "Telegraph Hill",
          "Telegraph Hill",
          "Telegraph Hill",
          "Telegraph Hill",
          "Telegraph Hill",
          "Union Square District",
          "Union Square District",
          "Union Square District",
          "Union Square District",
          "Union Square District",
          "Union Square District",
          "Westwood Park",
          "Westwood Park",
          "2010",
          "2011",
          "2012",
          "2013",
          "2014",
          "2015",
          "2016"
         ],
         "marker": {
          "coloraxis": "coloraxis",
          "colors": [
           1239,
           1530,
           2324,
           2971,
           3528,
           3739,
           4390,
           2324,
           3528,
           4390,
           1239,
           1530,
           2324,
           3528,
           1239,
           1530,
           2324,
           2971,
           3528,
           3739,
           4390,
           1239,
           1530,
           2324,
           2971,
           3528,
           3739,
           4390,
           1239,
           1530,
           2324,
           2971,
           3528,
           3739,
           4390,
           1239,
           1530,
           3528,
           1239,
           1530,
           2324,
           2971,
           3528,
           3739,
           4390,
           1239,
           1530,
           2324,
           2971,
           3528,
           3739,
           3528,
           4390,
           1239,
           1530,
           2324,
           2971,
           3528,
           3739,
           4390
          ]
         },
         "name": "",
         "parents": [
          "2010",
          "2011",
          "2012",
          "2013",
          "2014",
          "2015",
          "2016",
          "2012",
          "2014",
          "2016",
          "2010",
          "2011",
          "2012",
          "2014",
          "2010",
          "2011",
          "2012",
          "2013",
          "2014",
          "2015",
          "2016",
          "2010",
          "2011",
          "2012",
          "2013",
          "2014",
          "2015",
          "2016",
          "2010",
          "2011",
          "2012",
          "2013",
          "2014",
          "2015",
          "2016",
          "2010",
          "2011",
          "2014",
          "2010",
          "2011",
          "2012",
          "2013",
          "2014",
          "2015",
          "2016",
          "2010",
          "2011",
          "2012",
          "2013",
          "2014",
          "2015",
          "2014",
          "2016",
          "",
          "",
          "",
          "",
          "",
          "",
          ""
         ],
         "type": "sunburst",
         "values": [
          1239,
          1530,
          2324,
          2971,
          3528,
          3739,
          4390,
          2324,
          3528,
          4390,
          1239,
          1530,
          2324,
          3528,
          1239,
          1530,
          2324,
          2971,
          3528,
          3739,
          4390,
          1239,
          1530,
          2324,
          2971,
          3528,
          3739,
          4390,
          1239,
          1530,
          2324,
          2971,
          3528,
          3739,
          4390,
          1239,
          1530,
          3528,
          1239,
          1530,
          2324,
          2971,
          3528,
          3739,
          4390,
          1239,
          1530,
          2324,
          2971,
          3528,
          3739,
          3528,
          4390,
          9912,
          12240,
          18592,
          17826,
          35280,
          22434,
          30730
         ]
        }
       ],
       "layout": {
        "coloraxis": {
         "cmid": 3199.9012883126775,
         "colorbar": {
          "title": {
           "text": "gross_rent"
          }
         },
         "colorscale": [
          [
           0,
           "#0d0887"
          ],
          [
           0.1111111111111111,
           "#46039f"
          ],
          [
           0.2222222222222222,
           "#7201a8"
          ],
          [
           0.3333333333333333,
           "#9c179e"
          ],
          [
           0.4444444444444444,
           "#bd3786"
          ],
          [
           0.5555555555555556,
           "#d8576b"
          ],
          [
           0.6666666666666666,
           "#ed7953"
          ],
          [
           0.7777777777777778,
           "#fb9f3a"
          ],
          [
           0.8888888888888888,
           "#fdca26"
          ],
          [
           1,
           "#f0f921"
          ]
         ]
        },
        "legend": {
         "tracegroupgap": 0
        },
        "margin": {
         "t": 60
        },
        "template": {
         "data": {
          "bar": [
           {
            "error_x": {
             "color": "#2a3f5f"
            },
            "error_y": {
             "color": "#2a3f5f"
            },
            "marker": {
             "line": {
              "color": "#E5ECF6",
              "width": 0.5
             },
             "pattern": {
              "fillmode": "overlay",
              "size": 10,
              "solidity": 0.2
             }
            },
            "type": "bar"
           }
          ],
          "barpolar": [
           {
            "marker": {
             "line": {
              "color": "#E5ECF6",
              "width": 0.5
             },
             "pattern": {
              "fillmode": "overlay",
              "size": 10,
              "solidity": 0.2
             }
            },
            "type": "barpolar"
           }
          ],
          "carpet": [
           {
            "aaxis": {
             "endlinecolor": "#2a3f5f",
             "gridcolor": "white",
             "linecolor": "white",
             "minorgridcolor": "white",
             "startlinecolor": "#2a3f5f"
            },
            "baxis": {
             "endlinecolor": "#2a3f5f",
             "gridcolor": "white",
             "linecolor": "white",
             "minorgridcolor": "white",
             "startlinecolor": "#2a3f5f"
            },
            "type": "carpet"
           }
          ],
          "choropleth": [
           {
            "colorbar": {
             "outlinewidth": 0,
             "ticks": ""
            },
            "type": "choropleth"
           }
          ],
          "contour": [
           {
            "colorbar": {
             "outlinewidth": 0,
             "ticks": ""
            },
            "colorscale": [
             [
              0,
              "#0d0887"
             ],
             [
              0.1111111111111111,
              "#46039f"
             ],
             [
              0.2222222222222222,
              "#7201a8"
             ],
             [
              0.3333333333333333,
              "#9c179e"
             ],
             [
              0.4444444444444444,
              "#bd3786"
             ],
             [
              0.5555555555555556,
              "#d8576b"
             ],
             [
              0.6666666666666666,
              "#ed7953"
             ],
             [
              0.7777777777777778,
              "#fb9f3a"
             ],
             [
              0.8888888888888888,
              "#fdca26"
             ],
             [
              1,
              "#f0f921"
             ]
            ],
            "type": "contour"
           }
          ],
          "contourcarpet": [
           {
            "colorbar": {
             "outlinewidth": 0,
             "ticks": ""
            },
            "type": "contourcarpet"
           }
          ],
          "heatmap": [
           {
            "colorbar": {
             "outlinewidth": 0,
             "ticks": ""
            },
            "colorscale": [
             [
              0,
              "#0d0887"
             ],
             [
              0.1111111111111111,
              "#46039f"
             ],
             [
              0.2222222222222222,
              "#7201a8"
             ],
             [
              0.3333333333333333,
              "#9c179e"
             ],
             [
              0.4444444444444444,
              "#bd3786"
             ],
             [
              0.5555555555555556,
              "#d8576b"
             ],
             [
              0.6666666666666666,
              "#ed7953"
             ],
             [
              0.7777777777777778,
              "#fb9f3a"
             ],
             [
              0.8888888888888888,
              "#fdca26"
             ],
             [
              1,
              "#f0f921"
             ]
            ],
            "type": "heatmap"
           }
          ],
          "heatmapgl": [
           {
            "colorbar": {
             "outlinewidth": 0,
             "ticks": ""
            },
            "colorscale": [
             [
              0,
              "#0d0887"
             ],
             [
              0.1111111111111111,
              "#46039f"
             ],
             [
              0.2222222222222222,
              "#7201a8"
             ],
             [
              0.3333333333333333,
              "#9c179e"
             ],
             [
              0.4444444444444444,
              "#bd3786"
             ],
             [
              0.5555555555555556,
              "#d8576b"
             ],
             [
              0.6666666666666666,
              "#ed7953"
             ],
             [
              0.7777777777777778,
              "#fb9f3a"
             ],
             [
              0.8888888888888888,
              "#fdca26"
             ],
             [
              1,
              "#f0f921"
             ]
            ],
            "type": "heatmapgl"
           }
          ],
          "histogram": [
           {
            "marker": {
             "pattern": {
              "fillmode": "overlay",
              "size": 10,
              "solidity": 0.2
             }
            },
            "type": "histogram"
           }
          ],
          "histogram2d": [
           {
            "colorbar": {
             "outlinewidth": 0,
             "ticks": ""
            },
            "colorscale": [
             [
              0,
              "#0d0887"
             ],
             [
              0.1111111111111111,
              "#46039f"
             ],
             [
              0.2222222222222222,
              "#7201a8"
             ],
             [
              0.3333333333333333,
              "#9c179e"
             ],
             [
              0.4444444444444444,
              "#bd3786"
             ],
             [
              0.5555555555555556,
              "#d8576b"
             ],
             [
              0.6666666666666666,
              "#ed7953"
             ],
             [
              0.7777777777777778,
              "#fb9f3a"
             ],
             [
              0.8888888888888888,
              "#fdca26"
             ],
             [
              1,
              "#f0f921"
             ]
            ],
            "type": "histogram2d"
           }
          ],
          "histogram2dcontour": [
           {
            "colorbar": {
             "outlinewidth": 0,
             "ticks": ""
            },
            "colorscale": [
             [
              0,
              "#0d0887"
             ],
             [
              0.1111111111111111,
              "#46039f"
             ],
             [
              0.2222222222222222,
              "#7201a8"
             ],
             [
              0.3333333333333333,
              "#9c179e"
             ],
             [
              0.4444444444444444,
              "#bd3786"
             ],
             [
              0.5555555555555556,
              "#d8576b"
             ],
             [
              0.6666666666666666,
              "#ed7953"
             ],
             [
              0.7777777777777778,
              "#fb9f3a"
             ],
             [
              0.8888888888888888,
              "#fdca26"
             ],
             [
              1,
              "#f0f921"
             ]
            ],
            "type": "histogram2dcontour"
           }
          ],
          "mesh3d": [
           {
            "colorbar": {
             "outlinewidth": 0,
             "ticks": ""
            },
            "type": "mesh3d"
           }
          ],
          "parcoords": [
           {
            "line": {
             "colorbar": {
              "outlinewidth": 0,
              "ticks": ""
             }
            },
            "type": "parcoords"
           }
          ],
          "pie": [
           {
            "automargin": true,
            "type": "pie"
           }
          ],
          "scatter": [
           {
            "marker": {
             "colorbar": {
              "outlinewidth": 0,
              "ticks": ""
             }
            },
            "type": "scatter"
           }
          ],
          "scatter3d": [
           {
            "line": {
             "colorbar": {
              "outlinewidth": 0,
              "ticks": ""
             }
            },
            "marker": {
             "colorbar": {
              "outlinewidth": 0,
              "ticks": ""
             }
            },
            "type": "scatter3d"
           }
          ],
          "scattercarpet": [
           {
            "marker": {
             "colorbar": {
              "outlinewidth": 0,
              "ticks": ""
             }
            },
            "type": "scattercarpet"
           }
          ],
          "scattergeo": [
           {
            "marker": {
             "colorbar": {
              "outlinewidth": 0,
              "ticks": ""
             }
            },
            "type": "scattergeo"
           }
          ],
          "scattergl": [
           {
            "marker": {
             "colorbar": {
              "outlinewidth": 0,
              "ticks": ""
             }
            },
            "type": "scattergl"
           }
          ],
          "scattermapbox": [
           {
            "marker": {
             "colorbar": {
              "outlinewidth": 0,
              "ticks": ""
             }
            },
            "type": "scattermapbox"
           }
          ],
          "scatterpolar": [
           {
            "marker": {
             "colorbar": {
              "outlinewidth": 0,
              "ticks": ""
             }
            },
            "type": "scatterpolar"
           }
          ],
          "scatterpolargl": [
           {
            "marker": {
             "colorbar": {
              "outlinewidth": 0,
              "ticks": ""
             }
            },
            "type": "scatterpolargl"
           }
          ],
          "scatterternary": [
           {
            "marker": {
             "colorbar": {
              "outlinewidth": 0,
              "ticks": ""
             }
            },
            "type": "scatterternary"
           }
          ],
          "surface": [
           {
            "colorbar": {
             "outlinewidth": 0,
             "ticks": ""
            },
            "colorscale": [
             [
              0,
              "#0d0887"
             ],
             [
              0.1111111111111111,
              "#46039f"
             ],
             [
              0.2222222222222222,
              "#7201a8"
             ],
             [
              0.3333333333333333,
              "#9c179e"
             ],
             [
              0.4444444444444444,
              "#bd3786"
             ],
             [
              0.5555555555555556,
              "#d8576b"
             ],
             [
              0.6666666666666666,
              "#ed7953"
             ],
             [
              0.7777777777777778,
              "#fb9f3a"
             ],
             [
              0.8888888888888888,
              "#fdca26"
             ],
             [
              1,
              "#f0f921"
             ]
            ],
            "type": "surface"
           }
          ],
          "table": [
           {
            "cells": {
             "fill": {
              "color": "#EBF0F8"
             },
             "line": {
              "color": "white"
             }
            },
            "header": {
             "fill": {
              "color": "#C8D4E3"
             },
             "line": {
              "color": "white"
             }
            },
            "type": "table"
           }
          ]
         },
         "layout": {
          "annotationdefaults": {
           "arrowcolor": "#2a3f5f",
           "arrowhead": 0,
           "arrowwidth": 1
          },
          "autotypenumbers": "strict",
          "coloraxis": {
           "colorbar": {
            "outlinewidth": 0,
            "ticks": ""
           }
          },
          "colorscale": {
           "diverging": [
            [
             0,
             "#8e0152"
            ],
            [
             0.1,
             "#c51b7d"
            ],
            [
             0.2,
             "#de77ae"
            ],
            [
             0.3,
             "#f1b6da"
            ],
            [
             0.4,
             "#fde0ef"
            ],
            [
             0.5,
             "#f7f7f7"
            ],
            [
             0.6,
             "#e6f5d0"
            ],
            [
             0.7,
             "#b8e186"
            ],
            [
             0.8,
             "#7fbc41"
            ],
            [
             0.9,
             "#4d9221"
            ],
            [
             1,
             "#276419"
            ]
           ],
           "sequential": [
            [
             0,
             "#0d0887"
            ],
            [
             0.1111111111111111,
             "#46039f"
            ],
            [
             0.2222222222222222,
             "#7201a8"
            ],
            [
             0.3333333333333333,
             "#9c179e"
            ],
            [
             0.4444444444444444,
             "#bd3786"
            ],
            [
             0.5555555555555556,
             "#d8576b"
            ],
            [
             0.6666666666666666,
             "#ed7953"
            ],
            [
             0.7777777777777778,
             "#fb9f3a"
            ],
            [
             0.8888888888888888,
             "#fdca26"
            ],
            [
             1,
             "#f0f921"
            ]
           ],
           "sequentialminus": [
            [
             0,
             "#0d0887"
            ],
            [
             0.1111111111111111,
             "#46039f"
            ],
            [
             0.2222222222222222,
             "#7201a8"
            ],
            [
             0.3333333333333333,
             "#9c179e"
            ],
            [
             0.4444444444444444,
             "#bd3786"
            ],
            [
             0.5555555555555556,
             "#d8576b"
            ],
            [
             0.6666666666666666,
             "#ed7953"
            ],
            [
             0.7777777777777778,
             "#fb9f3a"
            ],
            [
             0.8888888888888888,
             "#fdca26"
            ],
            [
             1,
             "#f0f921"
            ]
           ]
          },
          "colorway": [
           "#636efa",
           "#EF553B",
           "#00cc96",
           "#ab63fa",
           "#FFA15A",
           "#19d3f3",
           "#FF6692",
           "#B6E880",
           "#FF97FF",
           "#FECB52"
          ],
          "font": {
           "color": "#2a3f5f"
          },
          "geo": {
           "bgcolor": "white",
           "lakecolor": "white",
           "landcolor": "#E5ECF6",
           "showlakes": true,
           "showland": true,
           "subunitcolor": "white"
          },
          "hoverlabel": {
           "align": "left"
          },
          "hovermode": "closest",
          "mapbox": {
           "style": "light"
          },
          "paper_bgcolor": "white",
          "plot_bgcolor": "#E5ECF6",
          "polar": {
           "angularaxis": {
            "gridcolor": "white",
            "linecolor": "white",
            "ticks": ""
           },
           "bgcolor": "#E5ECF6",
           "radialaxis": {
            "gridcolor": "white",
            "linecolor": "white",
            "ticks": ""
           }
          },
          "scene": {
           "xaxis": {
            "backgroundcolor": "#E5ECF6",
            "gridcolor": "white",
            "gridwidth": 2,
            "linecolor": "white",
            "showbackground": true,
            "ticks": "",
            "zerolinecolor": "white"
           },
           "yaxis": {
            "backgroundcolor": "#E5ECF6",
            "gridcolor": "white",
            "gridwidth": 2,
            "linecolor": "white",
            "showbackground": true,
            "ticks": "",
            "zerolinecolor": "white"
           },
           "zaxis": {
            "backgroundcolor": "#E5ECF6",
            "gridcolor": "white",
            "gridwidth": 2,
            "linecolor": "white",
            "showbackground": true,
            "ticks": "",
            "zerolinecolor": "white"
           }
          },
          "shapedefaults": {
           "line": {
            "color": "#2a3f5f"
           }
          },
          "ternary": {
           "aaxis": {
            "gridcolor": "white",
            "linecolor": "white",
            "ticks": ""
           },
           "baxis": {
            "gridcolor": "white",
            "linecolor": "white",
            "ticks": ""
           },
           "bgcolor": "#E5ECF6",
           "caxis": {
            "gridcolor": "white",
            "linecolor": "white",
            "ticks": ""
           }
          },
          "title": {
           "x": 0.05
          },
          "xaxis": {
           "automargin": true,
           "gridcolor": "white",
           "linecolor": "white",
           "ticks": "",
           "title": {
            "standoff": 15
           },
           "zerolinecolor": "white",
           "zerolinewidth": 2
          },
          "yaxis": {
           "automargin": true,
           "gridcolor": "white",
           "linecolor": "white",
           "ticks": "",
           "title": {
            "standoff": 15
           },
           "zerolinecolor": "white",
           "zerolinewidth": 2
          }
         }
        }
       }
      }
     },
     "metadata": {},
     "output_type": "display_data"
    }
   ],
   "source": [
    "# Sunburst Plot\n",
    "# YOUR CODE HERE!\n",
    "fig = px.sunburst(dataframe_exp_neighbor_per_year, path=[dataframe_exp_neighbor_per_year[\"year\"], dataframe_exp_neighbor_per_year[\"neighborhood\"]], values=dataframe_exp_neighbor_per_year['gross_rent'],\n",
    "                  color=dataframe_exp_neighbor_per_year['gross_rent'], \n",
    "                 \n",
    "                  color_continuous_midpoint=np.average(dataframe_exp_neighbor_per_year['gross_rent'], weights=dataframe_exp_neighbor_per_year['gross_rent']))\n",
    "fig.show()"
   ]
  },
  {
   "cell_type": "code",
   "execution_count": null,
   "metadata": {},
   "outputs": [],
   "source": []
  }
 ],
 "metadata": {
  "file_extension": ".py",
  "interpreter": {
   "hash": "38740d3277777e2cd7c6c2cc9d8addf5118fdf3f82b1b39231fd12aeac8aee8b"
  },
  "kernelspec": {
   "display_name": "Python 3.9.1 64-bit",
   "name": "python3"
  },
  "language_info": {
   "codemirror_mode": {
    "name": "ipython",
    "version": 3
   },
   "file_extension": ".py",
   "mimetype": "text/x-python",
   "name": "python",
   "nbconvert_exporter": "python",
   "pygments_lexer": "ipython3",
   "version": "3.9.1"
  },
  "mimetype": "text/x-python",
  "name": "python",
  "npconvert_exporter": "python",
  "pygments_lexer": "ipython3",
  "version": 3
 },
 "nbformat": 4,
 "nbformat_minor": 4
}
